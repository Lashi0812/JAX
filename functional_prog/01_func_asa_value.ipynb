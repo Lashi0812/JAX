{
 "cells": [
  {
   "cell_type": "code",
   "execution_count": 1,
   "metadata": {},
   "outputs": [],
   "source": [
    "import numpy as np\n",
    "import jax\n",
    "import jax.numpy as jnp\n",
    "\n",
    "from typing import List, Callable\n",
    "from functools import partial"
   ]
  },
  {
   "cell_type": "code",
   "execution_count": 2,
   "metadata": {},
   "outputs": [],
   "source": [
    "def str_to_jax_array(word: str) -> jax.Array:\n",
    "    return jnp.array([ord(c) for c in word])"
   ]
  },
  {
   "cell_type": "code",
   "execution_count": 3,
   "metadata": {},
   "outputs": [],
   "source": [
    "def jax_array_to_str(arr: jax.Array) -> str:\n",
    "    return \"\".join([chr(i) for i in arr.tolist()])"
   ]
  },
  {
   "cell_type": "code",
   "execution_count": 4,
   "metadata": {},
   "outputs": [],
   "source": [
    "def list_str_to_jax_array(words: List[str]):\n",
    "    max_length = len(max(words, key=lambda x: len(x)))\n",
    "    arr = jnp.empty(shape=(len(words), max_length), dtype=jnp.int32)\n",
    "    for i, word in enumerate(words):\n",
    "        arr = arr.at[i, : len(word)].set(str_to_jax_array(word))\n",
    "    return arr"
   ]
  },
  {
   "cell_type": "code",
   "execution_count": 5,
   "metadata": {},
   "outputs": [],
   "source": [
    "def jax_array_to_list_str(arr: jax.Array) -> List[str]:\n",
    "    words = []\n",
    "    for row in arr:\n",
    "        if len(a := jnp.where(row == 0)[0]):\n",
    "            row = row[: a[0]]\n",
    "        words.append(jax_array_to_str(row))\n",
    "    return words"
   ]
  },
  {
   "cell_type": "markdown",
   "metadata": {},
   "source": [
    "# Ranking Word\n",
    "\n",
    "\n",
    "## Initial Requirement :\n",
    "\n",
    "Requirements for the word ranking\n",
    "1.  The score of a given word is calculated by giving one point for \n",
    "each letter that is not an 'a'\n",
    "2. For a given list of words, return a sorted list that starts with the \n",
    "highest-scoring word"
   ]
  },
  {
   "cell_type": "code",
   "execution_count": 6,
   "metadata": {},
   "outputs": [
    {
     "data": {
      "text/plain": [
       "Array(4, dtype=int32)"
      ]
     },
     "execution_count": 6,
     "metadata": {},
     "output_type": "execute_result"
    }
   ],
   "source": [
    "def j_score(word: jax.Array):\n",
    "    return jnp.sum(jnp.where((word != ord(\"a\")) & (word != 0), 1, 0))\n",
    "\n",
    "\n",
    "j_score(str_to_jax_array(\"rust\"))"
   ]
  },
  {
   "cell_type": "code",
   "execution_count": 7,
   "metadata": {},
   "outputs": [
    {
     "data": {
      "text/plain": [
       "4"
      ]
     },
     "execution_count": 7,
     "metadata": {},
     "output_type": "execute_result"
    }
   ],
   "source": [
    "def py_score(word: str) -> int:\n",
    "    return len(word.replace(\"a\", \"\"))\n",
    "\n",
    "\n",
    "py_score(\"rust\")"
   ]
  },
  {
   "cell_type": "code",
   "execution_count": 8,
   "metadata": {},
   "outputs": [],
   "source": [
    "py_words = [\"ada\", \"haskell\", \"scala\", \"java\", \"rust\"]\n",
    "jax_words = list_str_to_jax_array(py_words)"
   ]
  },
  {
   "cell_type": "code",
   "execution_count": 9,
   "metadata": {},
   "outputs": [
    {
     "data": {
      "text/plain": [
       "['haskell', 'rust', 'scala', 'java', 'ada']"
      ]
     },
     "execution_count": 9,
     "metadata": {},
     "output_type": "execute_result"
    }
   ],
   "source": [
    "def j_rankedWords(words: jax.Array, key: Callable[[jax.Array], jax.Array]) -> jax.Array:\n",
    "    return words[jnp.flip(jnp.apply_along_axis(key, axis=1, arr=words).argsort())]\n",
    "\n",
    "\n",
    "res = j_rankedWords(jax_words, j_score)\n",
    "jax_array_to_list_str(res)"
   ]
  },
  {
   "cell_type": "code",
   "execution_count": 10,
   "metadata": {},
   "outputs": [
    {
     "data": {
      "text/plain": [
       "['haskell', 'rust', 'scala', 'java', 'ada']"
      ]
     },
     "execution_count": 10,
     "metadata": {},
     "output_type": "execute_result"
    }
   ],
   "source": [
    "def py_rankedWords(words: List[str], key: Callable[[str], int]) -> List[str]:\n",
    "    return sorted(words, key=key, reverse=True)\n",
    "\n",
    "\n",
    "py_rankedWords(py_words, py_score)"
   ]
  },
  {
   "cell_type": "markdown",
   "metadata": {},
   "source": [
    "## Additional Requirement\n",
    "\n",
    "1. A bonus score of 5 needs to be added to the score if the word contains a c'.\n",
    "2. The old way of scoring (without the bonus) should still be supported in the code."
   ]
  },
  {
   "cell_type": "code",
   "execution_count": 11,
   "metadata": {},
   "outputs": [],
   "source": [
    "def j_score_with_bonus(word: jax.Array) -> jax.Array:\n",
    "    base = j_score(word)\n",
    "    if jnp.any(word == ord(\"c\")):\n",
    "        base += 5\n",
    "    return base"
   ]
  },
  {
   "cell_type": "code",
   "execution_count": 12,
   "metadata": {},
   "outputs": [],
   "source": [
    "def j_score_with_bonus_use_lax(word: jax.Array) -> jax.Array:\n",
    "    base = j_score(word)\n",
    "    bonus = jax.lax.cond(jnp.any(word == ord(\"c\")), lambda: 5, lambda: 0)\n",
    "    return base + bonus"
   ]
  },
  {
   "cell_type": "code",
   "execution_count": 13,
   "metadata": {},
   "outputs": [
    {
     "data": {
      "text/plain": [
       "['scala', 'haskell', 'rust', 'java', 'ada']"
      ]
     },
     "execution_count": 13,
     "metadata": {},
     "output_type": "execute_result"
    }
   ],
   "source": [
    "res = j_rankedWords(jax_words, j_score_with_bonus_use_lax)\n",
    "jax_array_to_list_str(res)"
   ]
  },
  {
   "cell_type": "code",
   "execution_count": 14,
   "metadata": {},
   "outputs": [],
   "source": [
    "def j_bonus(word: jax.Array) -> jax.Array:\n",
    "    return jax.lax.cond(jnp.any(word == ord(\"c\")), lambda: 5, lambda: 0)"
   ]
  },
  {
   "cell_type": "code",
   "execution_count": 15,
   "metadata": {},
   "outputs": [
    {
     "data": {
      "text/plain": [
       "['scala', 'haskell', 'rust', 'java', 'ada']"
      ]
     },
     "execution_count": 15,
     "metadata": {},
     "output_type": "execute_result"
    }
   ],
   "source": [
    "res = j_rankedWords(jax_words, lambda w: j_score(w) + j_bonus(w))\n",
    "jax_array_to_list_str(res)"
   ]
  },
  {
   "cell_type": "code",
   "execution_count": 16,
   "metadata": {},
   "outputs": [
    {
     "data": {
      "text/plain": [
       "['scala', 'haskell', 'rust', 'java', 'ada']"
      ]
     },
     "execution_count": 16,
     "metadata": {},
     "output_type": "execute_result"
    }
   ],
   "source": [
    "def py_score_with_bonus(word: str) -> int:\n",
    "    base = py_score(word)\n",
    "    bonus = 5 if \"c\" in word else 0\n",
    "    return base + bonus\n",
    "\n",
    "\n",
    "py_rankedWords(py_words, py_score_with_bonus)"
   ]
  },
  {
   "cell_type": "code",
   "execution_count": 17,
   "metadata": {},
   "outputs": [
    {
     "data": {
      "text/plain": [
       "['scala', 'haskell', 'rust', 'java', 'ada']"
      ]
     },
     "execution_count": 17,
     "metadata": {},
     "output_type": "execute_result"
    }
   ],
   "source": [
    "def py_bonus(word: str) -> int:\n",
    "    return 5 if \"c\" in word else 0\n",
    "\n",
    "\n",
    "py_rankedWords(py_words, lambda w: py_score(w) + py_bonus(w))"
   ]
  },
  {
   "cell_type": "markdown",
   "metadata": {},
   "source": [
    "## New requirement: Possibility of a penalty\n",
    "1. A penalty score of 7 needs to be subtracted from the score if the word contains an 's'.\n",
    "2. Old ways of scoring (with and without the bonus) should still be supported in the code."
   ]
  },
  {
   "cell_type": "code",
   "execution_count": 18,
   "metadata": {},
   "outputs": [],
   "source": [
    "def j_penalty(word: jax.Array):\n",
    "    return jax.lax.cond(jnp.any(word == ord(\"s\")), lambda: 7, lambda: 0)"
   ]
  },
  {
   "cell_type": "code",
   "execution_count": 19,
   "metadata": {},
   "outputs": [
    {
     "data": {
      "text/plain": [
       "Array(0, dtype=int32, weak_type=True)"
      ]
     },
     "execution_count": 19,
     "metadata": {},
     "output_type": "execute_result"
    }
   ],
   "source": [
    "j_penalty(str_to_jax_array(\"ada\"))"
   ]
  },
  {
   "cell_type": "code",
   "execution_count": 20,
   "metadata": {},
   "outputs": [
    {
     "data": {
      "text/plain": [
       "['java', 'scala', 'ada', 'haskell', 'rust']"
      ]
     },
     "execution_count": 20,
     "metadata": {},
     "output_type": "execute_result"
    }
   ],
   "source": [
    "res = j_rankedWords(jax_words, lambda w: j_score(w) + j_bonus(w) - j_penalty(w))\n",
    "jax_array_to_list_str(res)\n",
    "# ? scala and ada has same score"
   ]
  },
  {
   "cell_type": "code",
   "execution_count": 21,
   "metadata": {},
   "outputs": [],
   "source": [
    "def py_penalty(word: str) -> int:\n",
    "    return 7 if \"s\" in word else 0"
   ]
  },
  {
   "cell_type": "code",
   "execution_count": 22,
   "metadata": {},
   "outputs": [
    {
     "data": {
      "text/plain": [
       "['java', 'ada', 'scala', 'haskell', 'rust']"
      ]
     },
     "execution_count": 22,
     "metadata": {},
     "output_type": "execute_result"
    }
   ],
   "source": [
    "py_rankedWords(py_words, lambda w: py_score(w) + py_bonus(w) - py_penalty(w))"
   ]
  },
  {
   "cell_type": "code",
   "execution_count": 25,
   "metadata": {},
   "outputs": [
    {
     "data": {
      "text/plain": [
       "['ada', 'haskell', 'scala', 'java', 'rust']"
      ]
     },
     "execution_count": 25,
     "metadata": {},
     "output_type": "execute_result"
    }
   ],
   "source": [
    "py_words"
   ]
  },
  {
   "cell_type": "markdown",
   "metadata": {},
   "source": [
    "## New requirement: Get the scores\n",
    "1. We need to know the score of each word in the list of words.\n",
    "2. The function responsible for ranking should still work the same (we cannot change any existing function)"
   ]
  },
  {
   "cell_type": "code",
   "execution_count": 28,
   "metadata": {},
   "outputs": [],
   "source": [
    "def j_word_score(\n",
    "    score_fn: Callable[[jax.Array], jax.Array], words: jax.Array\n",
    ") -> jax.Array:\n",
    "    return jax.lax.map(score_fn, words)"
   ]
  },
  {
   "cell_type": "code",
   "execution_count": 29,
   "metadata": {},
   "outputs": [
    {
     "data": {
      "text/plain": [
       "Array([ 1, -1,  1,  2, -3], dtype=int32)"
      ]
     },
     "execution_count": 29,
     "metadata": {},
     "output_type": "execute_result"
    }
   ],
   "source": [
    "j_word_score(lambda w: j_score(w) + j_bonus(w) - j_penalty(w), jax_words)"
   ]
  },
  {
   "cell_type": "code",
   "execution_count": 39,
   "metadata": {},
   "outputs": [],
   "source": [
    "def py_get_score(score_fn: Callable[[str], int], words: List[str]) -> List[int]:\n",
    "    return list(map(score_fn, words))"
   ]
  },
  {
   "cell_type": "code",
   "execution_count": 40,
   "metadata": {},
   "outputs": [],
   "source": [
    "word_score_fn = lambda w: py_score(w) + py_bonus(w) - py_penalty(w)"
   ]
  },
  {
   "cell_type": "code",
   "execution_count": 41,
   "metadata": {},
   "outputs": [
    {
     "data": {
      "text/plain": [
       "[1, -1, 1, 2, -3]"
      ]
     },
     "execution_count": 41,
     "metadata": {},
     "output_type": "execute_result"
    }
   ],
   "source": [
    "py_get_score(word_score_fn, py_words)"
   ]
  },
  {
   "cell_type": "markdown",
   "metadata": {},
   "source": [
    "## New requirement: Return high-scoring words\n",
    "1. We need to return a list of words that have a score higher than 1 (i.e., high score).\n",
    "2. Functionalities implemented so far should still work the same (we cannot change \n",
    "any existing function)."
   ]
  },
  {
   "cell_type": "markdown",
   "metadata": {},
   "source": [
    "filter is not possible in jax since jit need the static shaped array"
   ]
  },
  {
   "cell_type": "code",
   "execution_count": 51,
   "metadata": {},
   "outputs": [
    {
     "data": {
      "text/plain": [
       "['java']"
      ]
     },
     "execution_count": 51,
     "metadata": {},
     "output_type": "execute_result"
    }
   ],
   "source": [
    "def py_high_scoring_word(score_fn: Callable[[str], int], words: List[str]) -> List[str]:\n",
    "    return list(filter(lambda w: score_fn(w) > 1, words))\n",
    "\n",
    "\n",
    "py_high_scoring_word(word_score_fn, py_words)"
   ]
  },
  {
   "cell_type": "markdown",
   "metadata": {},
   "source": [
    "## New Requirement : Different threshold\n",
    "The high score threshold is 1, but there will be several game modes, each having a different threshold. For  now there will be three game modes  with high score thresholds defined at 1, 0 and 5, respectively"
   ]
  },
  {
   "cell_type": "markdown",
   "metadata": {},
   "source": [
    "### Solution 1 : Add the new parameter\n",
    "\n",
    "Problem : Lot repetition in caller side"
   ]
  },
  {
   "cell_type": "code",
   "execution_count": 52,
   "metadata": {},
   "outputs": [],
   "source": [
    "def py_high_scoring_word(\n",
    "    score_fn: Callable[[str], int], words: List[str], threshold: int\n",
    ") -> List[str]:\n",
    "    return list(filter(lambda w: score_fn(w) > threshold, words))"
   ]
  },
  {
   "cell_type": "code",
   "execution_count": 53,
   "metadata": {},
   "outputs": [
    {
     "data": {
      "text/plain": [
       "['ada', 'scala', 'java']"
      ]
     },
     "execution_count": 53,
     "metadata": {},
     "output_type": "execute_result"
    }
   ],
   "source": [
    "py_high_scoring_word(word_score_fn, py_words, 0)"
   ]
  },
  {
   "cell_type": "code",
   "execution_count": 54,
   "metadata": {},
   "outputs": [
    {
     "data": {
      "text/plain": [
       "['java']"
      ]
     },
     "execution_count": 54,
     "metadata": {},
     "output_type": "execute_result"
    }
   ],
   "source": [
    "py_high_scoring_word(word_score_fn, py_words, 1)"
   ]
  },
  {
   "cell_type": "markdown",
   "metadata": {},
   "source": [
    "### Return the function"
   ]
  },
  {
   "cell_type": "code",
   "execution_count": 69,
   "metadata": {},
   "outputs": [],
   "source": [
    "def py_high_scoring_word(\n",
    "    score_fn: Callable[[str], int], words: List[str]\n",
    ") -> Callable[[int], List[str]]:\n",
    "    return lambda threshold: list(filter(lambda w: score_fn(w) > threshold, words))"
   ]
  },
  {
   "cell_type": "code",
   "execution_count": 72,
   "metadata": {},
   "outputs": [],
   "source": [
    "word_with_score_higher_than = py_high_scoring_word(word_score_fn, py_words)"
   ]
  },
  {
   "cell_type": "code",
   "execution_count": 74,
   "metadata": {},
   "outputs": [
    {
     "data": {
      "text/plain": [
       "['java']"
      ]
     },
     "execution_count": 74,
     "metadata": {},
     "output_type": "execute_result"
    }
   ],
   "source": [
    "word_with_score_higher_than(1)"
   ]
  },
  {
   "cell_type": "code",
   "execution_count": 75,
   "metadata": {},
   "outputs": [
    {
     "data": {
      "text/plain": [
       "['ada', 'scala', 'java']"
      ]
     },
     "execution_count": 75,
     "metadata": {},
     "output_type": "execute_result"
    }
   ],
   "source": [
    "word_with_score_higher_than(0)"
   ]
  },
  {
   "cell_type": "markdown",
   "metadata": {},
   "source": [
    "## New requirement: Return total score\n",
    "1. We need to return a cumulative score of words provided as an input list.\n",
    "2. Functionalities implemented so far should still work the same (we cannot \n",
    "change any existing function)"
   ]
  },
  {
   "cell_type": "code",
   "execution_count": 89,
   "metadata": {},
   "outputs": [],
   "source": [
    "def j_total_score(\n",
    "    score_fn: Callable[[jax.Array], jax.Array], words: jax.Array\n",
    ") -> jax.Array:\n",
    "    return jax.lax.reduce(jax.lax.map(score_fn, words), 0, jax.lax.add, (0,))"
   ]
  },
  {
   "cell_type": "code",
   "execution_count": 93,
   "metadata": {},
   "outputs": [
    {
     "data": {
      "text/plain": [
       "Array(0, dtype=int32)"
      ]
     },
     "execution_count": 93,
     "metadata": {},
     "output_type": "execute_result"
    }
   ],
   "source": [
    "j_total_score(lambda w: j_score(w) + j_bonus(w) - j_penalty(w), jax_words)"
   ]
  },
  {
   "cell_type": "code",
   "execution_count": 95,
   "metadata": {},
   "outputs": [
    {
     "data": {
      "text/plain": [
       "0"
      ]
     },
     "execution_count": 95,
     "metadata": {},
     "output_type": "execute_result"
    }
   ],
   "source": [
    "from functools import reduce\n",
    "def py_total_score(score_fn:Callable[[str],int],words:List[str])->int:\n",
    "    return reduce(lambda x,y:x+y,map(score_fn,words),0)\n",
    "\n",
    "py_total_score(word_score_fn,py_words)"
   ]
  },
  {
   "cell_type": "markdown",
   "metadata": {},
   "source": [
    "### Exercise:"
   ]
  },
  {
   "cell_type": "markdown",
   "metadata": {},
   "source": [
    "#### Return a sum of all integers in the given lis"
   ]
  },
  {
   "cell_type": "code",
   "execution_count": 96,
   "metadata": {},
   "outputs": [
    {
     "data": {
      "text/plain": [
       "112"
      ]
     },
     "execution_count": 96,
     "metadata": {},
     "output_type": "execute_result"
    }
   ],
   "source": [
    "reduce(lambda x,y : x+y,[5, 1, 2, 4, 100],0)"
   ]
  },
  {
   "cell_type": "markdown",
   "metadata": {},
   "source": [
    "#### Return the total length of all the words in the given list."
   ]
  },
  {
   "cell_type": "code",
   "execution_count": 98,
   "metadata": {},
   "outputs": [
    {
     "data": {
      "text/plain": [
       "12"
      ]
     },
     "execution_count": 98,
     "metadata": {},
     "output_type": "execute_result"
    }
   ],
   "source": [
    "reduce(lambda acc,word:acc+len(word),(\"scala\", \"rust\", \"ada\") ,0)"
   ]
  },
  {
   "cell_type": "markdown",
   "metadata": {},
   "source": [
    "#### Return the number of the letter 's' found in all the words in the given list"
   ]
  },
  {
   "cell_type": "code",
   "execution_count": 102,
   "metadata": {},
   "outputs": [
    {
     "data": {
      "text/plain": [
       "3"
      ]
     },
     "execution_count": 102,
     "metadata": {},
     "output_type": "execute_result"
    }
   ],
   "source": [
    "reduce(lambda acc,word:acc+word.count(\"s\"),(\"scala\", \"haskell\", \"rust\", \"ada\") ,0)"
   ]
  },
  {
   "cell_type": "markdown",
   "metadata": {},
   "source": [
    "#### Return the maximum of all integers in the given list."
   ]
  },
  {
   "cell_type": "code",
   "execution_count": 103,
   "metadata": {},
   "outputs": [
    {
     "data": {
      "text/plain": [
       "15"
      ]
     },
     "execution_count": 103,
     "metadata": {},
     "output_type": "execute_result"
    }
   ],
   "source": [
    "reduce(lambda cur_max,val:max(cur_max,val),(5, 1, 2, 4, 15),0)"
   ]
  },
  {
   "cell_type": "code",
   "execution_count": null,
   "metadata": {},
   "outputs": [],
   "source": []
  }
 ],
 "metadata": {
  "kernelspec": {
   "display_name": "nlp",
   "language": "python",
   "name": "python3"
  },
  "language_info": {
   "codemirror_mode": {
    "name": "ipython",
    "version": 3
   },
   "file_extension": ".py",
   "mimetype": "text/x-python",
   "name": "python",
   "nbconvert_exporter": "python",
   "pygments_lexer": "ipython3",
   "version": "3.11.7"
  }
 },
 "nbformat": 4,
 "nbformat_minor": 2
}
