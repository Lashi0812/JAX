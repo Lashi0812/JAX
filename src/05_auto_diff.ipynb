{
 "cells": [
  {
   "cell_type": "code",
   "execution_count": 1,
   "metadata": {},
   "outputs": [],
   "source": [
    "def f(x):\n",
    "    return x**4 + 12 * x + 1 / x"
   ]
  },
  {
   "cell_type": "code",
   "execution_count": 2,
   "metadata": {},
   "outputs": [],
   "source": [
    "def print_dir(x):\n",
    "    attrs = []\n",
    "    for attr in dir(x):\n",
    "        if not attr.startswith(\"__\"):\n",
    "            attrs.append(attr)\n",
    "    for a, b in zip(*(iter(attrs),) * 2):\n",
    "        print(f\"{a:40}{b}\")"
   ]
  },
  {
   "cell_type": "code",
   "execution_count": 3,
   "metadata": {},
   "outputs": [
    {
     "data": {
      "text/plain": [
       "[]"
      ]
     },
     "execution_count": 3,
     "metadata": {},
     "output_type": "execute_result"
    }
   ],
   "source": [
    "list()"
   ]
  },
  {
   "cell_type": "markdown",
   "metadata": {},
   "source": [
    "# Manual differentiation"
   ]
  },
  {
   "cell_type": "code",
   "execution_count": 4,
   "metadata": {},
   "outputs": [],
   "source": [
    "def df(x):\n",
    "    return 4 * x**3 + 12 - 1 / x**2"
   ]
  },
  {
   "cell_type": "code",
   "execution_count": 5,
   "metadata": {},
   "outputs": [
    {
     "name": "stdout",
     "output_type": "stream",
     "text": [
      "14773.09090909091 5335.99173553719\n"
     ]
    }
   ],
   "source": [
    "x = 11.0\n",
    "print(f(x), df(x))"
   ]
  },
  {
   "cell_type": "markdown",
   "metadata": {},
   "source": [
    "# Symbolic differentiation"
   ]
  },
  {
   "cell_type": "code",
   "execution_count": 6,
   "metadata": {},
   "outputs": [
    {
     "data": {
      "text/latex": [
       "$\\displaystyle x^{4} + 12 x + \\frac{1}{x}$"
      ],
      "text/plain": [
       "x**4 + 12*x + 1/x"
      ]
     },
     "execution_count": 6,
     "metadata": {},
     "output_type": "execute_result"
    }
   ],
   "source": [
    "import sympy\n",
    "\n",
    "x_sym = sympy.symbols(\"x\")\n",
    "\n",
    "f_sym = f(x_sym)\n",
    "f_sym"
   ]
  },
  {
   "cell_type": "code",
   "execution_count": 7,
   "metadata": {},
   "outputs": [
    {
     "data": {
      "text/latex": [
       "$\\displaystyle 4 x^{3} + 12 - \\frac{1}{x^{2}}$"
      ],
      "text/plain": [
       "4*x**3 + 12 - 1/x**2"
      ]
     },
     "execution_count": 7,
     "metadata": {},
     "output_type": "execute_result"
    }
   ],
   "source": [
    "df_sym = sympy.diff(f_sym)\n",
    "df_sym"
   ]
  },
  {
   "cell_type": "code",
   "execution_count": 8,
   "metadata": {},
   "outputs": [
    {
     "data": {
      "text/plain": [
       "(14773.09090909091, 5335.99173553719)"
      ]
     },
     "execution_count": 8,
     "metadata": {},
     "output_type": "execute_result"
    }
   ],
   "source": [
    "sympy.lambdify(x_sym, f_sym)(x), sympy.lambdify(x_sym, df_sym)(x)"
   ]
  },
  {
   "cell_type": "markdown",
   "metadata": {},
   "source": [
    "# Numerical differentiation"
   ]
  },
  {
   "cell_type": "code",
   "execution_count": 9,
   "metadata": {},
   "outputs": [
    {
     "data": {
      "text/plain": [
       "5335.992136679124"
      ]
     },
     "execution_count": 9,
     "metadata": {},
     "output_type": "execute_result"
    }
   ],
   "source": [
    "dx = 1e-8\n",
    "\n",
    "df_numeric = (f(x + dx) - f(x)) / dx\n",
    "df_numeric"
   ]
  },
  {
   "cell_type": "markdown",
   "metadata": {},
   "source": [
    "# Auto differentiation"
   ]
  },
  {
   "cell_type": "code",
   "execution_count": 10,
   "metadata": {},
   "outputs": [
    {
     "data": {
      "text/plain": [
       "Array(5335.9917, dtype=float32, weak_type=True)"
      ]
     },
     "execution_count": 10,
     "metadata": {},
     "output_type": "execute_result"
    }
   ],
   "source": [
    "import jax\n",
    "\n",
    "df = jax.grad(f)\n",
    "df(x)"
   ]
  },
  {
   "cell_type": "code",
   "execution_count": 11,
   "metadata": {},
   "outputs": [],
   "source": [
    "import jax"
   ]
  },
  {
   "cell_type": "code",
   "execution_count": 12,
   "metadata": {},
   "outputs": [],
   "source": [
    "df = jax.grad(f)"
   ]
  },
  {
   "cell_type": "code",
   "execution_count": 13,
   "metadata": {},
   "outputs": [
    {
     "data": {
      "text/plain": [
       "Array(5335.9917, dtype=float32, weak_type=True)"
      ]
     },
     "execution_count": 13,
     "metadata": {},
     "output_type": "execute_result"
    }
   ],
   "source": [
    "df(x)"
   ]
  },
  {
   "cell_type": "code",
   "execution_count": 14,
   "metadata": {},
   "outputs": [],
   "source": [
    "def loop(x):\n",
    "    for i in range(4):\n",
    "        x = x * x\n",
    "    return x"
   ]
  },
  {
   "cell_type": "code",
   "execution_count": 15,
   "metadata": {},
   "outputs": [
    {
     "data": {
      "text/plain": [
       "65536"
      ]
     },
     "execution_count": 15,
     "metadata": {},
     "output_type": "execute_result"
    }
   ],
   "source": [
    "loop(2)"
   ]
  },
  {
   "cell_type": "code",
   "execution_count": 16,
   "metadata": {},
   "outputs": [
    {
     "data": {
      "text/plain": [
       "Array(524288., dtype=float32, weak_type=True)"
      ]
     },
     "execution_count": 16,
     "metadata": {},
     "output_type": "execute_result"
    }
   ],
   "source": [
    "loop_grad = jax.grad(loop)\n",
    "loop_grad(2.0)"
   ]
  },
  {
   "cell_type": "code",
   "execution_count": 17,
   "metadata": {},
   "outputs": [
    {
     "data": {
      "text/latex": [
       "$\\displaystyle x^{16}$"
      ],
      "text/plain": [
       "x**16"
      ]
     },
     "execution_count": 17,
     "metadata": {},
     "output_type": "execute_result"
    }
   ],
   "source": [
    "loop_sym = x_sym**16\n",
    "loop_sym"
   ]
  },
  {
   "cell_type": "code",
   "execution_count": 18,
   "metadata": {},
   "outputs": [
    {
     "data": {
      "text/latex": [
       "$\\displaystyle 16 x^{15}$"
      ],
      "text/plain": [
       "16*x**15"
      ]
     },
     "execution_count": 18,
     "metadata": {},
     "output_type": "execute_result"
    }
   ],
   "source": [
    "loop_sym_grad = sympy.diff(loop_sym)\n",
    "loop_sym_grad"
   ]
  },
  {
   "cell_type": "code",
   "execution_count": 19,
   "metadata": {},
   "outputs": [
    {
     "data": {
      "text/plain": [
       "(65536, 524288)"
      ]
     },
     "execution_count": 19,
     "metadata": {},
     "output_type": "execute_result"
    }
   ],
   "source": [
    "sympy.lambdify(x_sym, loop_sym)(2), sympy.lambdify(x_sym, loop_sym_grad)(2)"
   ]
  },
  {
   "cell_type": "code",
   "execution_count": 20,
   "metadata": {},
   "outputs": [],
   "source": [
    "import numpy as np\n",
    "import matplotlib.pyplot as plt\n",
    "\n",
    "x = np.linspace(0, 10 * np.pi, num=1000)\n",
    "e = np.random.normal(scale=10.0, size=x.size)\n",
    "y = 65.0 + 1.8 * x + 40 * np.cos(x) + e"
   ]
  },
  {
   "cell_type": "code",
   "execution_count": 21,
   "metadata": {},
   "outputs": [
    {
     "data": {
      "text/plain": [
       "<matplotlib.collections.PathCollection at 0x7fb17c3b8290>"
      ]
     },
     "execution_count": 21,
     "metadata": {},
     "output_type": "execute_result"
    },
    {
     "data": {
      "image/png": "[encoded data removed]",
      "text/plain": [
       "<Figure size 640x480 with 1 Axes>"
      ]
     },
     "metadata": {},
     "output_type": "display_data"
    }
   ],
   "source": [
    "plt.scatter(x, y)"
   ]
  },
  {
   "cell_type": "markdown",
   "metadata": {},
   "source": [
    "# Auto grad in pytorch"
   ]
  },
  {
   "cell_type": "code",
   "execution_count": 22,
   "metadata": {},
   "outputs": [],
   "source": [
    "import torch"
   ]
  },
  {
   "cell_type": "code",
   "execution_count": 23,
   "metadata": {},
   "outputs": [
    {
     "data": {
      "text/plain": [
       "(tensor(26.5262, requires_grad=True), tensor(2.5391, requires_grad=True))"
      ]
     },
     "execution_count": 23,
     "metadata": {},
     "output_type": "execute_result"
    }
   ],
   "source": [
    "xt = torch.tensor(x)\n",
    "yt = torch.tensor(y)\n",
    "lr = 1e-2\n",
    "\n",
    "w = torch.tensor(1.0, requires_grad=True)\n",
    "b = torch.tensor(1.0, requires_grad=True)\n",
    "\n",
    "\n",
    "def model(x):\n",
    "    return w * x + b\n",
    "\n",
    "\n",
    "def loss_fn(pred, y):\n",
    "    return ((pred - y) ** 2).mean()\n",
    "\n",
    "\n",
    "pred = model(xt)\n",
    "loss = loss_fn(pred, yt)\n",
    "\n",
    "loss.backward()\n",
    "\n",
    "with torch.no_grad():\n",
    "    w -= w.grad * lr\n",
    "    b -= b.grad * lr\n",
    "    w.grad.zero_()\n",
    "    b.grad.zero_()\n",
    "\n",
    "w, b"
   ]
  },
  {
   "cell_type": "markdown",
   "metadata": {},
   "source": [
    "## Auto grad in JAX"
   ]
  },
  {
   "cell_type": "code",
   "execution_count": 24,
   "metadata": {},
   "outputs": [
    {
     "data": {
      "text/plain": [
       "Array([26.526203,  2.53905 ], dtype=float32)"
      ]
     },
     "execution_count": 24,
     "metadata": {},
     "output_type": "execute_result"
    }
   ],
   "source": [
    "from jax import grad, make_jaxpr\n",
    "from jax import numpy as jnp\n",
    "\n",
    "\n",
    "xt = jnp.array(x)\n",
    "yt = jnp.array(y)\n",
    "lr = 1e-2\n",
    "\n",
    "model_params = jnp.array([1.0, 1.0])\n",
    "\n",
    "\n",
    "def model(theta, x):\n",
    "    w, b = theta\n",
    "    return w * x + b\n",
    "\n",
    "\n",
    "def loss_fn(model_params, x, y):\n",
    "    pred = model(model_params, x)\n",
    "    return jnp.mean((pred - y) ** 2)\n",
    "\n",
    "\n",
    "grad_fn = grad(loss_fn)\n",
    "grads = grad_fn(model_params, xt, yt)\n",
    "model_params -= lr * grads\n",
    "\n",
    "model_params"
   ]
  },
  {
   "cell_type": "code",
   "execution_count": 25,
   "metadata": {},
   "outputs": [
    {
     "data": {
      "text/plain": [
       "Array([-2552.6204,  -153.905 ], dtype=float32)"
      ]
     },
     "execution_count": 25,
     "metadata": {},
     "output_type": "execute_result"
    }
   ],
   "source": [
    "grads"
   ]
  },
  {
   "cell_type": "code",
   "execution_count": 26,
   "metadata": {},
   "outputs": [
    {
     "data": {
      "image/svg+xml": [
       "<?xml version=\"1.0\" encoding=\"UTF-8\" standalone=\"no\"?>\n",
       "<!DOCTYPE svg PUBLIC \"-//W3C//DTD SVG 1.1//EN\"\n",
       " \"http://www.w3.org/Graphics/SVG/1.1/DTD/svg11.dtd\">\n",
       "<!-- Generated by graphviz version 2.50.0 (0)\n",
       " -->\n",
       "<!-- Pages: 1 -->\n",
       "<svg width=\"432pt\" height=\"679pt\"\n",
       " viewBox=\"0.00 0.00 432.00 678.81\" xmlns=\"http://www.w3.org/2000/svg\" xmlns:xlink=\"http://www.w3.org/1999/xlink\">\n",
       "<g id=\"graph0\" class=\"graph\" transform=\"scale(0.98 0.98) rotate(0) translate(4 688)\">\n",
       "<polygon fill=\"white\" stroke=\"transparent\" points=\"-4,4 -4,-688 436.4,-688 436.4,4 -4,4\"/>\n",
       "<!-- a -->\n",
       "<g id=\"node1\" class=\"node\">\n",
       "<title>a</title>\n",
       "<ellipse fill=\"mediumspringgreen\" stroke=\"mediumspringgreen\" cx=\"151\" cy=\"-666\" rx=\"55.49\" ry=\"18\"/>\n",
       "<text text-anchor=\"middle\" x=\"151\" y=\"-662.3\" font-family=\"Times,serif\" font-size=\"14.00\">float32[2]</text>\n",
       "</g>\n",
       "<!-- d -->\n",
       "<g id=\"node4\" class=\"node\">\n",
       "<title>d</title>\n",
       "<polygon fill=\"lightskyblue\" stroke=\"lightskyblue\" points=\"142,-612 88,-612 88,-576 142,-576 142,-612\"/>\n",
       "<text text-anchor=\"middle\" x=\"115\" y=\"-590.3\" font-family=\"Times,serif\" font-size=\"14.00\">slice</text>\n",
       "</g>\n",
       "<!-- a&#45;&gt;d -->\n",
       "<g id=\"edge1\" class=\"edge\">\n",
       "<title>a&#45;&gt;d</title>\n",
       "<path fill=\"none\" stroke=\"black\" d=\"M142.29,-648.05C138.15,-640.01 133.11,-630.2 128.49,-621.23\"/>\n",
       "<polygon fill=\"black\" stroke=\"black\" points=\"131.57,-619.57 123.88,-612.28 125.35,-622.77 131.57,-619.57\"/>\n",
       "</g>\n",
       "<!-- f -->\n",
       "<g id=\"node6\" class=\"node\">\n",
       "<title>f</title>\n",
       "<polygon fill=\"lightskyblue\" stroke=\"lightskyblue\" points=\"253,-612 199,-612 199,-576 253,-576 253,-612\"/>\n",
       "<text text-anchor=\"middle\" x=\"226\" y=\"-590.3\" font-family=\"Times,serif\" font-size=\"14.00\">slice</text>\n",
       "</g>\n",
       "<!-- a&#45;&gt;f -->\n",
       "<g id=\"edge3\" class=\"edge\">\n",
       "<title>a&#45;&gt;f</title>\n",
       "<path fill=\"none\" stroke=\"black\" d=\"M168.4,-648.76C177.87,-639.92 189.77,-628.82 200.29,-619\"/>\n",
       "<polygon fill=\"black\" stroke=\"black\" points=\"202.73,-621.51 207.65,-612.12 197.95,-616.39 202.73,-621.51\"/>\n",
       "</g>\n",
       "<!-- b -->\n",
       "<g id=\"node2\" class=\"node\">\n",
       "<title>b</title>\n",
       "<ellipse fill=\"mediumspringgreen\" stroke=\"mediumspringgreen\" cx=\"165\" cy=\"-522\" rx=\"72.59\" ry=\"18\"/>\n",
       "<text text-anchor=\"middle\" x=\"165\" y=\"-518.3\" font-family=\"Times,serif\" font-size=\"14.00\">float32[1000]</text>\n",
       "</g>\n",
       "<!-- h -->\n",
       "<g id=\"node8\" class=\"node\">\n",
       "<title>h</title>\n",
       "<polygon fill=\"lightskyblue\" stroke=\"lightskyblue\" points=\"192,-468 138,-468 138,-432 192,-432 192,-468\"/>\n",
       "<text text-anchor=\"middle\" x=\"165\" y=\"-446.3\" font-family=\"Times,serif\" font-size=\"14.00\">mul</text>\n",
       "</g>\n",
       "<!-- b&#45;&gt;h -->\n",
       "<g id=\"edge6\" class=\"edge\">\n",
       "<title>b&#45;&gt;h</title>\n",
       "<path fill=\"none\" stroke=\"black\" d=\"M165,-503.7C165,-495.98 165,-486.71 165,-478.11\"/>\n",
       "<polygon fill=\"black\" stroke=\"black\" points=\"168.5,-478.1 165,-468.1 161.5,-478.1 168.5,-478.1\"/>\n",
       "</g>\n",
       "<!-- c -->\n",
       "<g id=\"node3\" class=\"node\">\n",
       "<title>c</title>\n",
       "<ellipse fill=\"mediumspringgreen\" stroke=\"mediumspringgreen\" cx=\"324\" cy=\"-378\" rx=\"72.59\" ry=\"18\"/>\n",
       "<text text-anchor=\"middle\" x=\"324\" y=\"-374.3\" font-family=\"Times,serif\" font-size=\"14.00\">float32[1000]</text>\n",
       "</g>\n",
       "<!-- j -->\n",
       "<g id=\"node10\" class=\"node\">\n",
       "<title>j</title>\n",
       "<polygon fill=\"lightskyblue\" stroke=\"lightskyblue\" points=\"292,-324 238,-324 238,-288 292,-288 292,-324\"/>\n",
       "<text text-anchor=\"middle\" x=\"265\" y=\"-302.3\" font-family=\"Times,serif\" font-size=\"14.00\">sub</text>\n",
       "</g>\n",
       "<!-- c&#45;&gt;j -->\n",
       "<g id=\"edge10\" class=\"edge\">\n",
       "<title>c&#45;&gt;j</title>\n",
       "<path fill=\"none\" stroke=\"black\" d=\"M309.72,-360.05C302.65,-351.67 293.97,-341.38 286.15,-332.1\"/>\n",
       "<polygon fill=\"black\" stroke=\"black\" points=\"288.68,-329.67 279.56,-324.28 283.33,-334.18 288.68,-329.67\"/>\n",
       "</g>\n",
       "<!-- e -->\n",
       "<g id=\"node5\" class=\"node\">\n",
       "<title>e</title>\n",
       "<polygon fill=\"lightskyblue\" stroke=\"lightskyblue\" points=\"74,-540 0,-540 0,-504 74,-504 74,-540\"/>\n",
       "<text text-anchor=\"middle\" x=\"37\" y=\"-518.3\" font-family=\"Times,serif\" font-size=\"14.00\">squeeze</text>\n",
       "</g>\n",
       "<!-- d&#45;&gt;e -->\n",
       "<g id=\"edge2\" class=\"edge\">\n",
       "<title>d&#45;&gt;e</title>\n",
       "<path fill=\"none\" stroke=\"black\" d=\"M95.72,-575.7C86.08,-567.05 74.27,-556.45 63.77,-547.03\"/>\n",
       "<polygon fill=\"black\" stroke=\"black\" points=\"65.84,-544.18 56.06,-540.1 61.16,-549.39 65.84,-544.18\"/>\n",
       "</g>\n",
       "<!-- e&#45;&gt;h -->\n",
       "<g id=\"edge5\" class=\"edge\">\n",
       "<title>e&#45;&gt;h</title>\n",
       "<path fill=\"none\" stroke=\"black\" d=\"M68.31,-503.88C86.63,-493.86 109.83,-481.17 128.92,-470.73\"/>\n",
       "<polygon fill=\"black\" stroke=\"black\" points=\"130.82,-473.68 137.91,-465.81 127.46,-467.54 130.82,-473.68\"/>\n",
       "</g>\n",
       "<!-- g -->\n",
       "<g id=\"node7\" class=\"node\">\n",
       "<title>g</title>\n",
       "<polygon fill=\"lightskyblue\" stroke=\"lightskyblue\" points=\"293,-468 219,-468 219,-432 293,-432 293,-468\"/>\n",
       "<text text-anchor=\"middle\" x=\"256\" y=\"-446.3\" font-family=\"Times,serif\" font-size=\"14.00\">squeeze</text>\n",
       "</g>\n",
       "<!-- f&#45;&gt;g -->\n",
       "<g id=\"edge4\" class=\"edge\">\n",
       "<title>f&#45;&gt;g</title>\n",
       "<path fill=\"none\" stroke=\"black\" d=\"M234.25,-575.73C238.75,-565.56 244,-552.31 247,-540 251.93,-519.76 254.17,-496.29 255.18,-478.54\"/>\n",
       "<polygon fill=\"black\" stroke=\"black\" points=\"258.68,-478.45 255.66,-468.3 251.69,-478.12 258.68,-478.45\"/>\n",
       "</g>\n",
       "<!-- i -->\n",
       "<g id=\"node9\" class=\"node\">\n",
       "<title>i</title>\n",
       "<polygon fill=\"lightskyblue\" stroke=\"lightskyblue\" points=\"233,-396 179,-396 179,-360 233,-360 233,-396\"/>\n",
       "<text text-anchor=\"middle\" x=\"206\" y=\"-374.3\" font-family=\"Times,serif\" font-size=\"14.00\">add</text>\n",
       "</g>\n",
       "<!-- g&#45;&gt;i -->\n",
       "<g id=\"edge8\" class=\"edge\">\n",
       "<title>g&#45;&gt;i</title>\n",
       "<path fill=\"none\" stroke=\"black\" d=\"M243.64,-431.7C237.77,-423.47 230.63,-413.48 224.16,-404.42\"/>\n",
       "<polygon fill=\"black\" stroke=\"black\" points=\"226.88,-402.21 218.22,-396.1 221.18,-406.28 226.88,-402.21\"/>\n",
       "</g>\n",
       "<!-- h&#45;&gt;i -->\n",
       "<g id=\"edge7\" class=\"edge\">\n",
       "<title>h&#45;&gt;i</title>\n",
       "<path fill=\"none\" stroke=\"black\" d=\"M175.13,-431.7C179.85,-423.64 185.56,-413.89 190.78,-404.98\"/>\n",
       "<polygon fill=\"black\" stroke=\"black\" points=\"193.95,-406.5 195.98,-396.1 187.91,-402.96 193.95,-406.5\"/>\n",
       "</g>\n",
       "<!-- i&#45;&gt;j -->\n",
       "<g id=\"edge9\" class=\"edge\">\n",
       "<title>i&#45;&gt;j</title>\n",
       "<path fill=\"none\" stroke=\"black\" d=\"M220.58,-359.7C227.66,-351.3 236.28,-341.07 244.05,-331.86\"/>\n",
       "<polygon fill=\"black\" stroke=\"black\" points=\"246.81,-334.01 250.58,-324.1 241.46,-329.49 246.81,-334.01\"/>\n",
       "</g>\n",
       "<!-- k -->\n",
       "<g id=\"node11\" class=\"node\">\n",
       "<title>k</title>\n",
       "<polygon fill=\"lightskyblue\" stroke=\"lightskyblue\" points=\"315.5,-252 214.5,-252 214.5,-216 315.5,-216 315.5,-252\"/>\n",
       "<text text-anchor=\"middle\" x=\"265\" y=\"-230.3\" font-family=\"Times,serif\" font-size=\"14.00\">integer_pow</text>\n",
       "</g>\n",
       "<!-- j&#45;&gt;k -->\n",
       "<g id=\"edge11\" class=\"edge\">\n",
       "<title>j&#45;&gt;k</title>\n",
       "<path fill=\"none\" stroke=\"black\" d=\"M265,-287.7C265,-279.98 265,-270.71 265,-262.11\"/>\n",
       "<polygon fill=\"black\" stroke=\"black\" points=\"268.5,-262.1 265,-252.1 261.5,-262.1 268.5,-262.1\"/>\n",
       "</g>\n",
       "<!-- l -->\n",
       "<g id=\"node12\" class=\"node\">\n",
       "<title>l</title>\n",
       "<polygon fill=\"lightskyblue\" stroke=\"lightskyblue\" points=\"315.5,-180 214.5,-180 214.5,-144 315.5,-144 315.5,-180\"/>\n",
       "<text text-anchor=\"middle\" x=\"265\" y=\"-158.3\" font-family=\"Times,serif\" font-size=\"14.00\">reduce_sum</text>\n",
       "</g>\n",
       "<!-- k&#45;&gt;l -->\n",
       "<g id=\"edge12\" class=\"edge\">\n",
       "<title>k&#45;&gt;l</title>\n",
       "<path fill=\"none\" stroke=\"black\" d=\"M265,-215.7C265,-207.98 265,-198.71 265,-190.11\"/>\n",
       "<polygon fill=\"black\" stroke=\"black\" points=\"268.5,-190.1 265,-180.1 261.5,-190.1 268.5,-190.1\"/>\n",
       "</g>\n",
       "<!-- m -->\n",
       "<g id=\"node14\" class=\"node\">\n",
       "<title>m</title>\n",
       "<polygon fill=\"lightskyblue\" stroke=\"lightskyblue\" points=\"351,-108 297,-108 297,-72 351,-72 351,-108\"/>\n",
       "<text text-anchor=\"middle\" x=\"324\" y=\"-86.3\" font-family=\"Times,serif\" font-size=\"14.00\">div</text>\n",
       "</g>\n",
       "<!-- l&#45;&gt;m -->\n",
       "<g id=\"edge13\" class=\"edge\">\n",
       "<title>l&#45;&gt;m</title>\n",
       "<path fill=\"none\" stroke=\"black\" d=\"M279.58,-143.7C286.66,-135.3 295.28,-125.07 303.05,-115.86\"/>\n",
       "<polygon fill=\"black\" stroke=\"black\" points=\"305.81,-118.01 309.58,-108.1 300.46,-113.49 305.81,-118.01\"/>\n",
       "</g>\n",
       "<!-- 140396380642672 -->\n",
       "<g id=\"node13\" class=\"node\">\n",
       "<title>140396380642672</title>\n",
       "<ellipse fill=\"#ffc125\" stroke=\"#ffc125\" cx=\"383\" cy=\"-162\" rx=\"49.29\" ry=\"18\"/>\n",
       "<text text-anchor=\"middle\" x=\"383\" y=\"-158.3\" font-family=\"Times,serif\" font-size=\"14.00\">float32[]</text>\n",
       "</g>\n",
       "<!-- 140396380642672&#45;&gt;m -->\n",
       "<g id=\"edge14\" class=\"edge\">\n",
       "<title>140396380642672&#45;&gt;m</title>\n",
       "<path fill=\"none\" stroke=\"black\" d=\"M369.02,-144.41C361.95,-136.03 353.23,-125.68 345.35,-116.33\"/>\n",
       "<polygon fill=\"black\" stroke=\"black\" points=\"347.83,-113.84 338.71,-108.45 342.47,-118.35 347.83,-113.84\"/>\n",
       "</g>\n",
       "<!-- out_0 -->\n",
       "<g id=\"node15\" class=\"node\">\n",
       "<title>out_0</title>\n",
       "<ellipse fill=\"#ff6a6a\" stroke=\"black\" stroke-dasharray=\"5,2\" cx=\"324\" cy=\"-18\" rx=\"36\" ry=\"18\"/>\n",
       "<text text-anchor=\"middle\" x=\"324\" y=\"-14.3\" font-family=\"Times,serif\" font-size=\"14.00\">out_0</text>\n",
       "</g>\n",
       "<!-- m&#45;&gt;out_0 -->\n",
       "<g id=\"edge15\" class=\"edge\">\n",
       "<title>m&#45;&gt;out_0</title>\n",
       "<path fill=\"none\" stroke=\"black\" d=\"M324,-71.7C324,-63.98 324,-54.71 324,-46.11\"/>\n",
       "<polygon fill=\"black\" stroke=\"black\" points=\"327.5,-46.1 324,-36.1 320.5,-46.1 327.5,-46.1\"/>\n",
       "</g>\n",
       "</g>\n",
       "</svg>\n"
      ],
      "text/plain": [
       "<graphviz.graphs.Digraph at 0x7fb0946157d0>"
      ]
     },
     "execution_count": 26,
     "metadata": {},
     "output_type": "execute_result"
    }
   ],
   "source": [
    "import util\n",
    "\n",
    "util.jaxpr_graph(loss_fn, model_params, xt, yt)"
   ]
  },
  {
   "cell_type": "code",
   "execution_count": 27,
   "metadata": {},
   "outputs": [
    {
     "data": {
      "image/svg+xml": [
       "<?xml version=\"1.0\" encoding=\"UTF-8\" standalone=\"no\"?>\n",
       "<!DOCTYPE svg PUBLIC \"-//W3C//DTD SVG 1.1//EN\"\n",
       " \"http://www.w3.org/Graphics/SVG/1.1/DTD/svg11.dtd\">\n",
       "<!-- Generated by graphviz version 2.50.0 (0)\n",
       " -->\n",
       "<!-- Pages: 1 -->\n",
       "<svg width=\"412pt\" height=\"720pt\"\n",
       " viewBox=\"0.00 0.00 412.02 720.00\" xmlns=\"http://www.w3.org/2000/svg\" xmlns:xlink=\"http://www.w3.org/1999/xlink\">\n",
       "<g id=\"graph0\" class=\"graph\" transform=\"scale(0.68 0.68) rotate(0) translate(4 1048)\">\n",
       "<polygon fill=\"white\" stroke=\"transparent\" points=\"-4,4 -4,-1048 598,-1048 598,4 -4,4\"/>\n",
       "<!-- a -->\n",
       "<g id=\"node1\" class=\"node\">\n",
       "<title>a</title>\n",
       "<ellipse fill=\"mediumspringgreen\" stroke=\"mediumspringgreen\" cx=\"207.5\" cy=\"-1026\" rx=\"55.49\" ry=\"18\"/>\n",
       "<text text-anchor=\"middle\" x=\"207.5\" y=\"-1022.3\" font-family=\"Times,serif\" font-size=\"14.00\">float32[2]</text>\n",
       "</g>\n",
       "<!-- d -->\n",
       "<g id=\"node4\" class=\"node\">\n",
       "<title>d</title>\n",
       "<polygon fill=\"lightskyblue\" stroke=\"lightskyblue\" points=\"272.5,-972 218.5,-972 218.5,-936 272.5,-936 272.5,-972\"/>\n",
       "<text text-anchor=\"middle\" x=\"245.5\" y=\"-950.3\" font-family=\"Times,serif\" font-size=\"14.00\">slice</text>\n",
       "</g>\n",
       "<!-- a&#45;&gt;d -->\n",
       "<g id=\"edge1\" class=\"edge\">\n",
       "<title>a&#45;&gt;d</title>\n",
       "<path fill=\"none\" stroke=\"black\" d=\"M216.7,-1008.05C221.07,-1000.01 226.39,-990.2 231.26,-981.23\"/>\n",
       "<polygon fill=\"black\" stroke=\"black\" points=\"234.43,-982.73 236.12,-972.28 228.28,-979.39 234.43,-982.73\"/>\n",
       "</g>\n",
       "<!-- f -->\n",
       "<g id=\"node6\" class=\"node\">\n",
       "<title>f</title>\n",
       "<polygon fill=\"lightskyblue\" stroke=\"lightskyblue\" points=\"198.5,-972 144.5,-972 144.5,-936 198.5,-936 198.5,-972\"/>\n",
       "<text text-anchor=\"middle\" x=\"171.5\" y=\"-950.3\" font-family=\"Times,serif\" font-size=\"14.00\">slice</text>\n",
       "</g>\n",
       "<!-- a&#45;&gt;f -->\n",
       "<g id=\"edge3\" class=\"edge\">\n",
       "<title>a&#45;&gt;f</title>\n",
       "<path fill=\"none\" stroke=\"black\" d=\"M198.79,-1008.05C194.65,-1000.01 189.61,-990.2 184.99,-981.23\"/>\n",
       "<polygon fill=\"black\" stroke=\"black\" points=\"188.07,-979.57 180.38,-972.28 181.85,-982.77 188.07,-979.57\"/>\n",
       "</g>\n",
       "<!-- b -->\n",
       "<g id=\"node2\" class=\"node\">\n",
       "<title>b</title>\n",
       "<ellipse fill=\"mediumspringgreen\" stroke=\"mediumspringgreen\" cx=\"445.5\" cy=\"-882\" rx=\"72.59\" ry=\"18\"/>\n",
       "<text text-anchor=\"middle\" x=\"445.5\" y=\"-878.3\" font-family=\"Times,serif\" font-size=\"14.00\">float32[1000]</text>\n",
       "</g>\n",
       "<!-- h -->\n",
       "<g id=\"node8\" class=\"node\">\n",
       "<title>h</title>\n",
       "<polygon fill=\"lightskyblue\" stroke=\"lightskyblue\" points=\"278.5,-828 224.5,-828 224.5,-792 278.5,-792 278.5,-828\"/>\n",
       "<text text-anchor=\"middle\" x=\"251.5\" y=\"-806.3\" font-family=\"Times,serif\" font-size=\"14.00\">mul</text>\n",
       "</g>\n",
       "<!-- b&#45;&gt;h -->\n",
       "<g id=\"edge6\" class=\"edge\">\n",
       "<title>b&#45;&gt;h</title>\n",
       "<path fill=\"none\" stroke=\"black\" d=\"M406.24,-866.83C371.68,-854.36 321.73,-836.34 288.02,-824.18\"/>\n",
       "<polygon fill=\"black\" stroke=\"black\" points=\"289.13,-820.86 278.54,-820.76 286.75,-827.44 289.13,-820.86\"/>\n",
       "</g>\n",
       "<!-- u -->\n",
       "<g id=\"node26\" class=\"node\">\n",
       "<title>u</title>\n",
       "<polygon fill=\"lightskyblue\" stroke=\"lightskyblue\" points=\"542.5,-396 488.5,-396 488.5,-360 542.5,-360 542.5,-396\"/>\n",
       "<text text-anchor=\"middle\" x=\"515.5\" y=\"-374.3\" font-family=\"Times,serif\" font-size=\"14.00\">mul</text>\n",
       "</g>\n",
       "<!-- b&#45;&gt;u -->\n",
       "<g id=\"edge28\" class=\"edge\">\n",
       "<title>b&#45;&gt;u</title>\n",
       "<path fill=\"none\" stroke=\"black\" d=\"M460.35,-863.97C480.89,-838.58 515.5,-788.47 515.5,-739 515.5,-739 515.5,-739 515.5,-521 515.5,-481 515.5,-434.65 515.5,-406.08\"/>\n",
       "<polygon fill=\"black\" stroke=\"black\" points=\"519,-406.05 515.5,-396.05 512,-406.05 519,-406.05\"/>\n",
       "</g>\n",
       "<!-- c -->\n",
       "<g id=\"node3\" class=\"node\">\n",
       "<title>c</title>\n",
       "<ellipse fill=\"mediumspringgreen\" stroke=\"mediumspringgreen\" cx=\"287.5\" cy=\"-738\" rx=\"72.59\" ry=\"18\"/>\n",
       "<text text-anchor=\"middle\" x=\"287.5\" y=\"-734.3\" font-family=\"Times,serif\" font-size=\"14.00\">float32[1000]</text>\n",
       "</g>\n",
       "<!-- j -->\n",
       "<g id=\"node10\" class=\"node\">\n",
       "<title>j</title>\n",
       "<polygon fill=\"lightskyblue\" stroke=\"lightskyblue\" points=\"196.5,-684 142.5,-684 142.5,-648 196.5,-648 196.5,-684\"/>\n",
       "<text text-anchor=\"middle\" x=\"169.5\" y=\"-662.3\" font-family=\"Times,serif\" font-size=\"14.00\">sub</text>\n",
       "</g>\n",
       "<!-- c&#45;&gt;j -->\n",
       "<g id=\"edge10\" class=\"edge\">\n",
       "<title>c&#45;&gt;j</title>\n",
       "<path fill=\"none\" stroke=\"black\" d=\"M260.72,-721.12C244.39,-711.43 223.32,-698.92 205.53,-688.38\"/>\n",
       "<polygon fill=\"black\" stroke=\"black\" points=\"206.96,-685.16 196.58,-683.06 203.39,-691.18 206.96,-685.16\"/>\n",
       "</g>\n",
       "<!-- e -->\n",
       "<g id=\"node5\" class=\"node\">\n",
       "<title>e</title>\n",
       "<polygon fill=\"lightskyblue\" stroke=\"lightskyblue\" points=\"283.5,-900 209.5,-900 209.5,-864 283.5,-864 283.5,-900\"/>\n",
       "<text text-anchor=\"middle\" x=\"246.5\" y=\"-878.3\" font-family=\"Times,serif\" font-size=\"14.00\">squeeze</text>\n",
       "</g>\n",
       "<!-- d&#45;&gt;e -->\n",
       "<g id=\"edge2\" class=\"edge\">\n",
       "<title>d&#45;&gt;e</title>\n",
       "<path fill=\"none\" stroke=\"black\" d=\"M245.75,-935.7C245.86,-927.98 245.99,-918.71 246.11,-910.11\"/>\n",
       "<polygon fill=\"black\" stroke=\"black\" points=\"249.61,-910.15 246.26,-900.1 242.61,-910.05 249.61,-910.15\"/>\n",
       "</g>\n",
       "<!-- e&#45;&gt;h -->\n",
       "<g id=\"edge5\" class=\"edge\">\n",
       "<title>e&#45;&gt;h</title>\n",
       "<path fill=\"none\" stroke=\"black\" d=\"M247.74,-863.7C248.29,-855.98 248.95,-846.71 249.56,-838.11\"/>\n",
       "<polygon fill=\"black\" stroke=\"black\" points=\"253.06,-838.33 250.28,-828.1 246.07,-837.83 253.06,-838.33\"/>\n",
       "</g>\n",
       "<!-- g -->\n",
       "<g id=\"node7\" class=\"node\">\n",
       "<title>g</title>\n",
       "<polygon fill=\"lightskyblue\" stroke=\"lightskyblue\" points=\"206.5,-828 132.5,-828 132.5,-792 206.5,-792 206.5,-828\"/>\n",
       "<text text-anchor=\"middle\" x=\"169.5\" y=\"-806.3\" font-family=\"Times,serif\" font-size=\"14.00\">squeeze</text>\n",
       "</g>\n",
       "<!-- f&#45;&gt;g -->\n",
       "<g id=\"edge4\" class=\"edge\">\n",
       "<title>f&#45;&gt;g</title>\n",
       "<path fill=\"none\" stroke=\"black\" d=\"M171.26,-935.87C170.92,-911.67 170.29,-867.21 169.89,-838.39\"/>\n",
       "<polygon fill=\"black\" stroke=\"black\" points=\"173.38,-838.14 169.74,-828.19 166.38,-838.24 173.38,-838.14\"/>\n",
       "</g>\n",
       "<!-- i -->\n",
       "<g id=\"node9\" class=\"node\">\n",
       "<title>i</title>\n",
       "<polygon fill=\"lightskyblue\" stroke=\"lightskyblue\" points=\"196.5,-756 142.5,-756 142.5,-720 196.5,-720 196.5,-756\"/>\n",
       "<text text-anchor=\"middle\" x=\"169.5\" y=\"-734.3\" font-family=\"Times,serif\" font-size=\"14.00\">add</text>\n",
       "</g>\n",
       "<!-- g&#45;&gt;i -->\n",
       "<g id=\"edge8\" class=\"edge\">\n",
       "<title>g&#45;&gt;i</title>\n",
       "<path fill=\"none\" stroke=\"black\" d=\"M169.5,-791.7C169.5,-783.98 169.5,-774.71 169.5,-766.11\"/>\n",
       "<polygon fill=\"black\" stroke=\"black\" points=\"173,-766.1 169.5,-756.1 166,-766.1 173,-766.1\"/>\n",
       "</g>\n",
       "<!-- h&#45;&gt;i -->\n",
       "<g id=\"edge7\" class=\"edge\">\n",
       "<title>h&#45;&gt;i</title>\n",
       "<path fill=\"none\" stroke=\"black\" d=\"M231.23,-791.7C221,-782.97 208.44,-772.24 197.32,-762.75\"/>\n",
       "<polygon fill=\"black\" stroke=\"black\" points=\"199.41,-759.94 189.54,-756.1 194.87,-765.26 199.41,-759.94\"/>\n",
       "</g>\n",
       "<!-- i&#45;&gt;j -->\n",
       "<g id=\"edge9\" class=\"edge\">\n",
       "<title>i&#45;&gt;j</title>\n",
       "<path fill=\"none\" stroke=\"black\" d=\"M169.5,-719.7C169.5,-711.98 169.5,-702.71 169.5,-694.11\"/>\n",
       "<polygon fill=\"black\" stroke=\"black\" points=\"173,-694.1 169.5,-684.1 166,-694.1 173,-694.1\"/>\n",
       "</g>\n",
       "<!-- k -->\n",
       "<g id=\"node11\" class=\"node\">\n",
       "<title>k</title>\n",
       "<polygon fill=\"lightskyblue\" stroke=\"lightskyblue\" points=\"101,-612 0,-612 0,-576 101,-576 101,-612\"/>\n",
       "<text text-anchor=\"middle\" x=\"50.5\" y=\"-590.3\" font-family=\"Times,serif\" font-size=\"14.00\">integer_pow</text>\n",
       "</g>\n",
       "<!-- j&#45;&gt;k -->\n",
       "<g id=\"edge11\" class=\"edge\">\n",
       "<title>j&#45;&gt;k</title>\n",
       "<path fill=\"none\" stroke=\"black\" d=\"M142.5,-649.12C126.5,-639.7 105.97,-627.63 88.37,-617.28\"/>\n",
       "<polygon fill=\"black\" stroke=\"black\" points=\"89.87,-614.1 79.48,-612.04 86.32,-620.13 89.87,-614.1\"/>\n",
       "</g>\n",
       "<!-- l -->\n",
       "<g id=\"node12\" class=\"node\">\n",
       "<title>l</title>\n",
       "<polygon fill=\"lightskyblue\" stroke=\"lightskyblue\" points=\"220,-612 119,-612 119,-576 220,-576 220,-612\"/>\n",
       "<text text-anchor=\"middle\" x=\"169.5\" y=\"-590.3\" font-family=\"Times,serif\" font-size=\"14.00\">integer_pow</text>\n",
       "</g>\n",
       "<!-- j&#45;&gt;l -->\n",
       "<g id=\"edge12\" class=\"edge\">\n",
       "<title>j&#45;&gt;l</title>\n",
       "<path fill=\"none\" stroke=\"black\" d=\"M169.5,-647.7C169.5,-639.98 169.5,-630.71 169.5,-622.11\"/>\n",
       "<polygon fill=\"black\" stroke=\"black\" points=\"173,-622.1 169.5,-612.1 166,-622.1 173,-622.1\"/>\n",
       "</g>\n",
       "<!-- n -->\n",
       "<g id=\"node15\" class=\"node\">\n",
       "<title>n</title>\n",
       "<polygon fill=\"lightskyblue\" stroke=\"lightskyblue\" points=\"161,-540 60,-540 60,-504 161,-504 161,-540\"/>\n",
       "<text text-anchor=\"middle\" x=\"110.5\" y=\"-518.3\" font-family=\"Times,serif\" font-size=\"14.00\">reduce_sum</text>\n",
       "</g>\n",
       "<!-- k&#45;&gt;n -->\n",
       "<g id=\"edge15\" class=\"edge\">\n",
       "<title>k&#45;&gt;n</title>\n",
       "<path fill=\"none\" stroke=\"black\" d=\"M65.33,-575.7C72.52,-567.3 81.3,-557.07 89.19,-547.86\"/>\n",
       "<polygon fill=\"black\" stroke=\"black\" points=\"91.99,-549.97 95.84,-540.1 86.67,-545.42 91.99,-549.97\"/>\n",
       "</g>\n",
       "<!-- m -->\n",
       "<g id=\"node14\" class=\"node\">\n",
       "<title>m</title>\n",
       "<polygon fill=\"lightskyblue\" stroke=\"lightskyblue\" points=\"331.5,-540 277.5,-540 277.5,-504 331.5,-504 331.5,-540\"/>\n",
       "<text text-anchor=\"middle\" x=\"304.5\" y=\"-518.3\" font-family=\"Times,serif\" font-size=\"14.00\">mul</text>\n",
       "</g>\n",
       "<!-- l&#45;&gt;m -->\n",
       "<g id=\"edge14\" class=\"edge\">\n",
       "<title>l&#45;&gt;m</title>\n",
       "<path fill=\"none\" stroke=\"black\" d=\"M202.52,-575.88C222.43,-565.56 247.79,-552.4 268.25,-541.8\"/>\n",
       "<polygon fill=\"black\" stroke=\"black\" points=\"270,-544.83 277.26,-537.12 266.77,-538.62 270,-544.83\"/>\n",
       "</g>\n",
       "<!-- 140396381090320 -->\n",
       "<g id=\"node13\" class=\"node\">\n",
       "<title>140396381090320</title>\n",
       "<ellipse fill=\"#ffc125\" stroke=\"#ffc125\" cx=\"325.5\" cy=\"-594\" rx=\"49.29\" ry=\"18\"/>\n",
       "<text text-anchor=\"middle\" x=\"325.5\" y=\"-590.3\" font-family=\"Times,serif\" font-size=\"14.00\">float32[]</text>\n",
       "</g>\n",
       "<!-- 140396381090320&#45;&gt;m -->\n",
       "<g id=\"edge13\" class=\"edge\">\n",
       "<title>140396381090320&#45;&gt;m</title>\n",
       "<path fill=\"none\" stroke=\"black\" d=\"M320.42,-576.05C318.08,-568.26 315.25,-558.82 312.62,-550.08\"/>\n",
       "<polygon fill=\"black\" stroke=\"black\" points=\"315.91,-548.85 309.68,-540.28 309.2,-550.86 315.91,-548.85\"/>\n",
       "</g>\n",
       "<!-- q -->\n",
       "<g id=\"node21\" class=\"node\">\n",
       "<title>q</title>\n",
       "<polygon fill=\"lightskyblue\" stroke=\"lightskyblue\" points=\"440.5,-468 386.5,-468 386.5,-432 440.5,-432 440.5,-468\"/>\n",
       "<text text-anchor=\"middle\" x=\"413.5\" y=\"-446.3\" font-family=\"Times,serif\" font-size=\"14.00\">mul</text>\n",
       "</g>\n",
       "<!-- m&#45;&gt;q -->\n",
       "<g id=\"edge22\" class=\"edge\">\n",
       "<title>m&#45;&gt;q</title>\n",
       "<path fill=\"none\" stroke=\"black\" d=\"M331.16,-503.88C345.28,-494.81 362.81,-483.55 378.06,-473.76\"/>\n",
       "<polygon fill=\"black\" stroke=\"black\" points=\"380.21,-476.54 386.73,-468.19 376.43,-470.65 380.21,-476.54\"/>\n",
       "</g>\n",
       "<!-- _ -->\n",
       "<g id=\"node17\" class=\"node\">\n",
       "<title>_</title>\n",
       "<polygon fill=\"lightskyblue\" stroke=\"lightskyblue\" points=\"206.5,-468 152.5,-468 152.5,-432 206.5,-432 206.5,-468\"/>\n",
       "<text text-anchor=\"middle\" x=\"179.5\" y=\"-446.3\" font-family=\"Times,serif\" font-size=\"14.00\">div</text>\n",
       "</g>\n",
       "<!-- n&#45;&gt;_ -->\n",
       "<g id=\"edge16\" class=\"edge\">\n",
       "<title>n&#45;&gt;_</title>\n",
       "<path fill=\"none\" stroke=\"black\" d=\"M127.56,-503.7C136,-495.14 146.32,-484.66 155.54,-475.3\"/>\n",
       "<polygon fill=\"black\" stroke=\"black\" points=\"158.11,-477.68 162.64,-468.1 153.13,-472.77 158.11,-477.68\"/>\n",
       "</g>\n",
       "<!-- 140396380642672 -->\n",
       "<g id=\"node16\" class=\"node\">\n",
       "<title>140396380642672</title>\n",
       "<ellipse fill=\"#ffc125\" stroke=\"#ffc125\" cx=\"283.5\" cy=\"-666\" rx=\"49.29\" ry=\"18\"/>\n",
       "<text text-anchor=\"middle\" x=\"283.5\" y=\"-662.3\" font-family=\"Times,serif\" font-size=\"14.00\">float32[]</text>\n",
       "</g>\n",
       "<!-- 140396380642672&#45;&gt;_ -->\n",
       "<g id=\"edge17\" class=\"edge\">\n",
       "<title>140396380642672&#45;&gt;_</title>\n",
       "<path fill=\"none\" stroke=\"black\" d=\"M275.34,-648.21C257.27,-611.03 213.78,-521.55 192.16,-477.04\"/>\n",
       "<polygon fill=\"black\" stroke=\"black\" points=\"195.29,-475.47 187.77,-468.01 188.99,-478.53 195.29,-475.47\"/>\n",
       "</g>\n",
       "<!-- o -->\n",
       "<g id=\"node19\" class=\"node\">\n",
       "<title>o</title>\n",
       "<polygon fill=\"lightskyblue\" stroke=\"lightskyblue\" points=\"446.5,-612 392.5,-612 392.5,-576 446.5,-576 446.5,-612\"/>\n",
       "<text text-anchor=\"middle\" x=\"419.5\" y=\"-590.3\" font-family=\"Times,serif\" font-size=\"14.00\">div</text>\n",
       "</g>\n",
       "<!-- 140396380642672&#45;&gt;o -->\n",
       "<g id=\"edge19\" class=\"edge\">\n",
       "<title>140396380642672&#45;&gt;o</title>\n",
       "<path fill=\"none\" stroke=\"black\" d=\"M311.02,-650.83C331.9,-640.09 360.77,-625.23 383.48,-613.54\"/>\n",
       "<polygon fill=\"black\" stroke=\"black\" points=\"385.19,-616.59 392.48,-608.91 381.99,-610.37 385.19,-616.59\"/>\n",
       "</g>\n",
       "<!-- 140396379276080 -->\n",
       "<g id=\"node18\" class=\"node\">\n",
       "<title>140396379276080</title>\n",
       "<ellipse fill=\"#ffc125\" stroke=\"#ffc125\" cx=\"419.5\" cy=\"-666\" rx=\"49.29\" ry=\"18\"/>\n",
       "<text text-anchor=\"middle\" x=\"419.5\" y=\"-662.3\" font-family=\"Times,serif\" font-size=\"14.00\">float32[]</text>\n",
       "</g>\n",
       "<!-- 140396379276080&#45;&gt;o -->\n",
       "<g id=\"edge18\" class=\"edge\">\n",
       "<title>140396379276080&#45;&gt;o</title>\n",
       "<path fill=\"none\" stroke=\"black\" d=\"M419.5,-647.7C419.5,-639.98 419.5,-630.71 419.5,-622.11\"/>\n",
       "<polygon fill=\"black\" stroke=\"black\" points=\"423,-622.1 419.5,-612.1 416,-622.1 423,-622.1\"/>\n",
       "</g>\n",
       "<!-- p -->\n",
       "<g id=\"node20\" class=\"node\">\n",
       "<title>p</title>\n",
       "<polygon fill=\"lightskyblue\" stroke=\"lightskyblue\" points=\"487,-540 350,-540 350,-504 487,-504 487,-540\"/>\n",
       "<text text-anchor=\"middle\" x=\"418.5\" y=\"-518.3\" font-family=\"Times,serif\" font-size=\"14.00\">broadcast_in_dim</text>\n",
       "</g>\n",
       "<!-- o&#45;&gt;p -->\n",
       "<g id=\"edge20\" class=\"edge\">\n",
       "<title>o&#45;&gt;p</title>\n",
       "<path fill=\"none\" stroke=\"black\" d=\"M419.25,-575.7C419.14,-567.98 419.01,-558.71 418.89,-550.11\"/>\n",
       "<polygon fill=\"black\" stroke=\"black\" points=\"422.39,-550.05 418.74,-540.1 415.39,-550.15 422.39,-550.05\"/>\n",
       "</g>\n",
       "<!-- p&#45;&gt;q -->\n",
       "<g id=\"edge21\" class=\"edge\">\n",
       "<title>p&#45;&gt;q</title>\n",
       "<path fill=\"none\" stroke=\"black\" d=\"M417.26,-503.7C416.71,-495.98 416.05,-486.71 415.44,-478.11\"/>\n",
       "<polygon fill=\"black\" stroke=\"black\" points=\"418.93,-477.83 414.72,-468.1 411.94,-478.33 418.93,-477.83\"/>\n",
       "</g>\n",
       "<!-- r -->\n",
       "<g id=\"node22\" class=\"node\">\n",
       "<title>r</title>\n",
       "<polygon fill=\"lightskyblue\" stroke=\"lightskyblue\" points=\"459,-396 358,-396 358,-360 459,-360 459,-396\"/>\n",
       "<text text-anchor=\"middle\" x=\"408.5\" y=\"-374.3\" font-family=\"Times,serif\" font-size=\"14.00\">reduce_sum</text>\n",
       "</g>\n",
       "<!-- q&#45;&gt;r -->\n",
       "<g id=\"edge23\" class=\"edge\">\n",
       "<title>q&#45;&gt;r</title>\n",
       "<path fill=\"none\" stroke=\"black\" d=\"M412.26,-431.7C411.71,-423.98 411.05,-414.71 410.44,-406.11\"/>\n",
       "<polygon fill=\"black\" stroke=\"black\" points=\"413.93,-405.83 409.72,-396.1 406.94,-406.33 413.93,-405.83\"/>\n",
       "</g>\n",
       "<!-- q&#45;&gt;u -->\n",
       "<g id=\"edge27\" class=\"edge\">\n",
       "<title>q&#45;&gt;u</title>\n",
       "<path fill=\"none\" stroke=\"black\" d=\"M438.45,-431.88C451.54,-422.89 467.76,-411.76 481.94,-402.03\"/>\n",
       "<polygon fill=\"black\" stroke=\"black\" points=\"484.19,-404.73 490.45,-396.19 480.23,-398.96 484.19,-404.73\"/>\n",
       "</g>\n",
       "<!-- s -->\n",
       "<g id=\"node23\" class=\"node\">\n",
       "<title>s</title>\n",
       "<polygon fill=\"lightskyblue\" stroke=\"lightskyblue\" points=\"457,-324 320,-324 320,-288 457,-288 457,-324\"/>\n",
       "<text text-anchor=\"middle\" x=\"388.5\" y=\"-302.3\" font-family=\"Times,serif\" font-size=\"14.00\">broadcast_in_dim</text>\n",
       "</g>\n",
       "<!-- r&#45;&gt;s -->\n",
       "<g id=\"edge24\" class=\"edge\">\n",
       "<title>r&#45;&gt;s</title>\n",
       "<path fill=\"none\" stroke=\"black\" d=\"M403.56,-359.7C401.33,-351.9 398.65,-342.51 396.17,-333.83\"/>\n",
       "<polygon fill=\"black\" stroke=\"black\" points=\"399.5,-332.76 393.39,-324.1 392.77,-334.68 399.5,-332.76\"/>\n",
       "</g>\n",
       "<!-- t -->\n",
       "<g id=\"node25\" class=\"node\">\n",
       "<title>t</title>\n",
       "<polygon fill=\"lightskyblue\" stroke=\"lightskyblue\" points=\"322.5,-252 268.5,-252 268.5,-216 322.5,-216 322.5,-252\"/>\n",
       "<text text-anchor=\"middle\" x=\"295.5\" y=\"-230.3\" font-family=\"Times,serif\" font-size=\"14.00\">pad</text>\n",
       "</g>\n",
       "<!-- s&#45;&gt;t -->\n",
       "<g id=\"edge25\" class=\"edge\">\n",
       "<title>s&#45;&gt;t</title>\n",
       "<path fill=\"none\" stroke=\"black\" d=\"M365.51,-287.7C353.69,-278.8 339.11,-267.82 326.32,-258.2\"/>\n",
       "<polygon fill=\"black\" stroke=\"black\" points=\"328.32,-255.32 318.22,-252.1 324.11,-260.91 328.32,-255.32\"/>\n",
       "</g>\n",
       "<!-- 140396381092816 -->\n",
       "<g id=\"node24\" class=\"node\">\n",
       "<title>140396381092816</title>\n",
       "<ellipse fill=\"#ffc125\" stroke=\"#ffc125\" cx=\"252.5\" cy=\"-306\" rx=\"49.29\" ry=\"18\"/>\n",
       "<text text-anchor=\"middle\" x=\"252.5\" y=\"-302.3\" font-family=\"Times,serif\" font-size=\"14.00\">float32[]</text>\n",
       "</g>\n",
       "<!-- 140396381092816&#45;&gt;t -->\n",
       "<g id=\"edge26\" class=\"edge\">\n",
       "<title>140396381092816&#45;&gt;t</title>\n",
       "<path fill=\"none\" stroke=\"black\" d=\"M262.91,-288.05C267.91,-279.92 274,-270 279.56,-260.94\"/>\n",
       "<polygon fill=\"black\" stroke=\"black\" points=\"282.64,-262.63 284.89,-252.28 276.67,-258.96 282.64,-262.63\"/>\n",
       "</g>\n",
       "<!-- y -->\n",
       "<g id=\"node31\" class=\"node\">\n",
       "<title>y</title>\n",
       "<polygon fill=\"lightskyblue\" stroke=\"lightskyblue\" points=\"380,-108 305,-108 305,-72 380,-72 380,-108\"/>\n",
       "<text text-anchor=\"middle\" x=\"342.5\" y=\"-86.3\" font-family=\"Times,serif\" font-size=\"14.00\">add_any</text>\n",
       "</g>\n",
       "<!-- t&#45;&gt;y -->\n",
       "<g id=\"edge33\" class=\"edge\">\n",
       "<title>t&#45;&gt;y</title>\n",
       "<path fill=\"none\" stroke=\"black\" d=\"M301.17,-215.87C309.21,-191.56 324.02,-146.82 333.56,-118.01\"/>\n",
       "<polygon fill=\"black\" stroke=\"black\" points=\"336.99,-118.78 336.81,-108.19 330.35,-116.58 336.99,-118.78\"/>\n",
       "</g>\n",
       "<!-- v -->\n",
       "<g id=\"node27\" class=\"node\">\n",
       "<title>v</title>\n",
       "<polygon fill=\"lightskyblue\" stroke=\"lightskyblue\" points=\"576,-324 475,-324 475,-288 576,-288 576,-324\"/>\n",
       "<text text-anchor=\"middle\" x=\"525.5\" y=\"-302.3\" font-family=\"Times,serif\" font-size=\"14.00\">reduce_sum</text>\n",
       "</g>\n",
       "<!-- u&#45;&gt;v -->\n",
       "<g id=\"edge29\" class=\"edge\">\n",
       "<title>u&#45;&gt;v</title>\n",
       "<path fill=\"none\" stroke=\"black\" d=\"M517.97,-359.7C519.07,-351.98 520.4,-342.71 521.63,-334.11\"/>\n",
       "<polygon fill=\"black\" stroke=\"black\" points=\"525.11,-334.5 523.06,-324.1 518.18,-333.51 525.11,-334.5\"/>\n",
       "</g>\n",
       "<!-- w -->\n",
       "<g id=\"node28\" class=\"node\">\n",
       "<title>w</title>\n",
       "<polygon fill=\"lightskyblue\" stroke=\"lightskyblue\" points=\"594,-252 457,-252 457,-216 594,-216 594,-252\"/>\n",
       "<text text-anchor=\"middle\" x=\"525.5\" y=\"-230.3\" font-family=\"Times,serif\" font-size=\"14.00\">broadcast_in_dim</text>\n",
       "</g>\n",
       "<!-- v&#45;&gt;w -->\n",
       "<g id=\"edge30\" class=\"edge\">\n",
       "<title>v&#45;&gt;w</title>\n",
       "<path fill=\"none\" stroke=\"black\" d=\"M525.5,-287.7C525.5,-279.98 525.5,-270.71 525.5,-262.11\"/>\n",
       "<polygon fill=\"black\" stroke=\"black\" points=\"529,-262.1 525.5,-252.1 522,-262.1 529,-262.1\"/>\n",
       "</g>\n",
       "<!-- x -->\n",
       "<g id=\"node30\" class=\"node\">\n",
       "<title>x</title>\n",
       "<polygon fill=\"lightskyblue\" stroke=\"lightskyblue\" points=\"416.5,-180 362.5,-180 362.5,-144 416.5,-144 416.5,-180\"/>\n",
       "<text text-anchor=\"middle\" x=\"389.5\" y=\"-158.3\" font-family=\"Times,serif\" font-size=\"14.00\">pad</text>\n",
       "</g>\n",
       "<!-- w&#45;&gt;x -->\n",
       "<g id=\"edge31\" class=\"edge\">\n",
       "<title>w&#45;&gt;x</title>\n",
       "<path fill=\"none\" stroke=\"black\" d=\"M492.23,-215.88C472.18,-205.56 446.63,-192.4 426.02,-181.8\"/>\n",
       "<polygon fill=\"black\" stroke=\"black\" points=\"427.43,-178.59 416.94,-177.12 424.23,-184.81 427.43,-178.59\"/>\n",
       "</g>\n",
       "<!-- 140396381093488 -->\n",
       "<g id=\"node29\" class=\"node\">\n",
       "<title>140396381093488</title>\n",
       "<ellipse fill=\"#ffc125\" stroke=\"#ffc125\" cx=\"389.5\" cy=\"-234\" rx=\"49.29\" ry=\"18\"/>\n",
       "<text text-anchor=\"middle\" x=\"389.5\" y=\"-230.3\" font-family=\"Times,serif\" font-size=\"14.00\">float32[]</text>\n",
       "</g>\n",
       "<!-- 140396381093488&#45;&gt;x -->\n",
       "<g id=\"edge32\" class=\"edge\">\n",
       "<title>140396381093488&#45;&gt;x</title>\n",
       "<path fill=\"none\" stroke=\"black\" d=\"M389.5,-215.7C389.5,-207.98 389.5,-198.71 389.5,-190.11\"/>\n",
       "<polygon fill=\"black\" stroke=\"black\" points=\"393,-190.1 389.5,-180.1 386,-190.1 393,-190.1\"/>\n",
       "</g>\n",
       "<!-- x&#45;&gt;y -->\n",
       "<g id=\"edge34\" class=\"edge\">\n",
       "<title>x&#45;&gt;y</title>\n",
       "<path fill=\"none\" stroke=\"black\" d=\"M377.88,-143.7C372.36,-135.47 365.65,-125.48 359.57,-116.42\"/>\n",
       "<polygon fill=\"black\" stroke=\"black\" points=\"362.46,-114.46 353.98,-108.1 356.65,-118.36 362.46,-114.46\"/>\n",
       "</g>\n",
       "<!-- out_0 -->\n",
       "<g id=\"node32\" class=\"node\">\n",
       "<title>out_0</title>\n",
       "<ellipse fill=\"#ff6a6a\" stroke=\"black\" stroke-dasharray=\"5,2\" cx=\"342.5\" cy=\"-18\" rx=\"36\" ry=\"18\"/>\n",
       "<text text-anchor=\"middle\" x=\"342.5\" y=\"-14.3\" font-family=\"Times,serif\" font-size=\"14.00\">out_0</text>\n",
       "</g>\n",
       "<!-- y&#45;&gt;out_0 -->\n",
       "<g id=\"edge35\" class=\"edge\">\n",
       "<title>y&#45;&gt;out_0</title>\n",
       "<path fill=\"none\" stroke=\"black\" d=\"M342.5,-71.7C342.5,-63.98 342.5,-54.71 342.5,-46.11\"/>\n",
       "<polygon fill=\"black\" stroke=\"black\" points=\"346,-46.1 342.5,-36.1 339,-46.1 346,-46.1\"/>\n",
       "</g>\n",
       "</g>\n",
       "</svg>\n"
      ],
      "text/plain": [
       "<graphviz.graphs.Digraph at 0x7fb09469ddd0>"
      ]
     },
     "execution_count": 27,
     "metadata": {},
     "output_type": "execute_result"
    }
   ],
   "source": [
    "util.jaxpr_graph(grad_fn, model_params, xt, yt)"
   ]
  },
  {
   "cell_type": "code",
   "execution_count": 28,
   "metadata": {},
   "outputs": [
    {
     "data": {
      "text/plain": [
       "{ lambda ; a:f32[2] b:f32[1000] c:f32[1000]. let\n",
       "    d:f32[1] = slice[limit_indices=(1,) start_indices=(0,) strides=(1,)] a\n",
       "    e:f32[] = squeeze[dimensions=(0,)] d\n",
       "    f:f32[1] = slice[limit_indices=(2,) start_indices=(1,) strides=(1,)] a\n",
       "    g:f32[] = squeeze[dimensions=(0,)] f\n",
       "    h:f32[1000] = mul e b\n",
       "    i:f32[1000] = add h g\n",
       "    j:f32[1000] = sub i c\n",
       "    k:f32[1000] = integer_pow[y=2] j\n",
       "    l:f32[1000] = integer_pow[y=1] j\n",
       "    m:f32[1000] = mul 2.0 l\n",
       "    n:f32[] = reduce_sum[axes=(0,)] k\n",
       "    _:f32[] = div n 1000.0\n",
       "    o:f32[] = div 1.0 1000.0\n",
       "    p:f32[1000] = broadcast_in_dim[broadcast_dimensions=() shape=(1000,)] o\n",
       "    q:f32[1000] = mul p m\n",
       "    r:f32[] = reduce_sum[axes=(0,)] q\n",
       "    s:f32[1] = broadcast_in_dim[broadcast_dimensions=() shape=(1,)] r\n",
       "    t:f32[2] = pad[padding_config=((1, 0, 0),)] s 0.0\n",
       "    u:f32[1000] = mul q b\n",
       "    v:f32[] = reduce_sum[axes=(0,)] u\n",
       "    w:f32[1] = broadcast_in_dim[broadcast_dimensions=() shape=(1,)] v\n",
       "    x:f32[2] = pad[padding_config=((0, 1, 0),)] w 0.0\n",
       "    y:f32[2] = add_any t x\n",
       "  in (y,) }"
      ]
     },
     "execution_count": 28,
     "metadata": {},
     "output_type": "execute_result"
    }
   ],
   "source": [
    "test = make_jaxpr(grad_fn)(model_params, xt, yt)\n",
    "test"
   ]
  },
  {
   "cell_type": "code",
   "execution_count": 29,
   "metadata": {},
   "outputs": [
    {
     "name": "stdout",
     "output_type": "stream",
     "text": [
      "_asdict                                 _field_defaults\n",
      "_fields                                 _make\n",
      "_replace                                count\n",
      "effects                                 index\n",
      "invars                                  outvars\n",
      "params                                  primitive\n",
      "replace                                 source_info\n"
     ]
    }
   ],
   "source": [
    "print_dir(test.jaxpr.eqns[0])"
   ]
  },
  {
   "cell_type": "code",
   "execution_count": 30,
   "metadata": {},
   "outputs": [
    {
     "data": {
      "text/plain": [
       "a:f32[1] = slice[limit_indices=(1,) start_indices=(0,) strides=(1,)] b"
      ]
     },
     "execution_count": 30,
     "metadata": {},
     "output_type": "execute_result"
    }
   ],
   "source": [
    "test.jaxpr.eqns[0]"
   ]
  },
  {
   "cell_type": "code",
   "execution_count": 31,
   "metadata": {},
   "outputs": [
    {
     "data": {
      "text/plain": [
       "{'invars': [a],\n",
       " 'outvars': [d],\n",
       " 'primitive': slice,\n",
       " 'params': {'start_indices': (0,), 'limit_indices': (1,), 'strides': (1,)},\n",
       " 'effects': frozenset(),\n",
       " 'source_info': SourceInfo(traceback=<jaxlib.xla_extension.Traceback object at 0x7fb0946ef470>, name_stack=NameStack(stack=(Transform(name='jvp'),)))}"
      ]
     },
     "execution_count": 31,
     "metadata": {},
     "output_type": "execute_result"
    }
   ],
   "source": [
    "test.jaxpr.eqns[0]._asdict()"
   ]
  },
  {
   "cell_type": "code",
   "execution_count": 32,
   "metadata": {},
   "outputs": [
    {
     "data": {
      "text/plain": [
       "(Array(-2552.6204, dtype=float32), Array(-153.905, dtype=float32))"
      ]
     },
     "execution_count": 32,
     "metadata": {},
     "output_type": "execute_result"
    }
   ],
   "source": [
    "(\n",
    "    jnp.sum(((2 * (model(jnp.array([1.0, 1.0]), xt) - yt)) * 1 / 1000) * xt),\n",
    "    jnp.sum(((2 * (model(jnp.array([1.0, 1.0]), xt) - yt)) * 1 / 1000)),\n",
    ")"
   ]
  },
  {
   "cell_type": "code",
   "execution_count": 33,
   "metadata": {},
   "outputs": [
    {
     "data": {
      "text/plain": [
       "Array([-2552.6204,  -153.905 ], dtype=float32)"
      ]
     },
     "execution_count": 33,
     "metadata": {},
     "output_type": "execute_result"
    }
   ],
   "source": [
    "grads"
   ]
  },
  {
   "cell_type": "markdown",
   "metadata": {},
   "source": [
    "## argnums in grad\n",
    "\n",
    "determines which positional argument to differentiate with respect to."
   ]
  },
  {
   "cell_type": "code",
   "execution_count": 34,
   "metadata": {},
   "outputs": [],
   "source": [
    "def f(x, y):\n",
    "    return x**2 + 2 * y"
   ]
  },
  {
   "cell_type": "code",
   "execution_count": 39,
   "metadata": {},
   "outputs": [
    {
     "data": {
      "text/plain": [
       "Array(4., dtype=float32, weak_type=True)"
      ]
     },
     "execution_count": 39,
     "metadata": {},
     "output_type": "execute_result"
    }
   ],
   "source": [
    "df_dx = grad(f, argnums=0)  # df/dx = 2x since x is first parameter\n",
    "df_dx(2.0, 10.0)"
   ]
  },
  {
   "cell_type": "code",
   "execution_count": 40,
   "metadata": {},
   "outputs": [
    {
     "data": {
      "text/plain": [
       "Array(2., dtype=float32, weak_type=True)"
      ]
     },
     "execution_count": 40,
     "metadata": {},
     "output_type": "execute_result"
    }
   ],
   "source": [
    "df_dy = grad(f, argnums=1)  # df/dy = 2\n",
    "df_dy(4.0, 10.0)"
   ]
  },
  {
   "cell_type": "code",
   "execution_count": 41,
   "metadata": {},
   "outputs": [
    {
     "data": {
      "text/plain": [
       "(Array(10., dtype=float32, weak_type=True),\n",
       " Array(2., dtype=float32, weak_type=True))"
      ]
     },
     "execution_count": 41,
     "metadata": {},
     "output_type": "execute_result"
    }
   ],
   "source": [
    "# ? diff with both x and y\n",
    "df_dx_dy = grad(f, argnums=(0, 1))\n",
    "df_dx_dy(5.0, 11.0)"
   ]
  },
  {
   "cell_type": "markdown",
   "metadata": {},
   "source": [
    "### diff using dict"
   ]
  },
  {
   "cell_type": "code",
   "execution_count": 45,
   "metadata": {},
   "outputs": [
    {
     "data": {
      "text/plain": [
       "{'b': Array(-153.905, dtype=float32, weak_type=True),\n",
       " 'w': Array(-2552.6204, dtype=float32, weak_type=True)}"
      ]
     },
     "execution_count": 45,
     "metadata": {},
     "output_type": "execute_result"
    }
   ],
   "source": [
    "xt = jnp.array(x)\n",
    "yt = jnp.array(y)\n",
    "lr = 1e-2\n",
    "\n",
    "model_params = {\"w\": jnp.array(1.0), \"b\": jnp.array(1.0)}\n",
    "\n",
    "\n",
    "def model(theta, x):\n",
    "    w, b = theta[\"w\"], theta[\"b\"]\n",
    "    return w * x + b\n",
    "\n",
    "\n",
    "def loss_fn(model_params, x, y):\n",
    "    pred = model(model_params, x)\n",
    "    return jnp.mean((pred - y) ** 2)\n",
    "\n",
    "\n",
    "grad_fn = grad(loss_fn)\n",
    "grads = grad_fn(model_params, xt, yt)\n",
    "grads"
   ]
  },
  {
   "cell_type": "markdown",
   "metadata": {},
   "source": [
    "### has_aux\n",
    "\n",
    "1. fn should return a scalar (which includes arrays with shape () but not arrays with shape (1,) etc.\n",
    "2. indicates whether fun returns a pair where the first element is considered the output of the mathematical function to be differentiated and the second element is auxiliary data."
   ]
  },
  {
   "cell_type": "code",
   "execution_count": 46,
   "metadata": {},
   "outputs": [],
   "source": [
    "def f(x, y):\n",
    "    res = x**2 + 2 * y\n",
    "    return res, res"
   ]
  },
  {
   "cell_type": "code",
   "execution_count": 50,
   "metadata": {},
   "outputs": [
    {
     "name": "stdout",
     "output_type": "stream",
     "text": [
      "Gradient only defined for scalar-output functions. Output was (Array(47., dtype=float32, weak_type=True), Array(47., dtype=float32, weak_type=True)).\n"
     ]
    }
   ],
   "source": [
    "df_dx_dy = grad(f, argnums=(0, 1))\n",
    "try:\n",
    "    df_dx_dy(5.0, 11.0)\n",
    "except TypeError as e:\n",
    "    print(e)"
   ]
  },
  {
   "cell_type": "code",
   "execution_count": 51,
   "metadata": {},
   "outputs": [
    {
     "data": {
      "text/plain": [
       "((Array(10., dtype=float32, weak_type=True),\n",
       "  Array(2., dtype=float32, weak_type=True)),\n",
       " Array(47., dtype=float32, weak_type=True))"
      ]
     },
     "execution_count": 51,
     "metadata": {},
     "output_type": "execute_result"
    }
   ],
   "source": [
    "df_dx_dy = grad(f, argnums=(0, 1), has_aux=True)\n",
    "df_dx_dy(5.0, 11.0)"
   ]
  },
  {
   "cell_type": "markdown",
   "metadata": {},
   "source": [
    "### return the loss and grad as same time"
   ]
  },
  {
   "cell_type": "code",
   "execution_count": 52,
   "metadata": {},
   "outputs": [
    {
     "data": {
      "text/plain": [
       "(Array(47., dtype=float32, weak_type=True),\n",
       " (Array(10., dtype=float32, weak_type=True),\n",
       "  Array(2., dtype=float32, weak_type=True)))"
      ]
     },
     "execution_count": 52,
     "metadata": {},
     "output_type": "execute_result"
    }
   ],
   "source": [
    "def f(x, y):\n",
    "    return x**2 + 2 * y\n",
    "\n",
    "df_dx_dy = jax.value_and_grad(f, argnums=(0, 1))\n",
    "df_dx_dy(5.0, 11.0)"
   ]
  },
  {
   "cell_type": "code",
   "execution_count": null,
   "metadata": {},
   "outputs": [],
   "source": []
  }
 ],
 "metadata": {
  "kernelspec": {
   "display_name": "nlp",
   "language": "python",
   "name": "python3"
  },
  "language_info": {
   "codemirror_mode": {
    "name": "ipython",
    "version": 3
   },
   "file_extension": ".py",
   "mimetype": "text/x-python",
   "name": "python",
   "nbconvert_exporter": "python",
   "pygments_lexer": "ipython3",
   "version": "3.11.7"
  }
 },
 "nbformat": 4,
 "nbformat_minor": 2
}
