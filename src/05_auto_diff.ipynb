{
 "cells": [
  {
   "cell_type": "code",
   "execution_count": 1,
   "metadata": {},
   "outputs": [],
   "source": [
    "def f(x):\n",
    "    return x**4 + 12 * x + 1 / x"
   ]
  },
  {
   "cell_type": "code",
   "execution_count": 2,
   "metadata": {},
   "outputs": [],
   "source": [
    "def print_dir(x):\n",
    "    attrs = []\n",
    "    for attr in dir(x):\n",
    "        if not attr.startswith(\"__\"):\n",
    "            attrs.append(attr)\n",
    "    for a, b in zip(*(iter(attrs),) * 2):\n",
    "        print(f\"{a:40}{b}\")"
   ]
  },
  {
   "cell_type": "code",
   "execution_count": 3,
   "metadata": {},
   "outputs": [
    {
     "data": {
      "text/plain": [
       "[]"
      ]
     },
     "execution_count": 3,
     "metadata": {},
     "output_type": "execute_result"
    }
   ],
   "source": [
    "list()"
   ]
  },
  {
   "cell_type": "markdown",
   "metadata": {},
   "source": [
    "# Different method differentiation"
   ]
  },
  {
   "cell_type": "markdown",
   "metadata": {},
   "source": [
    "## Manual differentiation"
   ]
  },
  {
   "cell_type": "code",
   "execution_count": 4,
   "metadata": {},
   "outputs": [],
   "source": [
    "def df(x):\n",
    "    return 4 * x**3 + 12 - 1 / x**2"
   ]
  },
  {
   "cell_type": "code",
   "execution_count": 5,
   "metadata": {},
   "outputs": [
    {
     "name": "stdout",
     "output_type": "stream",
     "text": [
      "14773.09090909091 5335.99173553719\n"
     ]
    }
   ],
   "source": [
    "x = 11.0\n",
    "print(f(x), df(x))"
   ]
  },
  {
   "cell_type": "markdown",
   "metadata": {},
   "source": [
    "## Symbolic differentiation"
   ]
  },
  {
   "cell_type": "code",
   "execution_count": 6,
   "metadata": {},
   "outputs": [
    {
     "data": {
      "text/latex": [
       "$\\displaystyle x^{4} + 12 x + \\frac{1}{x}$"
      ],
      "text/plain": [
       "x**4 + 12*x + 1/x"
      ]
     },
     "execution_count": 6,
     "metadata": {},
     "output_type": "execute_result"
    }
   ],
   "source": [
    "import sympy\n",
    "\n",
    "x_sym = sympy.symbols(\"x\")\n",
    "\n",
    "f_sym = f(x_sym)\n",
    "f_sym"
   ]
  },
  {
   "cell_type": "code",
   "execution_count": 7,
   "metadata": {},
   "outputs": [
    {
     "data": {
      "text/latex": [
       "$\\displaystyle 4 x^{3} + 12 - \\frac{1}{x^{2}}$"
      ],
      "text/plain": [
       "4*x**3 + 12 - 1/x**2"
      ]
     },
     "execution_count": 7,
     "metadata": {},
     "output_type": "execute_result"
    }
   ],
   "source": [
    "df_sym = sympy.diff(f_sym)\n",
    "df_sym"
   ]
  },
  {
   "cell_type": "code",
   "execution_count": 8,
   "metadata": {},
   "outputs": [
    {
     "data": {
      "text/plain": [
       "(14773.09090909091, 5335.99173553719)"
      ]
     },
     "execution_count": 8,
     "metadata": {},
     "output_type": "execute_result"
    }
   ],
   "source": [
    "sympy.lambdify(x_sym, f_sym)(x), sympy.lambdify(x_sym, df_sym)(x)"
   ]
  },
  {
   "cell_type": "markdown",
   "metadata": {},
   "source": [
    "## Numerical differentiation"
   ]
  },
  {
   "cell_type": "code",
   "execution_count": 9,
   "metadata": {},
   "outputs": [
    {
     "data": {
      "text/plain": [
       "5335.992136679124"
      ]
     },
     "execution_count": 9,
     "metadata": {},
     "output_type": "execute_result"
    }
   ],
   "source": [
    "dx = 1e-8\n",
    "\n",
    "df_numeric = (f(x + dx) - f(x)) / dx\n",
    "df_numeric"
   ]
  },
  {
   "cell_type": "markdown",
   "metadata": {},
   "source": [
    "## Auto differentiation"
   ]
  },
  {
   "cell_type": "code",
   "execution_count": 10,
   "metadata": {},
   "outputs": [
    {
     "data": {
      "text/plain": [
       "Array(5335.9917, dtype=float32, weak_type=True)"
      ]
     },
     "execution_count": 10,
     "metadata": {},
     "output_type": "execute_result"
    }
   ],
   "source": [
    "import jax\n",
    "\n",
    "df = jax.grad(f)\n",
    "df(x)"
   ]
  },
  {
   "cell_type": "code",
   "execution_count": 11,
   "metadata": {},
   "outputs": [],
   "source": [
    "import jax"
   ]
  },
  {
   "cell_type": "code",
   "execution_count": 12,
   "metadata": {},
   "outputs": [],
   "source": [
    "df = jax.grad(f)"
   ]
  },
  {
   "cell_type": "code",
   "execution_count": 13,
   "metadata": {},
   "outputs": [
    {
     "data": {
      "text/plain": [
       "Array(5335.9917, dtype=float32, weak_type=True)"
      ]
     },
     "execution_count": 13,
     "metadata": {},
     "output_type": "execute_result"
    }
   ],
   "source": [
    "df(x)"
   ]
  },
  {
   "cell_type": "code",
   "execution_count": 14,
   "metadata": {},
   "outputs": [],
   "source": [
    "def loop(x):\n",
    "    for i in range(4):\n",
    "        x = x * x\n",
    "    return x"
   ]
  },
  {
   "cell_type": "code",
   "execution_count": 15,
   "metadata": {},
   "outputs": [
    {
     "data": {
      "text/plain": [
       "65536"
      ]
     },
     "execution_count": 15,
     "metadata": {},
     "output_type": "execute_result"
    }
   ],
   "source": [
    "loop(2)"
   ]
  },
  {
   "cell_type": "code",
   "execution_count": 16,
   "metadata": {},
   "outputs": [
    {
     "data": {
      "text/plain": [
       "Array(524288., dtype=float32, weak_type=True)"
      ]
     },
     "execution_count": 16,
     "metadata": {},
     "output_type": "execute_result"
    }
   ],
   "source": [
    "loop_grad = jax.grad(loop)\n",
    "loop_grad(2.0)"
   ]
  },
  {
   "cell_type": "code",
   "execution_count": 17,
   "metadata": {},
   "outputs": [
    {
     "data": {
      "text/latex": [
       "$\\displaystyle x^{16}$"
      ],
      "text/plain": [
       "x**16"
      ]
     },
     "execution_count": 17,
     "metadata": {},
     "output_type": "execute_result"
    }
   ],
   "source": [
    "loop_sym = x_sym**16\n",
    "loop_sym"
   ]
  },
  {
   "cell_type": "code",
   "execution_count": 18,
   "metadata": {},
   "outputs": [
    {
     "data": {
      "text/latex": [
       "$\\displaystyle 16 x^{15}$"
      ],
      "text/plain": [
       "16*x**15"
      ]
     },
     "execution_count": 18,
     "metadata": {},
     "output_type": "execute_result"
    }
   ],
   "source": [
    "loop_sym_grad = sympy.diff(loop_sym)\n",
    "loop_sym_grad"
   ]
  },
  {
   "cell_type": "code",
   "execution_count": 19,
   "metadata": {},
   "outputs": [
    {
     "data": {
      "text/plain": [
       "(65536, 524288)"
      ]
     },
     "execution_count": 19,
     "metadata": {},
     "output_type": "execute_result"
    }
   ],
   "source": [
    "sympy.lambdify(x_sym, loop_sym)(2), sympy.lambdify(x_sym, loop_sym_grad)(2)"
   ]
  },
  {
   "cell_type": "code",
   "execution_count": 20,
   "metadata": {},
   "outputs": [],
   "source": [
    "import numpy as np\n",
    "import matplotlib.pyplot as plt\n",
    "\n",
    "x = np.linspace(0, 10 * np.pi, num=1000)\n",
    "e = np.random.normal(scale=10.0, size=x.size)\n",
    "y = 65.0 + 1.8 * x + 40 * np.cos(x) + e"
   ]
  },
  {
   "cell_type": "code",
   "execution_count": 21,
   "metadata": {},
   "outputs": [
    {
     "data": {
      "text/plain": [
       "<matplotlib.collections.PathCollection at 0x7fa7a47cf790>"
      ]
     },
     "execution_count": 21,
     "metadata": {},
     "output_type": "execute_result"
    },
    {
     "data": {
      "image/png": "[encoded data removed]",
      "text/plain": [
       "<Figure size 640x480 with 1 Axes>"
      ]
     },
     "metadata": {},
     "output_type": "display_data"
    }
   ],
   "source": [
    "plt.scatter(x, y)"
   ]
  },
  {
   "cell_type": "markdown",
   "metadata": {},
   "source": [
    "# Auto grad in pytorch"
   ]
  },
  {
   "cell_type": "code",
   "execution_count": 22,
   "metadata": {},
   "outputs": [],
   "source": [
    "import torch"
   ]
  },
  {
   "cell_type": "code",
   "execution_count": 23,
   "metadata": {},
   "outputs": [
    {
     "data": {
      "text/plain": [
       "(tensor(26.3354, requires_grad=True), tensor(2.5311, requires_grad=True))"
      ]
     },
     "execution_count": 23,
     "metadata": {},
     "output_type": "execute_result"
    }
   ],
   "source": [
    "xt = torch.tensor(x)\n",
    "yt = torch.tensor(y)\n",
    "lr = 1e-2\n",
    "\n",
    "w = torch.tensor(1.0, requires_grad=True)\n",
    "b = torch.tensor(1.0, requires_grad=True)\n",
    "\n",
    "\n",
    "def model(x):\n",
    "    return w * x + b\n",
    "\n",
    "\n",
    "def loss_fn(pred, y):\n",
    "    return ((pred - y) ** 2).mean()\n",
    "\n",
    "\n",
    "pred = model(xt)\n",
    "loss = loss_fn(pred, yt)\n",
    "\n",
    "loss.backward()\n",
    "\n",
    "with torch.no_grad():\n",
    "    w -= w.grad * lr\n",
    "    b -= b.grad * lr\n",
    "    w.grad.zero_()\n",
    "    b.grad.zero_()\n",
    "\n",
    "w, b"
   ]
  },
  {
   "cell_type": "markdown",
   "metadata": {},
   "source": [
    "# Auto grad in JAX"
   ]
  },
  {
   "cell_type": "code",
   "execution_count": 24,
   "metadata": {},
   "outputs": [
    {
     "data": {
      "text/plain": [
       "Array([26.335396 ,  2.5310872], dtype=float32)"
      ]
     },
     "execution_count": 24,
     "metadata": {},
     "output_type": "execute_result"
    }
   ],
   "source": [
    "from jax import grad, make_jaxpr\n",
    "from jax import numpy as jnp\n",
    "\n",
    "\n",
    "xt = jnp.array(x)\n",
    "yt = jnp.array(y)\n",
    "lr = 1e-2\n",
    "\n",
    "model_params = jnp.array([1.0, 1.0])\n",
    "\n",
    "\n",
    "def model(theta, x):\n",
    "    w, b = theta\n",
    "    return w * x + b\n",
    "\n",
    "\n",
    "def loss_fn(model_params, x, y):\n",
    "    pred = model(model_params, x)\n",
    "    return jnp.mean((pred - y) ** 2)\n",
    "\n",
    "\n",
    "grad_fn = grad(loss_fn)\n",
    "grads = grad_fn(model_params, xt, yt)\n",
    "model_params -= lr * grads\n",
    "\n",
    "model_params"
   ]
  },
  {
   "cell_type": "code",
   "execution_count": 25,
   "metadata": {},
   "outputs": [
    {
     "data": {
      "text/plain": [
       "Array([-2533.5396 ,  -153.10872], dtype=float32)"
      ]
     },
     "execution_count": 25,
     "metadata": {},
     "output_type": "execute_result"
    }
   ],
   "source": [
    "grads"
   ]
  },
  {
   "cell_type": "code",
   "execution_count": 26,
   "metadata": {},
   "outputs": [
    {
     "data": {
      "image/svg+xml": [
       "<?xml version=\"1.0\" encoding=\"UTF-8\" standalone=\"no\"?>\n",
       "<!DOCTYPE svg PUBLIC \"-//W3C//DTD SVG 1.1//EN\"\n",
       " \"http://www.w3.org/Graphics/SVG/1.1/DTD/svg11.dtd\">\n",
       "<!-- Generated by graphviz version 2.50.0 (0)\n",
       " -->\n",
       "<!-- Pages: 1 -->\n",
       "<svg width=\"432pt\" height=\"679pt\"\n",
       " viewBox=\"0.00 0.00 432.00 678.81\" xmlns=\"http://www.w3.org/2000/svg\" xmlns:xlink=\"http://www.w3.org/1999/xlink\">\n",
       "<g id=\"graph0\" class=\"graph\" transform=\"scale(0.98 0.98) rotate(0) translate(4 688)\">\n",
       "<polygon fill=\"white\" stroke=\"transparent\" points=\"-4,4 -4,-688 436.4,-688 436.4,4 -4,4\"/>\n",
       "<!-- a -->\n",
       "<g id=\"node1\" class=\"node\">\n",
       "<title>a</title>\n",
       "<ellipse fill=\"mediumspringgreen\" stroke=\"mediumspringgreen\" cx=\"151\" cy=\"-666\" rx=\"55.49\" ry=\"18\"/>\n",
       "<text text-anchor=\"middle\" x=\"151\" y=\"-662.3\" font-family=\"Times,serif\" font-size=\"14.00\">float32[2]</text>\n",
       "</g>\n",
       "<!-- d -->\n",
       "<g id=\"node4\" class=\"node\">\n",
       "<title>d</title>\n",
       "<polygon fill=\"lightskyblue\" stroke=\"lightskyblue\" points=\"142,-612 88,-612 88,-576 142,-576 142,-612\"/>\n",
       "<text text-anchor=\"middle\" x=\"115\" y=\"-590.3\" font-family=\"Times,serif\" font-size=\"14.00\">slice</text>\n",
       "</g>\n",
       "<!-- a&#45;&gt;d -->\n",
       "<g id=\"edge1\" class=\"edge\">\n",
       "<title>a&#45;&gt;d</title>\n",
       "<path fill=\"none\" stroke=\"black\" d=\"M142.29,-648.05C138.15,-640.01 133.11,-630.2 128.49,-621.23\"/>\n",
       "<polygon fill=\"black\" stroke=\"black\" points=\"131.57,-619.57 123.88,-612.28 125.35,-622.77 131.57,-619.57\"/>\n",
       "</g>\n",
       "<!-- f -->\n",
       "<g id=\"node6\" class=\"node\">\n",
       "<title>f</title>\n",
       "<polygon fill=\"lightskyblue\" stroke=\"lightskyblue\" points=\"253,-612 199,-612 199,-576 253,-576 253,-612\"/>\n",
       "<text text-anchor=\"middle\" x=\"226\" y=\"-590.3\" font-family=\"Times,serif\" font-size=\"14.00\">slice</text>\n",
       "</g>\n",
       "<!-- a&#45;&gt;f -->\n",
       "<g id=\"edge3\" class=\"edge\">\n",
       "<title>a&#45;&gt;f</title>\n",
       "<path fill=\"none\" stroke=\"black\" d=\"M168.4,-648.76C177.87,-639.92 189.77,-628.82 200.29,-619\"/>\n",
       "<polygon fill=\"black\" stroke=\"black\" points=\"202.73,-621.51 207.65,-612.12 197.95,-616.39 202.73,-621.51\"/>\n",
       "</g>\n",
       "<!-- b -->\n",
       "<g id=\"node2\" class=\"node\">\n",
       "<title>b</title>\n",
       "<ellipse fill=\"mediumspringgreen\" stroke=\"mediumspringgreen\" cx=\"165\" cy=\"-522\" rx=\"72.59\" ry=\"18\"/>\n",
       "<text text-anchor=\"middle\" x=\"165\" y=\"-518.3\" font-family=\"Times,serif\" font-size=\"14.00\">float32[1000]</text>\n",
       "</g>\n",
       "<!-- h -->\n",
       "<g id=\"node8\" class=\"node\">\n",
       "<title>h</title>\n",
       "<polygon fill=\"lightskyblue\" stroke=\"lightskyblue\" points=\"192,-468 138,-468 138,-432 192,-432 192,-468\"/>\n",
       "<text text-anchor=\"middle\" x=\"165\" y=\"-446.3\" font-family=\"Times,serif\" font-size=\"14.00\">mul</text>\n",
       "</g>\n",
       "<!-- b&#45;&gt;h -->\n",
       "<g id=\"edge6\" class=\"edge\">\n",
       "<title>b&#45;&gt;h</title>\n",
       "<path fill=\"none\" stroke=\"black\" d=\"M165,-503.7C165,-495.98 165,-486.71 165,-478.11\"/>\n",
       "<polygon fill=\"black\" stroke=\"black\" points=\"168.5,-478.1 165,-468.1 161.5,-478.1 168.5,-478.1\"/>\n",
       "</g>\n",
       "<!-- c -->\n",
       "<g id=\"node3\" class=\"node\">\n",
       "<title>c</title>\n",
       "<ellipse fill=\"mediumspringgreen\" stroke=\"mediumspringgreen\" cx=\"324\" cy=\"-378\" rx=\"72.59\" ry=\"18\"/>\n",
       "<text text-anchor=\"middle\" x=\"324\" y=\"-374.3\" font-family=\"Times,serif\" font-size=\"14.00\">float32[1000]</text>\n",
       "</g>\n",
       "<!-- j -->\n",
       "<g id=\"node10\" class=\"node\">\n",
       "<title>j</title>\n",
       "<polygon fill=\"lightskyblue\" stroke=\"lightskyblue\" points=\"292,-324 238,-324 238,-288 292,-288 292,-324\"/>\n",
       "<text text-anchor=\"middle\" x=\"265\" y=\"-302.3\" font-family=\"Times,serif\" font-size=\"14.00\">sub</text>\n",
       "</g>\n",
       "<!-- c&#45;&gt;j -->\n",
       "<g id=\"edge10\" class=\"edge\">\n",
       "<title>c&#45;&gt;j</title>\n",
       "<path fill=\"none\" stroke=\"black\" d=\"M309.72,-360.05C302.65,-351.67 293.97,-341.38 286.15,-332.1\"/>\n",
       "<polygon fill=\"black\" stroke=\"black\" points=\"288.68,-329.67 279.56,-324.28 283.33,-334.18 288.68,-329.67\"/>\n",
       "</g>\n",
       "<!-- e -->\n",
       "<g id=\"node5\" class=\"node\">\n",
       "<title>e</title>\n",
       "<polygon fill=\"lightskyblue\" stroke=\"lightskyblue\" points=\"74,-540 0,-540 0,-504 74,-504 74,-540\"/>\n",
       "<text text-anchor=\"middle\" x=\"37\" y=\"-518.3\" font-family=\"Times,serif\" font-size=\"14.00\">squeeze</text>\n",
       "</g>\n",
       "<!-- d&#45;&gt;e -->\n",
       "<g id=\"edge2\" class=\"edge\">\n",
       "<title>d&#45;&gt;e</title>\n",
       "<path fill=\"none\" stroke=\"black\" d=\"M95.72,-575.7C86.08,-567.05 74.27,-556.45 63.77,-547.03\"/>\n",
       "<polygon fill=\"black\" stroke=\"black\" points=\"65.84,-544.18 56.06,-540.1 61.16,-549.39 65.84,-544.18\"/>\n",
       "</g>\n",
       "<!-- e&#45;&gt;h -->\n",
       "<g id=\"edge5\" class=\"edge\">\n",
       "<title>e&#45;&gt;h</title>\n",
       "<path fill=\"none\" stroke=\"black\" d=\"M68.31,-503.88C86.63,-493.86 109.83,-481.17 128.92,-470.73\"/>\n",
       "<polygon fill=\"black\" stroke=\"black\" points=\"130.82,-473.68 137.91,-465.81 127.46,-467.54 130.82,-473.68\"/>\n",
       "</g>\n",
       "<!-- g -->\n",
       "<g id=\"node7\" class=\"node\">\n",
       "<title>g</title>\n",
       "<polygon fill=\"lightskyblue\" stroke=\"lightskyblue\" points=\"293,-468 219,-468 219,-432 293,-432 293,-468\"/>\n",
       "<text text-anchor=\"middle\" x=\"256\" y=\"-446.3\" font-family=\"Times,serif\" font-size=\"14.00\">squeeze</text>\n",
       "</g>\n",
       "<!-- f&#45;&gt;g -->\n",
       "<g id=\"edge4\" class=\"edge\">\n",
       "<title>f&#45;&gt;g</title>\n",
       "<path fill=\"none\" stroke=\"black\" d=\"M234.25,-575.73C238.75,-565.56 244,-552.31 247,-540 251.93,-519.76 254.17,-496.29 255.18,-478.54\"/>\n",
       "<polygon fill=\"black\" stroke=\"black\" points=\"258.68,-478.45 255.66,-468.3 251.69,-478.12 258.68,-478.45\"/>\n",
       "</g>\n",
       "<!-- i -->\n",
       "<g id=\"node9\" class=\"node\">\n",
       "<title>i</title>\n",
       "<polygon fill=\"lightskyblue\" stroke=\"lightskyblue\" points=\"233,-396 179,-396 179,-360 233,-360 233,-396\"/>\n",
       "<text text-anchor=\"middle\" x=\"206\" y=\"-374.3\" font-family=\"Times,serif\" font-size=\"14.00\">add</text>\n",
       "</g>\n",
       "<!-- g&#45;&gt;i -->\n",
       "<g id=\"edge8\" class=\"edge\">\n",
       "<title>g&#45;&gt;i</title>\n",
       "<path fill=\"none\" stroke=\"black\" d=\"M243.64,-431.7C237.77,-423.47 230.63,-413.48 224.16,-404.42\"/>\n",
       "<polygon fill=\"black\" stroke=\"black\" points=\"226.88,-402.21 218.22,-396.1 221.18,-406.28 226.88,-402.21\"/>\n",
       "</g>\n",
       "<!-- h&#45;&gt;i -->\n",
       "<g id=\"edge7\" class=\"edge\">\n",
       "<title>h&#45;&gt;i</title>\n",
       "<path fill=\"none\" stroke=\"black\" d=\"M175.13,-431.7C179.85,-423.64 185.56,-413.89 190.78,-404.98\"/>\n",
       "<polygon fill=\"black\" stroke=\"black\" points=\"193.95,-406.5 195.98,-396.1 187.91,-402.96 193.95,-406.5\"/>\n",
       "</g>\n",
       "<!-- i&#45;&gt;j -->\n",
       "<g id=\"edge9\" class=\"edge\">\n",
       "<title>i&#45;&gt;j</title>\n",
       "<path fill=\"none\" stroke=\"black\" d=\"M220.58,-359.7C227.66,-351.3 236.28,-341.07 244.05,-331.86\"/>\n",
       "<polygon fill=\"black\" stroke=\"black\" points=\"246.81,-334.01 250.58,-324.1 241.46,-329.49 246.81,-334.01\"/>\n",
       "</g>\n",
       "<!-- k -->\n",
       "<g id=\"node11\" class=\"node\">\n",
       "<title>k</title>\n",
       "<polygon fill=\"lightskyblue\" stroke=\"lightskyblue\" points=\"315.5,-252 214.5,-252 214.5,-216 315.5,-216 315.5,-252\"/>\n",
       "<text text-anchor=\"middle\" x=\"265\" y=\"-230.3\" font-family=\"Times,serif\" font-size=\"14.00\">integer_pow</text>\n",
       "</g>\n",
       "<!-- j&#45;&gt;k -->\n",
       "<g id=\"edge11\" class=\"edge\">\n",
       "<title>j&#45;&gt;k</title>\n",
       "<path fill=\"none\" stroke=\"black\" d=\"M265,-287.7C265,-279.98 265,-270.71 265,-262.11\"/>\n",
       "<polygon fill=\"black\" stroke=\"black\" points=\"268.5,-262.1 265,-252.1 261.5,-262.1 268.5,-262.1\"/>\n",
       "</g>\n",
       "<!-- l -->\n",
       "<g id=\"node12\" class=\"node\">\n",
       "<title>l</title>\n",
       "<polygon fill=\"lightskyblue\" stroke=\"lightskyblue\" points=\"315.5,-180 214.5,-180 214.5,-144 315.5,-144 315.5,-180\"/>\n",
       "<text text-anchor=\"middle\" x=\"265\" y=\"-158.3\" font-family=\"Times,serif\" font-size=\"14.00\">reduce_sum</text>\n",
       "</g>\n",
       "<!-- k&#45;&gt;l -->\n",
       "<g id=\"edge12\" class=\"edge\">\n",
       "<title>k&#45;&gt;l</title>\n",
       "<path fill=\"none\" stroke=\"black\" d=\"M265,-215.7C265,-207.98 265,-198.71 265,-190.11\"/>\n",
       "<polygon fill=\"black\" stroke=\"black\" points=\"268.5,-190.1 265,-180.1 261.5,-190.1 268.5,-190.1\"/>\n",
       "</g>\n",
       "<!-- m -->\n",
       "<g id=\"node14\" class=\"node\">\n",
       "<title>m</title>\n",
       "<polygon fill=\"lightskyblue\" stroke=\"lightskyblue\" points=\"351,-108 297,-108 297,-72 351,-72 351,-108\"/>\n",
       "<text text-anchor=\"middle\" x=\"324\" y=\"-86.3\" font-family=\"Times,serif\" font-size=\"14.00\">div</text>\n",
       "</g>\n",
       "<!-- l&#45;&gt;m -->\n",
       "<g id=\"edge13\" class=\"edge\">\n",
       "<title>l&#45;&gt;m</title>\n",
       "<path fill=\"none\" stroke=\"black\" d=\"M279.58,-143.7C286.66,-135.3 295.28,-125.07 303.05,-115.86\"/>\n",
       "<polygon fill=\"black\" stroke=\"black\" points=\"305.81,-118.01 309.58,-108.1 300.46,-113.49 305.81,-118.01\"/>\n",
       "</g>\n",
       "<!-- 140354703231568 -->\n",
       "<g id=\"node13\" class=\"node\">\n",
       "<title>140354703231568</title>\n",
       "<ellipse fill=\"#ffc125\" stroke=\"#ffc125\" cx=\"383\" cy=\"-162\" rx=\"49.29\" ry=\"18\"/>\n",
       "<text text-anchor=\"middle\" x=\"383\" y=\"-158.3\" font-family=\"Times,serif\" font-size=\"14.00\">float32[]</text>\n",
       "</g>\n",
       "<!-- 140354703231568&#45;&gt;m -->\n",
       "<g id=\"edge14\" class=\"edge\">\n",
       "<title>140354703231568&#45;&gt;m</title>\n",
       "<path fill=\"none\" stroke=\"black\" d=\"M369.02,-144.41C361.95,-136.03 353.23,-125.68 345.35,-116.33\"/>\n",
       "<polygon fill=\"black\" stroke=\"black\" points=\"347.83,-113.84 338.71,-108.45 342.47,-118.35 347.83,-113.84\"/>\n",
       "</g>\n",
       "<!-- out_0 -->\n",
       "<g id=\"node15\" class=\"node\">\n",
       "<title>out_0</title>\n",
       "<ellipse fill=\"#ff6a6a\" stroke=\"black\" stroke-dasharray=\"5,2\" cx=\"324\" cy=\"-18\" rx=\"36\" ry=\"18\"/>\n",
       "<text text-anchor=\"middle\" x=\"324\" y=\"-14.3\" font-family=\"Times,serif\" font-size=\"14.00\">out_0</text>\n",
       "</g>\n",
       "<!-- m&#45;&gt;out_0 -->\n",
       "<g id=\"edge15\" class=\"edge\">\n",
       "<title>m&#45;&gt;out_0</title>\n",
       "<path fill=\"none\" stroke=\"black\" d=\"M324,-71.7C324,-63.98 324,-54.71 324,-46.11\"/>\n",
       "<polygon fill=\"black\" stroke=\"black\" points=\"327.5,-46.1 324,-36.1 320.5,-46.1 327.5,-46.1\"/>\n",
       "</g>\n",
       "</g>\n",
       "</svg>\n"
      ],
      "text/plain": [
       "<graphviz.graphs.Digraph at 0x7fa6e0344b10>"
      ]
     },
     "execution_count": 26,
     "metadata": {},
     "output_type": "execute_result"
    }
   ],
   "source": [
    "import util\n",
    "\n",
    "util.jaxpr_graph(loss_fn, model_params, xt, yt)"
   ]
  },
  {
   "cell_type": "code",
   "execution_count": 27,
   "metadata": {},
   "outputs": [
    {
     "data": {
      "image/svg+xml": [
       "<?xml version=\"1.0\" encoding=\"UTF-8\" standalone=\"no\"?>\n",
       "<!DOCTYPE svg PUBLIC \"-//W3C//DTD SVG 1.1//EN\"\n",
       " \"http://www.w3.org/Graphics/SVG/1.1/DTD/svg11.dtd\">\n",
       "<!-- Generated by graphviz version 2.50.0 (0)\n",
       " -->\n",
       "<!-- Pages: 1 -->\n",
       "<svg width=\"412pt\" height=\"720pt\"\n",
       " viewBox=\"0.00 0.00 412.02 720.00\" xmlns=\"http://www.w3.org/2000/svg\" xmlns:xlink=\"http://www.w3.org/1999/xlink\">\n",
       "<g id=\"graph0\" class=\"graph\" transform=\"scale(0.68 0.68) rotate(0) translate(4 1048)\">\n",
       "<polygon fill=\"white\" stroke=\"transparent\" points=\"-4,4 -4,-1048 598,-1048 598,4 -4,4\"/>\n",
       "<!-- a -->\n",
       "<g id=\"node1\" class=\"node\">\n",
       "<title>a</title>\n",
       "<ellipse fill=\"mediumspringgreen\" stroke=\"mediumspringgreen\" cx=\"207.5\" cy=\"-1026\" rx=\"55.49\" ry=\"18\"/>\n",
       "<text text-anchor=\"middle\" x=\"207.5\" y=\"-1022.3\" font-family=\"Times,serif\" font-size=\"14.00\">float32[2]</text>\n",
       "</g>\n",
       "<!-- d -->\n",
       "<g id=\"node4\" class=\"node\">\n",
       "<title>d</title>\n",
       "<polygon fill=\"lightskyblue\" stroke=\"lightskyblue\" points=\"272.5,-972 218.5,-972 218.5,-936 272.5,-936 272.5,-972\"/>\n",
       "<text text-anchor=\"middle\" x=\"245.5\" y=\"-950.3\" font-family=\"Times,serif\" font-size=\"14.00\">slice</text>\n",
       "</g>\n",
       "<!-- a&#45;&gt;d -->\n",
       "<g id=\"edge1\" class=\"edge\">\n",
       "<title>a&#45;&gt;d</title>\n",
       "<path fill=\"none\" stroke=\"black\" d=\"M216.7,-1008.05C221.07,-1000.01 226.39,-990.2 231.26,-981.23\"/>\n",
       "<polygon fill=\"black\" stroke=\"black\" points=\"234.43,-982.73 236.12,-972.28 228.28,-979.39 234.43,-982.73\"/>\n",
       "</g>\n",
       "<!-- f -->\n",
       "<g id=\"node6\" class=\"node\">\n",
       "<title>f</title>\n",
       "<polygon fill=\"lightskyblue\" stroke=\"lightskyblue\" points=\"198.5,-972 144.5,-972 144.5,-936 198.5,-936 198.5,-972\"/>\n",
       "<text text-anchor=\"middle\" x=\"171.5\" y=\"-950.3\" font-family=\"Times,serif\" font-size=\"14.00\">slice</text>\n",
       "</g>\n",
       "<!-- a&#45;&gt;f -->\n",
       "<g id=\"edge3\" class=\"edge\">\n",
       "<title>a&#45;&gt;f</title>\n",
       "<path fill=\"none\" stroke=\"black\" d=\"M198.79,-1008.05C194.65,-1000.01 189.61,-990.2 184.99,-981.23\"/>\n",
       "<polygon fill=\"black\" stroke=\"black\" points=\"188.07,-979.57 180.38,-972.28 181.85,-982.77 188.07,-979.57\"/>\n",
       "</g>\n",
       "<!-- b -->\n",
       "<g id=\"node2\" class=\"node\">\n",
       "<title>b</title>\n",
       "<ellipse fill=\"mediumspringgreen\" stroke=\"mediumspringgreen\" cx=\"445.5\" cy=\"-882\" rx=\"72.59\" ry=\"18\"/>\n",
       "<text text-anchor=\"middle\" x=\"445.5\" y=\"-878.3\" font-family=\"Times,serif\" font-size=\"14.00\">float32[1000]</text>\n",
       "</g>\n",
       "<!-- h -->\n",
       "<g id=\"node8\" class=\"node\">\n",
       "<title>h</title>\n",
       "<polygon fill=\"lightskyblue\" stroke=\"lightskyblue\" points=\"278.5,-828 224.5,-828 224.5,-792 278.5,-792 278.5,-828\"/>\n",
       "<text text-anchor=\"middle\" x=\"251.5\" y=\"-806.3\" font-family=\"Times,serif\" font-size=\"14.00\">mul</text>\n",
       "</g>\n",
       "<!-- b&#45;&gt;h -->\n",
       "<g id=\"edge6\" class=\"edge\">\n",
       "<title>b&#45;&gt;h</title>\n",
       "<path fill=\"none\" stroke=\"black\" d=\"M406.24,-866.83C371.68,-854.36 321.73,-836.34 288.02,-824.18\"/>\n",
       "<polygon fill=\"black\" stroke=\"black\" points=\"289.13,-820.86 278.54,-820.76 286.75,-827.44 289.13,-820.86\"/>\n",
       "</g>\n",
       "<!-- u -->\n",
       "<g id=\"node26\" class=\"node\">\n",
       "<title>u</title>\n",
       "<polygon fill=\"lightskyblue\" stroke=\"lightskyblue\" points=\"542.5,-396 488.5,-396 488.5,-360 542.5,-360 542.5,-396\"/>\n",
       "<text text-anchor=\"middle\" x=\"515.5\" y=\"-374.3\" font-family=\"Times,serif\" font-size=\"14.00\">mul</text>\n",
       "</g>\n",
       "<!-- b&#45;&gt;u -->\n",
       "<g id=\"edge28\" class=\"edge\">\n",
       "<title>b&#45;&gt;u</title>\n",
       "<path fill=\"none\" stroke=\"black\" d=\"M460.35,-863.97C480.89,-838.58 515.5,-788.47 515.5,-739 515.5,-739 515.5,-739 515.5,-521 515.5,-481 515.5,-434.65 515.5,-406.08\"/>\n",
       "<polygon fill=\"black\" stroke=\"black\" points=\"519,-406.05 515.5,-396.05 512,-406.05 519,-406.05\"/>\n",
       "</g>\n",
       "<!-- c -->\n",
       "<g id=\"node3\" class=\"node\">\n",
       "<title>c</title>\n",
       "<ellipse fill=\"mediumspringgreen\" stroke=\"mediumspringgreen\" cx=\"287.5\" cy=\"-738\" rx=\"72.59\" ry=\"18\"/>\n",
       "<text text-anchor=\"middle\" x=\"287.5\" y=\"-734.3\" font-family=\"Times,serif\" font-size=\"14.00\">float32[1000]</text>\n",
       "</g>\n",
       "<!-- j -->\n",
       "<g id=\"node10\" class=\"node\">\n",
       "<title>j</title>\n",
       "<polygon fill=\"lightskyblue\" stroke=\"lightskyblue\" points=\"196.5,-684 142.5,-684 142.5,-648 196.5,-648 196.5,-684\"/>\n",
       "<text text-anchor=\"middle\" x=\"169.5\" y=\"-662.3\" font-family=\"Times,serif\" font-size=\"14.00\">sub</text>\n",
       "</g>\n",
       "<!-- c&#45;&gt;j -->\n",
       "<g id=\"edge10\" class=\"edge\">\n",
       "<title>c&#45;&gt;j</title>\n",
       "<path fill=\"none\" stroke=\"black\" d=\"M260.72,-721.12C244.39,-711.43 223.32,-698.92 205.53,-688.38\"/>\n",
       "<polygon fill=\"black\" stroke=\"black\" points=\"206.96,-685.16 196.58,-683.06 203.39,-691.18 206.96,-685.16\"/>\n",
       "</g>\n",
       "<!-- e -->\n",
       "<g id=\"node5\" class=\"node\">\n",
       "<title>e</title>\n",
       "<polygon fill=\"lightskyblue\" stroke=\"lightskyblue\" points=\"283.5,-900 209.5,-900 209.5,-864 283.5,-864 283.5,-900\"/>\n",
       "<text text-anchor=\"middle\" x=\"246.5\" y=\"-878.3\" font-family=\"Times,serif\" font-size=\"14.00\">squeeze</text>\n",
       "</g>\n",
       "<!-- d&#45;&gt;e -->\n",
       "<g id=\"edge2\" class=\"edge\">\n",
       "<title>d&#45;&gt;e</title>\n",
       "<path fill=\"none\" stroke=\"black\" d=\"M245.75,-935.7C245.86,-927.98 245.99,-918.71 246.11,-910.11\"/>\n",
       "<polygon fill=\"black\" stroke=\"black\" points=\"249.61,-910.15 246.26,-900.1 242.61,-910.05 249.61,-910.15\"/>\n",
       "</g>\n",
       "<!-- e&#45;&gt;h -->\n",
       "<g id=\"edge5\" class=\"edge\">\n",
       "<title>e&#45;&gt;h</title>\n",
       "<path fill=\"none\" stroke=\"black\" d=\"M247.74,-863.7C248.29,-855.98 248.95,-846.71 249.56,-838.11\"/>\n",
       "<polygon fill=\"black\" stroke=\"black\" points=\"253.06,-838.33 250.28,-828.1 246.07,-837.83 253.06,-838.33\"/>\n",
       "</g>\n",
       "<!-- g -->\n",
       "<g id=\"node7\" class=\"node\">\n",
       "<title>g</title>\n",
       "<polygon fill=\"lightskyblue\" stroke=\"lightskyblue\" points=\"206.5,-828 132.5,-828 132.5,-792 206.5,-792 206.5,-828\"/>\n",
       "<text text-anchor=\"middle\" x=\"169.5\" y=\"-806.3\" font-family=\"Times,serif\" font-size=\"14.00\">squeeze</text>\n",
       "</g>\n",
       "<!-- f&#45;&gt;g -->\n",
       "<g id=\"edge4\" class=\"edge\">\n",
       "<title>f&#45;&gt;g</title>\n",
       "<path fill=\"none\" stroke=\"black\" d=\"M171.26,-935.87C170.92,-911.67 170.29,-867.21 169.89,-838.39\"/>\n",
       "<polygon fill=\"black\" stroke=\"black\" points=\"173.38,-838.14 169.74,-828.19 166.38,-838.24 173.38,-838.14\"/>\n",
       "</g>\n",
       "<!-- i -->\n",
       "<g id=\"node9\" class=\"node\">\n",
       "<title>i</title>\n",
       "<polygon fill=\"lightskyblue\" stroke=\"lightskyblue\" points=\"196.5,-756 142.5,-756 142.5,-720 196.5,-720 196.5,-756\"/>\n",
       "<text text-anchor=\"middle\" x=\"169.5\" y=\"-734.3\" font-family=\"Times,serif\" font-size=\"14.00\">add</text>\n",
       "</g>\n",
       "<!-- g&#45;&gt;i -->\n",
       "<g id=\"edge8\" class=\"edge\">\n",
       "<title>g&#45;&gt;i</title>\n",
       "<path fill=\"none\" stroke=\"black\" d=\"M169.5,-791.7C169.5,-783.98 169.5,-774.71 169.5,-766.11\"/>\n",
       "<polygon fill=\"black\" stroke=\"black\" points=\"173,-766.1 169.5,-756.1 166,-766.1 173,-766.1\"/>\n",
       "</g>\n",
       "<!-- h&#45;&gt;i -->\n",
       "<g id=\"edge7\" class=\"edge\">\n",
       "<title>h&#45;&gt;i</title>\n",
       "<path fill=\"none\" stroke=\"black\" d=\"M231.23,-791.7C221,-782.97 208.44,-772.24 197.32,-762.75\"/>\n",
       "<polygon fill=\"black\" stroke=\"black\" points=\"199.41,-759.94 189.54,-756.1 194.87,-765.26 199.41,-759.94\"/>\n",
       "</g>\n",
       "<!-- i&#45;&gt;j -->\n",
       "<g id=\"edge9\" class=\"edge\">\n",
       "<title>i&#45;&gt;j</title>\n",
       "<path fill=\"none\" stroke=\"black\" d=\"M169.5,-719.7C169.5,-711.98 169.5,-702.71 169.5,-694.11\"/>\n",
       "<polygon fill=\"black\" stroke=\"black\" points=\"173,-694.1 169.5,-684.1 166,-694.1 173,-694.1\"/>\n",
       "</g>\n",
       "<!-- k -->\n",
       "<g id=\"node11\" class=\"node\">\n",
       "<title>k</title>\n",
       "<polygon fill=\"lightskyblue\" stroke=\"lightskyblue\" points=\"101,-612 0,-612 0,-576 101,-576 101,-612\"/>\n",
       "<text text-anchor=\"middle\" x=\"50.5\" y=\"-590.3\" font-family=\"Times,serif\" font-size=\"14.00\">integer_pow</text>\n",
       "</g>\n",
       "<!-- j&#45;&gt;k -->\n",
       "<g id=\"edge11\" class=\"edge\">\n",
       "<title>j&#45;&gt;k</title>\n",
       "<path fill=\"none\" stroke=\"black\" d=\"M142.5,-649.12C126.5,-639.7 105.97,-627.63 88.37,-617.28\"/>\n",
       "<polygon fill=\"black\" stroke=\"black\" points=\"89.87,-614.1 79.48,-612.04 86.32,-620.13 89.87,-614.1\"/>\n",
       "</g>\n",
       "<!-- l -->\n",
       "<g id=\"node12\" class=\"node\">\n",
       "<title>l</title>\n",
       "<polygon fill=\"lightskyblue\" stroke=\"lightskyblue\" points=\"220,-612 119,-612 119,-576 220,-576 220,-612\"/>\n",
       "<text text-anchor=\"middle\" x=\"169.5\" y=\"-590.3\" font-family=\"Times,serif\" font-size=\"14.00\">integer_pow</text>\n",
       "</g>\n",
       "<!-- j&#45;&gt;l -->\n",
       "<g id=\"edge12\" class=\"edge\">\n",
       "<title>j&#45;&gt;l</title>\n",
       "<path fill=\"none\" stroke=\"black\" d=\"M169.5,-647.7C169.5,-639.98 169.5,-630.71 169.5,-622.11\"/>\n",
       "<polygon fill=\"black\" stroke=\"black\" points=\"173,-622.1 169.5,-612.1 166,-622.1 173,-622.1\"/>\n",
       "</g>\n",
       "<!-- n -->\n",
       "<g id=\"node15\" class=\"node\">\n",
       "<title>n</title>\n",
       "<polygon fill=\"lightskyblue\" stroke=\"lightskyblue\" points=\"161,-540 60,-540 60,-504 161,-504 161,-540\"/>\n",
       "<text text-anchor=\"middle\" x=\"110.5\" y=\"-518.3\" font-family=\"Times,serif\" font-size=\"14.00\">reduce_sum</text>\n",
       "</g>\n",
       "<!-- k&#45;&gt;n -->\n",
       "<g id=\"edge15\" class=\"edge\">\n",
       "<title>k&#45;&gt;n</title>\n",
       "<path fill=\"none\" stroke=\"black\" d=\"M65.33,-575.7C72.52,-567.3 81.3,-557.07 89.19,-547.86\"/>\n",
       "<polygon fill=\"black\" stroke=\"black\" points=\"91.99,-549.97 95.84,-540.1 86.67,-545.42 91.99,-549.97\"/>\n",
       "</g>\n",
       "<!-- m -->\n",
       "<g id=\"node14\" class=\"node\">\n",
       "<title>m</title>\n",
       "<polygon fill=\"lightskyblue\" stroke=\"lightskyblue\" points=\"331.5,-540 277.5,-540 277.5,-504 331.5,-504 331.5,-540\"/>\n",
       "<text text-anchor=\"middle\" x=\"304.5\" y=\"-518.3\" font-family=\"Times,serif\" font-size=\"14.00\">mul</text>\n",
       "</g>\n",
       "<!-- l&#45;&gt;m -->\n",
       "<g id=\"edge14\" class=\"edge\">\n",
       "<title>l&#45;&gt;m</title>\n",
       "<path fill=\"none\" stroke=\"black\" d=\"M202.52,-575.88C222.43,-565.56 247.79,-552.4 268.25,-541.8\"/>\n",
       "<polygon fill=\"black\" stroke=\"black\" points=\"270,-544.83 277.26,-537.12 266.77,-538.62 270,-544.83\"/>\n",
       "</g>\n",
       "<!-- 140354701565200 -->\n",
       "<g id=\"node13\" class=\"node\">\n",
       "<title>140354701565200</title>\n",
       "<ellipse fill=\"#ffc125\" stroke=\"#ffc125\" cx=\"325.5\" cy=\"-594\" rx=\"49.29\" ry=\"18\"/>\n",
       "<text text-anchor=\"middle\" x=\"325.5\" y=\"-590.3\" font-family=\"Times,serif\" font-size=\"14.00\">float32[]</text>\n",
       "</g>\n",
       "<!-- 140354701565200&#45;&gt;m -->\n",
       "<g id=\"edge13\" class=\"edge\">\n",
       "<title>140354701565200&#45;&gt;m</title>\n",
       "<path fill=\"none\" stroke=\"black\" d=\"M320.42,-576.05C318.08,-568.26 315.25,-558.82 312.62,-550.08\"/>\n",
       "<polygon fill=\"black\" stroke=\"black\" points=\"315.91,-548.85 309.68,-540.28 309.2,-550.86 315.91,-548.85\"/>\n",
       "</g>\n",
       "<!-- q -->\n",
       "<g id=\"node21\" class=\"node\">\n",
       "<title>q</title>\n",
       "<polygon fill=\"lightskyblue\" stroke=\"lightskyblue\" points=\"440.5,-468 386.5,-468 386.5,-432 440.5,-432 440.5,-468\"/>\n",
       "<text text-anchor=\"middle\" x=\"413.5\" y=\"-446.3\" font-family=\"Times,serif\" font-size=\"14.00\">mul</text>\n",
       "</g>\n",
       "<!-- m&#45;&gt;q -->\n",
       "<g id=\"edge22\" class=\"edge\">\n",
       "<title>m&#45;&gt;q</title>\n",
       "<path fill=\"none\" stroke=\"black\" d=\"M331.16,-503.88C345.28,-494.81 362.81,-483.55 378.06,-473.76\"/>\n",
       "<polygon fill=\"black\" stroke=\"black\" points=\"380.21,-476.54 386.73,-468.19 376.43,-470.65 380.21,-476.54\"/>\n",
       "</g>\n",
       "<!-- _ -->\n",
       "<g id=\"node17\" class=\"node\">\n",
       "<title>_</title>\n",
       "<polygon fill=\"lightskyblue\" stroke=\"lightskyblue\" points=\"206.5,-468 152.5,-468 152.5,-432 206.5,-432 206.5,-468\"/>\n",
       "<text text-anchor=\"middle\" x=\"179.5\" y=\"-446.3\" font-family=\"Times,serif\" font-size=\"14.00\">div</text>\n",
       "</g>\n",
       "<!-- n&#45;&gt;_ -->\n",
       "<g id=\"edge16\" class=\"edge\">\n",
       "<title>n&#45;&gt;_</title>\n",
       "<path fill=\"none\" stroke=\"black\" d=\"M127.56,-503.7C136,-495.14 146.32,-484.66 155.54,-475.3\"/>\n",
       "<polygon fill=\"black\" stroke=\"black\" points=\"158.11,-477.68 162.64,-468.1 153.13,-472.77 158.11,-477.68\"/>\n",
       "</g>\n",
       "<!-- 140354703231568 -->\n",
       "<g id=\"node16\" class=\"node\">\n",
       "<title>140354703231568</title>\n",
       "<ellipse fill=\"#ffc125\" stroke=\"#ffc125\" cx=\"283.5\" cy=\"-666\" rx=\"49.29\" ry=\"18\"/>\n",
       "<text text-anchor=\"middle\" x=\"283.5\" y=\"-662.3\" font-family=\"Times,serif\" font-size=\"14.00\">float32[]</text>\n",
       "</g>\n",
       "<!-- 140354703231568&#45;&gt;_ -->\n",
       "<g id=\"edge17\" class=\"edge\">\n",
       "<title>140354703231568&#45;&gt;_</title>\n",
       "<path fill=\"none\" stroke=\"black\" d=\"M275.34,-648.21C257.27,-611.03 213.78,-521.55 192.16,-477.04\"/>\n",
       "<polygon fill=\"black\" stroke=\"black\" points=\"195.29,-475.47 187.77,-468.01 188.99,-478.53 195.29,-475.47\"/>\n",
       "</g>\n",
       "<!-- o -->\n",
       "<g id=\"node19\" class=\"node\">\n",
       "<title>o</title>\n",
       "<polygon fill=\"lightskyblue\" stroke=\"lightskyblue\" points=\"446.5,-612 392.5,-612 392.5,-576 446.5,-576 446.5,-612\"/>\n",
       "<text text-anchor=\"middle\" x=\"419.5\" y=\"-590.3\" font-family=\"Times,serif\" font-size=\"14.00\">div</text>\n",
       "</g>\n",
       "<!-- 140354703231568&#45;&gt;o -->\n",
       "<g id=\"edge19\" class=\"edge\">\n",
       "<title>140354703231568&#45;&gt;o</title>\n",
       "<path fill=\"none\" stroke=\"black\" d=\"M311.02,-650.83C331.9,-640.09 360.77,-625.23 383.48,-613.54\"/>\n",
       "<polygon fill=\"black\" stroke=\"black\" points=\"385.19,-616.59 392.48,-608.91 381.99,-610.37 385.19,-616.59\"/>\n",
       "</g>\n",
       "<!-- 140354701569904 -->\n",
       "<g id=\"node18\" class=\"node\">\n",
       "<title>140354701569904</title>\n",
       "<ellipse fill=\"#ffc125\" stroke=\"#ffc125\" cx=\"419.5\" cy=\"-666\" rx=\"49.29\" ry=\"18\"/>\n",
       "<text text-anchor=\"middle\" x=\"419.5\" y=\"-662.3\" font-family=\"Times,serif\" font-size=\"14.00\">float32[]</text>\n",
       "</g>\n",
       "<!-- 140354701569904&#45;&gt;o -->\n",
       "<g id=\"edge18\" class=\"edge\">\n",
       "<title>140354701569904&#45;&gt;o</title>\n",
       "<path fill=\"none\" stroke=\"black\" d=\"M419.5,-647.7C419.5,-639.98 419.5,-630.71 419.5,-622.11\"/>\n",
       "<polygon fill=\"black\" stroke=\"black\" points=\"423,-622.1 419.5,-612.1 416,-622.1 423,-622.1\"/>\n",
       "</g>\n",
       "<!-- p -->\n",
       "<g id=\"node20\" class=\"node\">\n",
       "<title>p</title>\n",
       "<polygon fill=\"lightskyblue\" stroke=\"lightskyblue\" points=\"487,-540 350,-540 350,-504 487,-504 487,-540\"/>\n",
       "<text text-anchor=\"middle\" x=\"418.5\" y=\"-518.3\" font-family=\"Times,serif\" font-size=\"14.00\">broadcast_in_dim</text>\n",
       "</g>\n",
       "<!-- o&#45;&gt;p -->\n",
       "<g id=\"edge20\" class=\"edge\">\n",
       "<title>o&#45;&gt;p</title>\n",
       "<path fill=\"none\" stroke=\"black\" d=\"M419.25,-575.7C419.14,-567.98 419.01,-558.71 418.89,-550.11\"/>\n",
       "<polygon fill=\"black\" stroke=\"black\" points=\"422.39,-550.05 418.74,-540.1 415.39,-550.15 422.39,-550.05\"/>\n",
       "</g>\n",
       "<!-- p&#45;&gt;q -->\n",
       "<g id=\"edge21\" class=\"edge\">\n",
       "<title>p&#45;&gt;q</title>\n",
       "<path fill=\"none\" stroke=\"black\" d=\"M417.26,-503.7C416.71,-495.98 416.05,-486.71 415.44,-478.11\"/>\n",
       "<polygon fill=\"black\" stroke=\"black\" points=\"418.93,-477.83 414.72,-468.1 411.94,-478.33 418.93,-477.83\"/>\n",
       "</g>\n",
       "<!-- r -->\n",
       "<g id=\"node22\" class=\"node\">\n",
       "<title>r</title>\n",
       "<polygon fill=\"lightskyblue\" stroke=\"lightskyblue\" points=\"459,-396 358,-396 358,-360 459,-360 459,-396\"/>\n",
       "<text text-anchor=\"middle\" x=\"408.5\" y=\"-374.3\" font-family=\"Times,serif\" font-size=\"14.00\">reduce_sum</text>\n",
       "</g>\n",
       "<!-- q&#45;&gt;r -->\n",
       "<g id=\"edge23\" class=\"edge\">\n",
       "<title>q&#45;&gt;r</title>\n",
       "<path fill=\"none\" stroke=\"black\" d=\"M412.26,-431.7C411.71,-423.98 411.05,-414.71 410.44,-406.11\"/>\n",
       "<polygon fill=\"black\" stroke=\"black\" points=\"413.93,-405.83 409.72,-396.1 406.94,-406.33 413.93,-405.83\"/>\n",
       "</g>\n",
       "<!-- q&#45;&gt;u -->\n",
       "<g id=\"edge27\" class=\"edge\">\n",
       "<title>q&#45;&gt;u</title>\n",
       "<path fill=\"none\" stroke=\"black\" d=\"M438.45,-431.88C451.54,-422.89 467.76,-411.76 481.94,-402.03\"/>\n",
       "<polygon fill=\"black\" stroke=\"black\" points=\"484.19,-404.73 490.45,-396.19 480.23,-398.96 484.19,-404.73\"/>\n",
       "</g>\n",
       "<!-- s -->\n",
       "<g id=\"node23\" class=\"node\">\n",
       "<title>s</title>\n",
       "<polygon fill=\"lightskyblue\" stroke=\"lightskyblue\" points=\"457,-324 320,-324 320,-288 457,-288 457,-324\"/>\n",
       "<text text-anchor=\"middle\" x=\"388.5\" y=\"-302.3\" font-family=\"Times,serif\" font-size=\"14.00\">broadcast_in_dim</text>\n",
       "</g>\n",
       "<!-- r&#45;&gt;s -->\n",
       "<g id=\"edge24\" class=\"edge\">\n",
       "<title>r&#45;&gt;s</title>\n",
       "<path fill=\"none\" stroke=\"black\" d=\"M403.56,-359.7C401.33,-351.9 398.65,-342.51 396.17,-333.83\"/>\n",
       "<polygon fill=\"black\" stroke=\"black\" points=\"399.5,-332.76 393.39,-324.1 392.77,-334.68 399.5,-332.76\"/>\n",
       "</g>\n",
       "<!-- t -->\n",
       "<g id=\"node25\" class=\"node\">\n",
       "<title>t</title>\n",
       "<polygon fill=\"lightskyblue\" stroke=\"lightskyblue\" points=\"322.5,-252 268.5,-252 268.5,-216 322.5,-216 322.5,-252\"/>\n",
       "<text text-anchor=\"middle\" x=\"295.5\" y=\"-230.3\" font-family=\"Times,serif\" font-size=\"14.00\">pad</text>\n",
       "</g>\n",
       "<!-- s&#45;&gt;t -->\n",
       "<g id=\"edge25\" class=\"edge\">\n",
       "<title>s&#45;&gt;t</title>\n",
       "<path fill=\"none\" stroke=\"black\" d=\"M365.51,-287.7C353.69,-278.8 339.11,-267.82 326.32,-258.2\"/>\n",
       "<polygon fill=\"black\" stroke=\"black\" points=\"328.32,-255.32 318.22,-252.1 324.11,-260.91 328.32,-255.32\"/>\n",
       "</g>\n",
       "<!-- 140354701568080 -->\n",
       "<g id=\"node24\" class=\"node\">\n",
       "<title>140354701568080</title>\n",
       "<ellipse fill=\"#ffc125\" stroke=\"#ffc125\" cx=\"252.5\" cy=\"-306\" rx=\"49.29\" ry=\"18\"/>\n",
       "<text text-anchor=\"middle\" x=\"252.5\" y=\"-302.3\" font-family=\"Times,serif\" font-size=\"14.00\">float32[]</text>\n",
       "</g>\n",
       "<!-- 140354701568080&#45;&gt;t -->\n",
       "<g id=\"edge26\" class=\"edge\">\n",
       "<title>140354701568080&#45;&gt;t</title>\n",
       "<path fill=\"none\" stroke=\"black\" d=\"M262.91,-288.05C267.91,-279.92 274,-270 279.56,-260.94\"/>\n",
       "<polygon fill=\"black\" stroke=\"black\" points=\"282.64,-262.63 284.89,-252.28 276.67,-258.96 282.64,-262.63\"/>\n",
       "</g>\n",
       "<!-- y -->\n",
       "<g id=\"node31\" class=\"node\">\n",
       "<title>y</title>\n",
       "<polygon fill=\"lightskyblue\" stroke=\"lightskyblue\" points=\"380,-108 305,-108 305,-72 380,-72 380,-108\"/>\n",
       "<text text-anchor=\"middle\" x=\"342.5\" y=\"-86.3\" font-family=\"Times,serif\" font-size=\"14.00\">add_any</text>\n",
       "</g>\n",
       "<!-- t&#45;&gt;y -->\n",
       "<g id=\"edge33\" class=\"edge\">\n",
       "<title>t&#45;&gt;y</title>\n",
       "<path fill=\"none\" stroke=\"black\" d=\"M301.17,-215.87C309.21,-191.56 324.02,-146.82 333.56,-118.01\"/>\n",
       "<polygon fill=\"black\" stroke=\"black\" points=\"336.99,-118.78 336.81,-108.19 330.35,-116.58 336.99,-118.78\"/>\n",
       "</g>\n",
       "<!-- v -->\n",
       "<g id=\"node27\" class=\"node\">\n",
       "<title>v</title>\n",
       "<polygon fill=\"lightskyblue\" stroke=\"lightskyblue\" points=\"576,-324 475,-324 475,-288 576,-288 576,-324\"/>\n",
       "<text text-anchor=\"middle\" x=\"525.5\" y=\"-302.3\" font-family=\"Times,serif\" font-size=\"14.00\">reduce_sum</text>\n",
       "</g>\n",
       "<!-- u&#45;&gt;v -->\n",
       "<g id=\"edge29\" class=\"edge\">\n",
       "<title>u&#45;&gt;v</title>\n",
       "<path fill=\"none\" stroke=\"black\" d=\"M517.97,-359.7C519.07,-351.98 520.4,-342.71 521.63,-334.11\"/>\n",
       "<polygon fill=\"black\" stroke=\"black\" points=\"525.11,-334.5 523.06,-324.1 518.18,-333.51 525.11,-334.5\"/>\n",
       "</g>\n",
       "<!-- w -->\n",
       "<g id=\"node28\" class=\"node\">\n",
       "<title>w</title>\n",
       "<polygon fill=\"lightskyblue\" stroke=\"lightskyblue\" points=\"594,-252 457,-252 457,-216 594,-216 594,-252\"/>\n",
       "<text text-anchor=\"middle\" x=\"525.5\" y=\"-230.3\" font-family=\"Times,serif\" font-size=\"14.00\">broadcast_in_dim</text>\n",
       "</g>\n",
       "<!-- v&#45;&gt;w -->\n",
       "<g id=\"edge30\" class=\"edge\">\n",
       "<title>v&#45;&gt;w</title>\n",
       "<path fill=\"none\" stroke=\"black\" d=\"M525.5,-287.7C525.5,-279.98 525.5,-270.71 525.5,-262.11\"/>\n",
       "<polygon fill=\"black\" stroke=\"black\" points=\"529,-262.1 525.5,-252.1 522,-262.1 529,-262.1\"/>\n",
       "</g>\n",
       "<!-- x -->\n",
       "<g id=\"node30\" class=\"node\">\n",
       "<title>x</title>\n",
       "<polygon fill=\"lightskyblue\" stroke=\"lightskyblue\" points=\"416.5,-180 362.5,-180 362.5,-144 416.5,-144 416.5,-180\"/>\n",
       "<text text-anchor=\"middle\" x=\"389.5\" y=\"-158.3\" font-family=\"Times,serif\" font-size=\"14.00\">pad</text>\n",
       "</g>\n",
       "<!-- w&#45;&gt;x -->\n",
       "<g id=\"edge31\" class=\"edge\">\n",
       "<title>w&#45;&gt;x</title>\n",
       "<path fill=\"none\" stroke=\"black\" d=\"M492.23,-215.88C472.18,-205.56 446.63,-192.4 426.02,-181.8\"/>\n",
       "<polygon fill=\"black\" stroke=\"black\" points=\"427.43,-178.59 416.94,-177.12 424.23,-184.81 427.43,-178.59\"/>\n",
       "</g>\n",
       "<!-- 140354701568752 -->\n",
       "<g id=\"node29\" class=\"node\">\n",
       "<title>140354701568752</title>\n",
       "<ellipse fill=\"#ffc125\" stroke=\"#ffc125\" cx=\"389.5\" cy=\"-234\" rx=\"49.29\" ry=\"18\"/>\n",
       "<text text-anchor=\"middle\" x=\"389.5\" y=\"-230.3\" font-family=\"Times,serif\" font-size=\"14.00\">float32[]</text>\n",
       "</g>\n",
       "<!-- 140354701568752&#45;&gt;x -->\n",
       "<g id=\"edge32\" class=\"edge\">\n",
       "<title>140354701568752&#45;&gt;x</title>\n",
       "<path fill=\"none\" stroke=\"black\" d=\"M389.5,-215.7C389.5,-207.98 389.5,-198.71 389.5,-190.11\"/>\n",
       "<polygon fill=\"black\" stroke=\"black\" points=\"393,-190.1 389.5,-180.1 386,-190.1 393,-190.1\"/>\n",
       "</g>\n",
       "<!-- x&#45;&gt;y -->\n",
       "<g id=\"edge34\" class=\"edge\">\n",
       "<title>x&#45;&gt;y</title>\n",
       "<path fill=\"none\" stroke=\"black\" d=\"M377.88,-143.7C372.36,-135.47 365.65,-125.48 359.57,-116.42\"/>\n",
       "<polygon fill=\"black\" stroke=\"black\" points=\"362.46,-114.46 353.98,-108.1 356.65,-118.36 362.46,-114.46\"/>\n",
       "</g>\n",
       "<!-- out_0 -->\n",
       "<g id=\"node32\" class=\"node\">\n",
       "<title>out_0</title>\n",
       "<ellipse fill=\"#ff6a6a\" stroke=\"black\" stroke-dasharray=\"5,2\" cx=\"342.5\" cy=\"-18\" rx=\"36\" ry=\"18\"/>\n",
       "<text text-anchor=\"middle\" x=\"342.5\" y=\"-14.3\" font-family=\"Times,serif\" font-size=\"14.00\">out_0</text>\n",
       "</g>\n",
       "<!-- y&#45;&gt;out_0 -->\n",
       "<g id=\"edge35\" class=\"edge\">\n",
       "<title>y&#45;&gt;out_0</title>\n",
       "<path fill=\"none\" stroke=\"black\" d=\"M342.5,-71.7C342.5,-63.98 342.5,-54.71 342.5,-46.11\"/>\n",
       "<polygon fill=\"black\" stroke=\"black\" points=\"346,-46.1 342.5,-36.1 339,-46.1 346,-46.1\"/>\n",
       "</g>\n",
       "</g>\n",
       "</svg>\n"
      ],
      "text/plain": [
       "<graphviz.graphs.Digraph at 0x7fa764732f50>"
      ]
     },
     "execution_count": 27,
     "metadata": {},
     "output_type": "execute_result"
    }
   ],
   "source": [
    "util.jaxpr_graph(grad_fn, model_params, xt, yt)"
   ]
  },
  {
   "cell_type": "code",
   "execution_count": 28,
   "metadata": {},
   "outputs": [
    {
     "data": {
      "text/plain": [
       "{ lambda ; a:f32[2] b:f32[1000] c:f32[1000]. let\n",
       "    d:f32[1] = slice[limit_indices=(1,) start_indices=(0,) strides=(1,)] a\n",
       "    e:f32[] = squeeze[dimensions=(0,)] d\n",
       "    f:f32[1] = slice[limit_indices=(2,) start_indices=(1,) strides=(1,)] a\n",
       "    g:f32[] = squeeze[dimensions=(0,)] f\n",
       "    h:f32[1000] = mul e b\n",
       "    i:f32[1000] = add h g\n",
       "    j:f32[1000] = sub i c\n",
       "    k:f32[1000] = integer_pow[y=2] j\n",
       "    l:f32[1000] = integer_pow[y=1] j\n",
       "    m:f32[1000] = mul 2.0 l\n",
       "    n:f32[] = reduce_sum[axes=(0,)] k\n",
       "    _:f32[] = div n 1000.0\n",
       "    o:f32[] = div 1.0 1000.0\n",
       "    p:f32[1000] = broadcast_in_dim[broadcast_dimensions=() shape=(1000,)] o\n",
       "    q:f32[1000] = mul p m\n",
       "    r:f32[] = reduce_sum[axes=(0,)] q\n",
       "    s:f32[1] = broadcast_in_dim[broadcast_dimensions=() shape=(1,)] r\n",
       "    t:f32[2] = pad[padding_config=((1, 0, 0),)] s 0.0\n",
       "    u:f32[1000] = mul q b\n",
       "    v:f32[] = reduce_sum[axes=(0,)] u\n",
       "    w:f32[1] = broadcast_in_dim[broadcast_dimensions=() shape=(1,)] v\n",
       "    x:f32[2] = pad[padding_config=((0, 1, 0),)] w 0.0\n",
       "    y:f32[2] = add_any t x\n",
       "  in (y,) }"
      ]
     },
     "execution_count": 28,
     "metadata": {},
     "output_type": "execute_result"
    }
   ],
   "source": [
    "test = make_jaxpr(grad_fn)(model_params, xt, yt)\n",
    "test"
   ]
  },
  {
   "cell_type": "code",
   "execution_count": 29,
   "metadata": {},
   "outputs": [
    {
     "name": "stdout",
     "output_type": "stream",
     "text": [
      "_asdict                                 _field_defaults\n",
      "_fields                                 _make\n",
      "_replace                                count\n",
      "effects                                 index\n",
      "invars                                  outvars\n",
      "params                                  primitive\n",
      "replace                                 source_info\n"
     ]
    }
   ],
   "source": [
    "print_dir(test.jaxpr.eqns[0])"
   ]
  },
  {
   "cell_type": "code",
   "execution_count": 30,
   "metadata": {},
   "outputs": [
    {
     "data": {
      "text/plain": [
       "a:f32[1] = slice[limit_indices=(1,) start_indices=(0,) strides=(1,)] b"
      ]
     },
     "execution_count": 30,
     "metadata": {},
     "output_type": "execute_result"
    }
   ],
   "source": [
    "test.jaxpr.eqns[0]"
   ]
  },
  {
   "cell_type": "code",
   "execution_count": 31,
   "metadata": {},
   "outputs": [
    {
     "data": {
      "text/plain": [
       "{'invars': [a],\n",
       " 'outvars': [d],\n",
       " 'primitive': slice,\n",
       " 'params': {'start_indices': (0,), 'limit_indices': (1,), 'strides': (1,)},\n",
       " 'effects': frozenset(),\n",
       " 'source_info': SourceInfo(traceback=<jaxlib.xla_extension.Traceback object at 0x7fa6e02370f0>, name_stack=NameStack(stack=(Transform(name='jvp'),)))}"
      ]
     },
     "execution_count": 31,
     "metadata": {},
     "output_type": "execute_result"
    }
   ],
   "source": [
    "test.jaxpr.eqns[0]._asdict()"
   ]
  },
  {
   "cell_type": "code",
   "execution_count": 32,
   "metadata": {},
   "outputs": [
    {
     "data": {
      "text/plain": [
       "(Array(-2533.5396, dtype=float32), Array(-153.10872, dtype=float32))"
      ]
     },
     "execution_count": 32,
     "metadata": {},
     "output_type": "execute_result"
    }
   ],
   "source": [
    "(\n",
    "    jnp.sum(((2 * (model(jnp.array([1.0, 1.0]), xt) - yt)) * 1 / 1000) * xt),\n",
    "    jnp.sum(((2 * (model(jnp.array([1.0, 1.0]), xt) - yt)) * 1 / 1000)),\n",
    ")"
   ]
  },
  {
   "cell_type": "code",
   "execution_count": 33,
   "metadata": {},
   "outputs": [
    {
     "data": {
      "text/plain": [
       "Array([-2533.5396 ,  -153.10872], dtype=float32)"
      ]
     },
     "execution_count": 33,
     "metadata": {},
     "output_type": "execute_result"
    }
   ],
   "source": [
    "grads"
   ]
  },
  {
   "cell_type": "markdown",
   "metadata": {},
   "source": [
    "## Args in grad fn"
   ]
  },
  {
   "cell_type": "markdown",
   "metadata": {},
   "source": [
    "### argnums \n",
    "\n",
    "determines which positional argument to differentiate with respect to."
   ]
  },
  {
   "cell_type": "code",
   "execution_count": 34,
   "metadata": {},
   "outputs": [],
   "source": [
    "def f(x, y):\n",
    "    return x**2 + 2 * y"
   ]
  },
  {
   "cell_type": "code",
   "execution_count": 35,
   "metadata": {},
   "outputs": [
    {
     "data": {
      "text/plain": [
       "Array(4., dtype=float32, weak_type=True)"
      ]
     },
     "execution_count": 35,
     "metadata": {},
     "output_type": "execute_result"
    }
   ],
   "source": [
    "df_dx = grad(f, argnums=0)  # df/dx = 2x since x is first parameter\n",
    "df_dx(2.0, 10.0)"
   ]
  },
  {
   "cell_type": "code",
   "execution_count": 36,
   "metadata": {},
   "outputs": [
    {
     "data": {
      "text/plain": [
       "Array(2., dtype=float32, weak_type=True)"
      ]
     },
     "execution_count": 36,
     "metadata": {},
     "output_type": "execute_result"
    }
   ],
   "source": [
    "df_dy = grad(f, argnums=1)  # df/dy = 2\n",
    "df_dy(4.0, 10.0)"
   ]
  },
  {
   "cell_type": "code",
   "execution_count": 37,
   "metadata": {},
   "outputs": [
    {
     "data": {
      "text/plain": [
       "(Array(10., dtype=float32, weak_type=True),\n",
       " Array(2., dtype=float32, weak_type=True))"
      ]
     },
     "execution_count": 37,
     "metadata": {},
     "output_type": "execute_result"
    }
   ],
   "source": [
    "# ? diff with both x and y\n",
    "df_dx_dy = grad(f, argnums=(0, 1))\n",
    "df_dx_dy(5.0, 11.0)"
   ]
  },
  {
   "cell_type": "markdown",
   "metadata": {},
   "source": [
    "### diff using dict"
   ]
  },
  {
   "cell_type": "code",
   "execution_count": 38,
   "metadata": {},
   "outputs": [
    {
     "data": {
      "text/plain": [
       "{'b': Array(-153.10872, dtype=float32, weak_type=True),\n",
       " 'w': Array(-2533.5396, dtype=float32, weak_type=True)}"
      ]
     },
     "execution_count": 38,
     "metadata": {},
     "output_type": "execute_result"
    }
   ],
   "source": [
    "xt = jnp.array(x)\n",
    "yt = jnp.array(y)\n",
    "lr = 1e-2\n",
    "\n",
    "model_params = {\"w\": jnp.array(1.0), \"b\": jnp.array(1.0)}\n",
    "\n",
    "\n",
    "def model(theta, x):\n",
    "    w, b = theta[\"w\"], theta[\"b\"]\n",
    "    return w * x + b\n",
    "\n",
    "\n",
    "def loss_fn(model_params, x, y):\n",
    "    pred = model(model_params, x)\n",
    "    return jnp.mean((pred - y) ** 2)\n",
    "\n",
    "\n",
    "grad_fn = grad(loss_fn)\n",
    "grads = grad_fn(model_params, xt, yt)\n",
    "grads"
   ]
  },
  {
   "cell_type": "markdown",
   "metadata": {},
   "source": [
    "### has_aux\n",
    "\n",
    "1. fn should return a scalar (which includes arrays with shape () but not arrays with shape (1,) etc.\n",
    "2. indicates whether fun returns a pair where the first element is considered the output of the mathematical function to be differentiated and the second element is auxiliary data."
   ]
  },
  {
   "cell_type": "code",
   "execution_count": 39,
   "metadata": {},
   "outputs": [],
   "source": [
    "def f(x, y):\n",
    "    res = x**2 + 2 * y\n",
    "    return res, res"
   ]
  },
  {
   "cell_type": "code",
   "execution_count": 40,
   "metadata": {},
   "outputs": [
    {
     "name": "stdout",
     "output_type": "stream",
     "text": [
      "Gradient only defined for scalar-output functions. Output was (Array(47., dtype=float32, weak_type=True), Array(47., dtype=float32, weak_type=True)).\n"
     ]
    }
   ],
   "source": [
    "df_dx_dy = grad(f, argnums=(0, 1))\n",
    "try:\n",
    "    df_dx_dy(5.0, 11.0)\n",
    "except TypeError as e:\n",
    "    print(e)"
   ]
  },
  {
   "cell_type": "code",
   "execution_count": 41,
   "metadata": {},
   "outputs": [
    {
     "data": {
      "text/plain": [
       "((Array(10., dtype=float32, weak_type=True),\n",
       "  Array(2., dtype=float32, weak_type=True)),\n",
       " Array(47., dtype=float32, weak_type=True))"
      ]
     },
     "execution_count": 41,
     "metadata": {},
     "output_type": "execute_result"
    }
   ],
   "source": [
    "df_dx_dy = grad(f, argnums=(0, 1), has_aux=True)\n",
    "df_dx_dy(5.0, 11.0)"
   ]
  },
  {
   "cell_type": "markdown",
   "metadata": {},
   "source": [
    "## Value and Grad\n",
    "return the loss and grad as same time"
   ]
  },
  {
   "cell_type": "code",
   "execution_count": 42,
   "metadata": {},
   "outputs": [
    {
     "data": {
      "text/plain": [
       "(Array(47., dtype=float32, weak_type=True),\n",
       " (Array(10., dtype=float32, weak_type=True),\n",
       "  Array(2., dtype=float32, weak_type=True)))"
      ]
     },
     "execution_count": 42,
     "metadata": {},
     "output_type": "execute_result"
    }
   ],
   "source": [
    "def f(x, y):\n",
    "    return x**2 + 2 * y\n",
    "\n",
    "\n",
    "df_dx_dy = jax.value_and_grad(f, argnums=(0, 1))\n",
    "df_dx_dy(5.0, 11.0)"
   ]
  },
  {
   "cell_type": "markdown",
   "metadata": {},
   "source": [
    "## Stop Gradient\n",
    "\n",
    "It allows forward movement but prevents backward flow."
   ]
  },
  {
   "cell_type": "code",
   "execution_count": 43,
   "metadata": {},
   "outputs": [
    {
     "data": {
      "text/plain": [
       "(13.0,\n",
       " (Array(4., dtype=float32, weak_type=True),\n",
       "  Array(6., dtype=float32, weak_type=True)))"
      ]
     },
     "execution_count": 43,
     "metadata": {},
     "output_type": "execute_result"
    }
   ],
   "source": [
    "from jax import grad, make_jaxpr\n",
    "import util\n",
    "\n",
    "\n",
    "def f(x, y):\n",
    "    return x**2 + y**2\n",
    "\n",
    "\n",
    "df = grad(f, argnums=(0, 1), has_aux=False)\n",
    "\n",
    "f(2.0, 3.0), df(2.0, 3.0)"
   ]
  },
  {
   "cell_type": "code",
   "execution_count": 44,
   "metadata": {},
   "outputs": [
    {
     "data": {
      "text/plain": [
       "{ lambda ; a:f32[] b:f32[]. let\n",
       "    c:f32[] = integer_pow[y=2] a\n",
       "    d:f32[] = integer_pow[y=1] a\n",
       "    e:f32[] = mul 2.0 d\n",
       "    f:f32[] = integer_pow[y=2] b\n",
       "    g:f32[] = integer_pow[y=1] b\n",
       "    h:f32[] = mul 2.0 g\n",
       "    _:f32[] = add c f\n",
       "    i:f32[] = mul 1.0 h\n",
       "    j:f32[] = mul 1.0 e\n",
       "  in (j, i) }"
      ]
     },
     "execution_count": 44,
     "metadata": {},
     "output_type": "execute_result"
    }
   ],
   "source": [
    "make_jaxpr(df)(2.0, 3.0)"
   ]
  },
  {
   "cell_type": "code",
   "execution_count": 45,
   "metadata": {},
   "outputs": [
    {
     "data": {
      "image/svg+xml": [
       "<?xml version=\"1.0\" encoding=\"UTF-8\" standalone=\"no\"?>\n",
       "<!DOCTYPE svg PUBLIC \"-//W3C//DTD SVG 1.1//EN\"\n",
       " \"http://www.w3.org/Graphics/SVG/1.1/DTD/svg11.dtd\">\n",
       "<!-- Generated by graphviz version 2.50.0 (0)\n",
       " -->\n",
       "<!-- Pages: 1 -->\n",
       "<svg width=\"432pt\" height=\"205pt\"\n",
       " viewBox=\"0.00 0.00 432.00 204.89\" xmlns=\"http://www.w3.org/2000/svg\" xmlns:xlink=\"http://www.w3.org/1999/xlink\">\n",
       "<g id=\"graph0\" class=\"graph\" transform=\"scale(0.62 0.62) rotate(0) translate(4 328)\">\n",
       "<polygon fill=\"white\" stroke=\"transparent\" points=\"-4,4 -4,-328 696,-328 696,4 -4,4\"/>\n",
       "<!-- a -->\n",
       "<g id=\"node1\" class=\"node\">\n",
       "<title>a</title>\n",
       "<ellipse fill=\"mediumspringgreen\" stroke=\"mediumspringgreen\" cx=\"110.5\" cy=\"-306\" rx=\"49.29\" ry=\"18\"/>\n",
       "<text text-anchor=\"middle\" x=\"110.5\" y=\"-302.3\" font-family=\"Times,serif\" font-size=\"14.00\">float32[]</text>\n",
       "</g>\n",
       "<!-- c -->\n",
       "<g id=\"node3\" class=\"node\">\n",
       "<title>c</title>\n",
       "<polygon fill=\"lightskyblue\" stroke=\"lightskyblue\" points=\"101,-252 0,-252 0,-216 101,-216 101,-252\"/>\n",
       "<text text-anchor=\"middle\" x=\"50.5\" y=\"-230.3\" font-family=\"Times,serif\" font-size=\"14.00\">integer_pow</text>\n",
       "</g>\n",
       "<!-- a&#45;&gt;c -->\n",
       "<g id=\"edge1\" class=\"edge\">\n",
       "<title>a&#45;&gt;c</title>\n",
       "<path fill=\"none\" stroke=\"black\" d=\"M96.28,-288.41C89.03,-279.95 80.05,-269.47 71.97,-260.05\"/>\n",
       "<polygon fill=\"black\" stroke=\"black\" points=\"74.62,-257.76 65.45,-252.45 69.3,-262.32 74.62,-257.76\"/>\n",
       "</g>\n",
       "<!-- d -->\n",
       "<g id=\"node4\" class=\"node\">\n",
       "<title>d</title>\n",
       "<polygon fill=\"lightskyblue\" stroke=\"lightskyblue\" points=\"220,-252 119,-252 119,-216 220,-216 220,-252\"/>\n",
       "<text text-anchor=\"middle\" x=\"169.5\" y=\"-230.3\" font-family=\"Times,serif\" font-size=\"14.00\">integer_pow</text>\n",
       "</g>\n",
       "<!-- a&#45;&gt;d -->\n",
       "<g id=\"edge2\" class=\"edge\">\n",
       "<title>a&#45;&gt;d</title>\n",
       "<path fill=\"none\" stroke=\"black\" d=\"M124.48,-288.41C131.55,-280.03 140.27,-269.68 148.15,-260.33\"/>\n",
       "<polygon fill=\"black\" stroke=\"black\" points=\"151.03,-262.35 154.79,-252.45 145.67,-257.84 151.03,-262.35\"/>\n",
       "</g>\n",
       "<!-- b -->\n",
       "<g id=\"node2\" class=\"node\">\n",
       "<title>b</title>\n",
       "<ellipse fill=\"mediumspringgreen\" stroke=\"mediumspringgreen\" cx=\"464.5\" cy=\"-306\" rx=\"49.29\" ry=\"18\"/>\n",
       "<text text-anchor=\"middle\" x=\"464.5\" y=\"-302.3\" font-family=\"Times,serif\" font-size=\"14.00\">float32[]</text>\n",
       "</g>\n",
       "<!-- f -->\n",
       "<g id=\"node7\" class=\"node\">\n",
       "<title>f</title>\n",
       "<polygon fill=\"lightskyblue\" stroke=\"lightskyblue\" points=\"339,-252 238,-252 238,-216 339,-216 339,-252\"/>\n",
       "<text text-anchor=\"middle\" x=\"288.5\" y=\"-230.3\" font-family=\"Times,serif\" font-size=\"14.00\">integer_pow</text>\n",
       "</g>\n",
       "<!-- b&#45;&gt;f -->\n",
       "<g id=\"edge5\" class=\"edge\">\n",
       "<title>b&#45;&gt;f</title>\n",
       "<path fill=\"none\" stroke=\"black\" d=\"M432.22,-292.16C406.7,-282.01 370.56,-267.64 340.9,-255.84\"/>\n",
       "<polygon fill=\"black\" stroke=\"black\" points=\"342.11,-252.55 331.52,-252.11 339.52,-259.06 342.11,-252.55\"/>\n",
       "</g>\n",
       "<!-- g -->\n",
       "<g id=\"node8\" class=\"node\">\n",
       "<title>g</title>\n",
       "<polygon fill=\"lightskyblue\" stroke=\"lightskyblue\" points=\"692,-252 591,-252 591,-216 692,-216 692,-252\"/>\n",
       "<text text-anchor=\"middle\" x=\"641.5\" y=\"-230.3\" font-family=\"Times,serif\" font-size=\"14.00\">integer_pow</text>\n",
       "</g>\n",
       "<!-- b&#45;&gt;g -->\n",
       "<g id=\"edge6\" class=\"edge\">\n",
       "<title>b&#45;&gt;g</title>\n",
       "<path fill=\"none\" stroke=\"black\" d=\"M496.96,-292.16C522.63,-282.01 558.98,-267.64 588.8,-255.84\"/>\n",
       "<polygon fill=\"black\" stroke=\"black\" points=\"590.22,-259.04 598.23,-252.11 587.65,-252.53 590.22,-259.04\"/>\n",
       "</g>\n",
       "<!-- _ -->\n",
       "<g id=\"node11\" class=\"node\">\n",
       "<title>_</title>\n",
       "<polygon fill=\"lightskyblue\" stroke=\"lightskyblue\" points=\"219.5,-180 165.5,-180 165.5,-144 219.5,-144 219.5,-180\"/>\n",
       "<text text-anchor=\"middle\" x=\"192.5\" y=\"-158.3\" font-family=\"Times,serif\" font-size=\"14.00\">add</text>\n",
       "</g>\n",
       "<!-- c&#45;&gt;_ -->\n",
       "<g id=\"edge9\" class=\"edge\">\n",
       "<title>c&#45;&gt;_</title>\n",
       "<path fill=\"none\" stroke=\"black\" d=\"M85.24,-215.88C106.69,-205.3 134.19,-191.74 155.97,-181.01\"/>\n",
       "<polygon fill=\"black\" stroke=\"black\" points=\"157.81,-184 165.23,-176.44 154.71,-177.73 157.81,-184\"/>\n",
       "</g>\n",
       "<!-- e -->\n",
       "<g id=\"node6\" class=\"node\">\n",
       "<title>e</title>\n",
       "<polygon fill=\"lightskyblue\" stroke=\"lightskyblue\" points=\"397.5,-180 343.5,-180 343.5,-144 397.5,-144 397.5,-180\"/>\n",
       "<text text-anchor=\"middle\" x=\"370.5\" y=\"-158.3\" font-family=\"Times,serif\" font-size=\"14.00\">mul</text>\n",
       "</g>\n",
       "<!-- d&#45;&gt;e -->\n",
       "<g id=\"edge4\" class=\"edge\">\n",
       "<title>d&#45;&gt;e</title>\n",
       "<path fill=\"none\" stroke=\"black\" d=\"M218.41,-215.97C254.01,-203.57 301.45,-187.05 333.82,-175.77\"/>\n",
       "<polygon fill=\"black\" stroke=\"black\" points=\"335.06,-179.05 343.35,-172.45 332.76,-172.44 335.06,-179.05\"/>\n",
       "</g>\n",
       "<!-- 140354704029968 -->\n",
       "<g id=\"node5\" class=\"node\">\n",
       "<title>140354704029968</title>\n",
       "<ellipse fill=\"#ffc125\" stroke=\"#ffc125\" cx=\"406.5\" cy=\"-234\" rx=\"49.29\" ry=\"18\"/>\n",
       "<text text-anchor=\"middle\" x=\"406.5\" y=\"-230.3\" font-family=\"Times,serif\" font-size=\"14.00\">float32[]</text>\n",
       "</g>\n",
       "<!-- 140354704029968&#45;&gt;e -->\n",
       "<g id=\"edge3\" class=\"edge\">\n",
       "<title>140354704029968&#45;&gt;e</title>\n",
       "<path fill=\"none\" stroke=\"black\" d=\"M397.79,-216.05C393.65,-208.01 388.61,-198.2 383.99,-189.23\"/>\n",
       "<polygon fill=\"black\" stroke=\"black\" points=\"387.07,-187.57 379.38,-180.28 380.85,-190.77 387.07,-187.57\"/>\n",
       "</g>\n",
       "<!-- j -->\n",
       "<g id=\"node14\" class=\"node\">\n",
       "<title>j</title>\n",
       "<polygon fill=\"lightskyblue\" stroke=\"lightskyblue\" points=\"445.5,-108 391.5,-108 391.5,-72 445.5,-72 445.5,-108\"/>\n",
       "<text text-anchor=\"middle\" x=\"418.5\" y=\"-86.3\" font-family=\"Times,serif\" font-size=\"14.00\">mul</text>\n",
       "</g>\n",
       "<!-- e&#45;&gt;j -->\n",
       "<g id=\"edge14\" class=\"edge\">\n",
       "<title>e&#45;&gt;j</title>\n",
       "<path fill=\"none\" stroke=\"black\" d=\"M382.37,-143.7C388,-135.47 394.85,-125.48 401.07,-116.42\"/>\n",
       "<polygon fill=\"black\" stroke=\"black\" points=\"404,-118.33 406.77,-108.1 398.23,-114.37 404,-118.33\"/>\n",
       "</g>\n",
       "<!-- f&#45;&gt;_ -->\n",
       "<g id=\"edge10\" class=\"edge\">\n",
       "<title>f&#45;&gt;_</title>\n",
       "<path fill=\"none\" stroke=\"black\" d=\"M264.77,-215.7C252.56,-206.8 237.51,-195.82 224.32,-186.2\"/>\n",
       "<polygon fill=\"black\" stroke=\"black\" points=\"226.1,-183.17 215.96,-180.1 221.98,-188.82 226.1,-183.17\"/>\n",
       "</g>\n",
       "<!-- h -->\n",
       "<g id=\"node10\" class=\"node\">\n",
       "<title>h</title>\n",
       "<polygon fill=\"lightskyblue\" stroke=\"lightskyblue\" points=\"585.5,-180 531.5,-180 531.5,-144 585.5,-144 585.5,-180\"/>\n",
       "<text text-anchor=\"middle\" x=\"558.5\" y=\"-158.3\" font-family=\"Times,serif\" font-size=\"14.00\">mul</text>\n",
       "</g>\n",
       "<!-- g&#45;&gt;h -->\n",
       "<g id=\"edge8\" class=\"edge\">\n",
       "<title>g&#45;&gt;h</title>\n",
       "<path fill=\"none\" stroke=\"black\" d=\"M620.98,-215.7C610.63,-206.97 597.91,-196.24 586.66,-186.75\"/>\n",
       "<polygon fill=\"black\" stroke=\"black\" points=\"588.68,-183.88 578.78,-180.1 584.17,-189.23 588.68,-183.88\"/>\n",
       "</g>\n",
       "<!-- 140354702982640 -->\n",
       "<g id=\"node9\" class=\"node\">\n",
       "<title>140354702982640</title>\n",
       "<ellipse fill=\"#ffc125\" stroke=\"#ffc125\" cx=\"523.5\" cy=\"-234\" rx=\"49.29\" ry=\"18\"/>\n",
       "<text text-anchor=\"middle\" x=\"523.5\" y=\"-230.3\" font-family=\"Times,serif\" font-size=\"14.00\">float32[]</text>\n",
       "</g>\n",
       "<!-- 140354702982640&#45;&gt;h -->\n",
       "<g id=\"edge7\" class=\"edge\">\n",
       "<title>140354702982640&#45;&gt;h</title>\n",
       "<path fill=\"none\" stroke=\"black\" d=\"M531.97,-216.05C536,-208.01 540.9,-198.2 545.39,-189.23\"/>\n",
       "<polygon fill=\"black\" stroke=\"black\" points=\"548.52,-190.78 549.86,-180.28 542.26,-187.65 548.52,-190.78\"/>\n",
       "</g>\n",
       "<!-- i -->\n",
       "<g id=\"node13\" class=\"node\">\n",
       "<title>i</title>\n",
       "<polygon fill=\"lightskyblue\" stroke=\"lightskyblue\" points=\"536.5,-108 482.5,-108 482.5,-72 536.5,-72 536.5,-108\"/>\n",
       "<text text-anchor=\"middle\" x=\"509.5\" y=\"-86.3\" font-family=\"Times,serif\" font-size=\"14.00\">mul</text>\n",
       "</g>\n",
       "<!-- h&#45;&gt;i -->\n",
       "<g id=\"edge12\" class=\"edge\">\n",
       "<title>h&#45;&gt;i</title>\n",
       "<path fill=\"none\" stroke=\"black\" d=\"M546.39,-143.7C540.63,-135.47 533.64,-125.48 527.29,-116.42\"/>\n",
       "<polygon fill=\"black\" stroke=\"black\" points=\"530.08,-114.29 521.47,-108.1 524.34,-118.3 530.08,-114.29\"/>\n",
       "</g>\n",
       "<!-- 140354702185168 -->\n",
       "<g id=\"node12\" class=\"node\">\n",
       "<title>140354702185168</title>\n",
       "<ellipse fill=\"#ffc125\" stroke=\"#ffc125\" cx=\"464.5\" cy=\"-162\" rx=\"49.29\" ry=\"18\"/>\n",
       "<text text-anchor=\"middle\" x=\"464.5\" y=\"-158.3\" font-family=\"Times,serif\" font-size=\"14.00\">float32[]</text>\n",
       "</g>\n",
       "<!-- 140354702185168&#45;&gt;i -->\n",
       "<g id=\"edge11\" class=\"edge\">\n",
       "<title>140354702185168&#45;&gt;i</title>\n",
       "<path fill=\"none\" stroke=\"black\" d=\"M475.16,-144.41C480.44,-136.2 486.94,-126.1 492.85,-116.9\"/>\n",
       "<polygon fill=\"black\" stroke=\"black\" points=\"495.82,-118.75 498.28,-108.45 489.93,-114.97 495.82,-118.75\"/>\n",
       "</g>\n",
       "<!-- 140354702185168&#45;&gt;j -->\n",
       "<g id=\"edge13\" class=\"edge\">\n",
       "<title>140354702185168&#45;&gt;j</title>\n",
       "<path fill=\"none\" stroke=\"black\" d=\"M453.6,-144.41C448.2,-136.2 441.57,-126.1 435.52,-116.9\"/>\n",
       "<polygon fill=\"black\" stroke=\"black\" points=\"438.38,-114.88 429.97,-108.45 432.53,-118.73 438.38,-114.88\"/>\n",
       "</g>\n",
       "<!-- out_1 -->\n",
       "<g id=\"node16\" class=\"node\">\n",
       "<title>out_1</title>\n",
       "<ellipse fill=\"#ff6a6a\" stroke=\"black\" stroke-dasharray=\"5,2\" cx=\"509.5\" cy=\"-18\" rx=\"36\" ry=\"18\"/>\n",
       "<text text-anchor=\"middle\" x=\"509.5\" y=\"-14.3\" font-family=\"Times,serif\" font-size=\"14.00\">out_1</text>\n",
       "</g>\n",
       "<!-- i&#45;&gt;out_1 -->\n",
       "<g id=\"edge16\" class=\"edge\">\n",
       "<title>i&#45;&gt;out_1</title>\n",
       "<path fill=\"none\" stroke=\"black\" d=\"M509.5,-71.7C509.5,-63.98 509.5,-54.71 509.5,-46.11\"/>\n",
       "<polygon fill=\"black\" stroke=\"black\" points=\"513,-46.1 509.5,-36.1 506,-46.1 513,-46.1\"/>\n",
       "</g>\n",
       "<!-- out_0 -->\n",
       "<g id=\"node15\" class=\"node\">\n",
       "<title>out_0</title>\n",
       "<ellipse fill=\"#ff6a6a\" stroke=\"black\" stroke-dasharray=\"5,2\" cx=\"418.5\" cy=\"-18\" rx=\"36\" ry=\"18\"/>\n",
       "<text text-anchor=\"middle\" x=\"418.5\" y=\"-14.3\" font-family=\"Times,serif\" font-size=\"14.00\">out_0</text>\n",
       "</g>\n",
       "<!-- j&#45;&gt;out_0 -->\n",
       "<g id=\"edge15\" class=\"edge\">\n",
       "<title>j&#45;&gt;out_0</title>\n",
       "<path fill=\"none\" stroke=\"black\" d=\"M418.5,-71.7C418.5,-63.98 418.5,-54.71 418.5,-46.11\"/>\n",
       "<polygon fill=\"black\" stroke=\"black\" points=\"422,-46.1 418.5,-36.1 415,-46.1 422,-46.1\"/>\n",
       "</g>\n",
       "</g>\n",
       "</svg>\n"
      ],
      "text/plain": [
       "<graphviz.graphs.Digraph at 0x7fa6e0397310>"
      ]
     },
     "execution_count": 45,
     "metadata": {},
     "output_type": "execute_result"
    }
   ],
   "source": [
    "util.jaxpr_graph(df, 2.0, 3.0)"
   ]
  },
  {
   "cell_type": "code",
   "execution_count": 46,
   "metadata": {},
   "outputs": [
    {
     "data": {
      "text/plain": [
       "(13.0,\n",
       " (Array(4., dtype=float32, weak_type=True),\n",
       "  Array(0., dtype=float32, weak_type=True)))"
      ]
     },
     "execution_count": 46,
     "metadata": {},
     "output_type": "execute_result"
    }
   ],
   "source": [
    "from jax.lax import stop_gradient\n",
    "\n",
    "\n",
    "def f(x, y):\n",
    "    return x**2 + stop_gradient(y**2)\n",
    "\n",
    "\n",
    "df = grad(f, argnums=(0, 1), has_aux=False)\n",
    "\n",
    "f(2.0, 3.0), df(2.0, 3.0)"
   ]
  },
  {
   "cell_type": "code",
   "execution_count": 47,
   "metadata": {},
   "outputs": [
    {
     "data": {
      "text/plain": [
       "{ lambda ; a:f32[] b:f32[]. let\n",
       "    c:f32[] = integer_pow[y=2] a\n",
       "    d:f32[] = integer_pow[y=1] a\n",
       "    e:f32[] = mul 2.0 d\n",
       "    f:f32[] = integer_pow[y=2] b\n",
       "    g:f32[] = integer_pow[y=1] b\n",
       "    _:f32[] = mul 2.0 g\n",
       "    h:f32[] = stop_gradient f\n",
       "    _:f32[] = add c h\n",
       "    i:f32[] = mul 1.0 e\n",
       "  in (i, 0.0) }"
      ]
     },
     "execution_count": 47,
     "metadata": {},
     "output_type": "execute_result"
    }
   ],
   "source": [
    "make_jaxpr(df)(2.0, 3.0)"
   ]
  },
  {
   "cell_type": "code",
   "execution_count": 48,
   "metadata": {},
   "outputs": [
    {
     "data": {
      "image/svg+xml": [
       "<?xml version=\"1.0\" encoding=\"UTF-8\" standalone=\"no\"?>\n",
       "<!DOCTYPE svg PUBLIC \"-//W3C//DTD SVG 1.1//EN\"\n",
       " \"http://www.w3.org/Graphics/SVG/1.1/DTD/svg11.dtd\">\n",
       "<!-- Generated by graphviz version 2.50.0 (0)\n",
       " -->\n",
       "<!-- Pages: 1 -->\n",
       "<svg width=\"432pt\" height=\"251pt\"\n",
       " viewBox=\"0.00 0.00 432.00 250.80\" xmlns=\"http://www.w3.org/2000/svg\" xmlns:xlink=\"http://www.w3.org/1999/xlink\">\n",
       "<g id=\"graph0\" class=\"graph\" transform=\"scale(0.62 0.62) rotate(0) translate(4 400)\">\n",
       "<polygon fill=\"white\" stroke=\"transparent\" points=\"-4,4 -4,-400 691.9,-400 691.9,4 -4,4\"/>\n",
       "<!-- a -->\n",
       "<g id=\"node1\" class=\"node\">\n",
       "<title>a</title>\n",
       "<ellipse fill=\"mediumspringgreen\" stroke=\"mediumspringgreen\" cx=\"460.5\" cy=\"-306\" rx=\"49.29\" ry=\"18\"/>\n",
       "<text text-anchor=\"middle\" x=\"460.5\" y=\"-302.3\" font-family=\"Times,serif\" font-size=\"14.00\">float32[]</text>\n",
       "</g>\n",
       "<!-- c -->\n",
       "<g id=\"node3\" class=\"node\">\n",
       "<title>c</title>\n",
       "<polygon fill=\"lightskyblue\" stroke=\"lightskyblue\" points=\"452,-252 351,-252 351,-216 452,-216 452,-252\"/>\n",
       "<text text-anchor=\"middle\" x=\"401.5\" y=\"-230.3\" font-family=\"Times,serif\" font-size=\"14.00\">integer_pow</text>\n",
       "</g>\n",
       "<!-- a&#45;&gt;c -->\n",
       "<g id=\"edge1\" class=\"edge\">\n",
       "<title>a&#45;&gt;c</title>\n",
       "<path fill=\"none\" stroke=\"black\" d=\"M446.52,-288.41C439.45,-280.03 430.73,-269.68 422.85,-260.33\"/>\n",
       "<polygon fill=\"black\" stroke=\"black\" points=\"425.33,-257.84 416.21,-252.45 419.97,-262.35 425.33,-257.84\"/>\n",
       "</g>\n",
       "<!-- d -->\n",
       "<g id=\"node4\" class=\"node\">\n",
       "<title>d</title>\n",
       "<polygon fill=\"lightskyblue\" stroke=\"lightskyblue\" points=\"571,-252 470,-252 470,-216 571,-216 571,-252\"/>\n",
       "<text text-anchor=\"middle\" x=\"520.5\" y=\"-230.3\" font-family=\"Times,serif\" font-size=\"14.00\">integer_pow</text>\n",
       "</g>\n",
       "<!-- a&#45;&gt;d -->\n",
       "<g id=\"edge2\" class=\"edge\">\n",
       "<title>a&#45;&gt;d</title>\n",
       "<path fill=\"none\" stroke=\"black\" d=\"M474.72,-288.41C481.97,-279.95 490.95,-269.47 499.03,-260.05\"/>\n",
       "<polygon fill=\"black\" stroke=\"black\" points=\"501.7,-262.32 505.55,-252.45 496.38,-257.76 501.7,-262.32\"/>\n",
       "</g>\n",
       "<!-- b -->\n",
       "<g id=\"node2\" class=\"node\">\n",
       "<title>b</title>\n",
       "<ellipse fill=\"mediumspringgreen\" stroke=\"mediumspringgreen\" cx=\"110.5\" cy=\"-378\" rx=\"49.29\" ry=\"18\"/>\n",
       "<text text-anchor=\"middle\" x=\"110.5\" y=\"-374.3\" font-family=\"Times,serif\" font-size=\"14.00\">float32[]</text>\n",
       "</g>\n",
       "<!-- f -->\n",
       "<g id=\"node7\" class=\"node\">\n",
       "<title>f</title>\n",
       "<polygon fill=\"lightskyblue\" stroke=\"lightskyblue\" points=\"220,-324 119,-324 119,-288 220,-288 220,-324\"/>\n",
       "<text text-anchor=\"middle\" x=\"169.5\" y=\"-302.3\" font-family=\"Times,serif\" font-size=\"14.00\">integer_pow</text>\n",
       "</g>\n",
       "<!-- b&#45;&gt;f -->\n",
       "<g id=\"edge5\" class=\"edge\">\n",
       "<title>b&#45;&gt;f</title>\n",
       "<path fill=\"none\" stroke=\"black\" d=\"M124.48,-360.41C131.55,-352.03 140.27,-341.68 148.15,-332.33\"/>\n",
       "<polygon fill=\"black\" stroke=\"black\" points=\"151.03,-334.35 154.79,-324.45 145.67,-329.84 151.03,-334.35\"/>\n",
       "</g>\n",
       "<!-- g -->\n",
       "<g id=\"node8\" class=\"node\">\n",
       "<title>g</title>\n",
       "<polygon fill=\"lightskyblue\" stroke=\"lightskyblue\" points=\"101,-324 0,-324 0,-288 101,-288 101,-324\"/>\n",
       "<text text-anchor=\"middle\" x=\"50.5\" y=\"-302.3\" font-family=\"Times,serif\" font-size=\"14.00\">integer_pow</text>\n",
       "</g>\n",
       "<!-- b&#45;&gt;g -->\n",
       "<g id=\"edge6\" class=\"edge\">\n",
       "<title>b&#45;&gt;g</title>\n",
       "<path fill=\"none\" stroke=\"black\" d=\"M96.28,-360.41C89.03,-351.95 80.05,-341.47 71.97,-332.05\"/>\n",
       "<polygon fill=\"black\" stroke=\"black\" points=\"74.62,-329.76 65.45,-324.45 69.3,-334.32 74.62,-329.76\"/>\n",
       "</g>\n",
       "<!-- _ -->\n",
       "<g id=\"node10\" class=\"node\">\n",
       "<title>_</title>\n",
       "<polygon fill=\"lightskyblue\" stroke=\"lightskyblue\" points=\"249.5,-180 195.5,-180 195.5,-144 249.5,-144 249.5,-180\"/>\n",
       "<text text-anchor=\"middle\" x=\"222.5\" y=\"-158.3\" font-family=\"Times,serif\" font-size=\"14.00\">add</text>\n",
       "</g>\n",
       "<!-- c&#45;&gt;_ -->\n",
       "<g id=\"edge10\" class=\"edge\">\n",
       "<title>c&#45;&gt;_</title>\n",
       "<path fill=\"none\" stroke=\"black\" d=\"M357.71,-215.88C327.53,-204.07 287.86,-188.56 259.31,-177.4\"/>\n",
       "<polygon fill=\"black\" stroke=\"black\" points=\"260.3,-174.02 249.71,-173.64 257.75,-180.54 260.3,-174.02\"/>\n",
       "</g>\n",
       "<!-- e -->\n",
       "<g id=\"node6\" class=\"node\">\n",
       "<title>e</title>\n",
       "<polygon fill=\"lightskyblue\" stroke=\"lightskyblue\" points=\"606.5,-180 552.5,-180 552.5,-144 606.5,-144 606.5,-180\"/>\n",
       "<text text-anchor=\"middle\" x=\"579.5\" y=\"-158.3\" font-family=\"Times,serif\" font-size=\"14.00\">mul</text>\n",
       "</g>\n",
       "<!-- d&#45;&gt;e -->\n",
       "<g id=\"edge4\" class=\"edge\">\n",
       "<title>d&#45;&gt;e</title>\n",
       "<path fill=\"none\" stroke=\"black\" d=\"M535.08,-215.7C542.16,-207.3 550.78,-197.07 558.55,-187.86\"/>\n",
       "<polygon fill=\"black\" stroke=\"black\" points=\"561.31,-190.01 565.08,-180.1 555.96,-185.49 561.31,-190.01\"/>\n",
       "</g>\n",
       "<!-- 140354702186544 -->\n",
       "<g id=\"node5\" class=\"node\">\n",
       "<title>140354702186544</title>\n",
       "<ellipse fill=\"#ffc125\" stroke=\"#ffc125\" cx=\"638.5\" cy=\"-234\" rx=\"49.29\" ry=\"18\"/>\n",
       "<text text-anchor=\"middle\" x=\"638.5\" y=\"-230.3\" font-family=\"Times,serif\" font-size=\"14.00\">float32[]</text>\n",
       "</g>\n",
       "<!-- 140354702186544&#45;&gt;e -->\n",
       "<g id=\"edge3\" class=\"edge\">\n",
       "<title>140354702186544&#45;&gt;e</title>\n",
       "<path fill=\"none\" stroke=\"black\" d=\"M624.52,-216.41C617.45,-208.03 608.73,-197.68 600.85,-188.33\"/>\n",
       "<polygon fill=\"black\" stroke=\"black\" points=\"603.33,-185.84 594.21,-180.45 597.97,-190.35 603.33,-185.84\"/>\n",
       "</g>\n",
       "<!-- i -->\n",
       "<g id=\"node13\" class=\"node\">\n",
       "<title>i</title>\n",
       "<polygon fill=\"lightskyblue\" stroke=\"lightskyblue\" points=\"559.5,-108 505.5,-108 505.5,-72 559.5,-72 559.5,-108\"/>\n",
       "<text text-anchor=\"middle\" x=\"532.5\" y=\"-86.3\" font-family=\"Times,serif\" font-size=\"14.00\">mul</text>\n",
       "</g>\n",
       "<!-- e&#45;&gt;i -->\n",
       "<g id=\"edge13\" class=\"edge\">\n",
       "<title>e&#45;&gt;i</title>\n",
       "<path fill=\"none\" stroke=\"black\" d=\"M567.88,-143.7C562.36,-135.47 555.65,-125.48 549.57,-116.42\"/>\n",
       "<polygon fill=\"black\" stroke=\"black\" points=\"552.46,-114.46 543.98,-108.1 546.65,-118.36 552.46,-114.46\"/>\n",
       "</g>\n",
       "<!-- h -->\n",
       "<g id=\"node11\" class=\"node\">\n",
       "<title>h</title>\n",
       "<polygon fill=\"lightskyblue\" stroke=\"lightskyblue\" points=\"216.5,-252 104.5,-252 104.5,-216 216.5,-216 216.5,-252\"/>\n",
       "<text text-anchor=\"middle\" x=\"160.5\" y=\"-230.3\" font-family=\"Times,serif\" font-size=\"14.00\">stop_gradient</text>\n",
       "</g>\n",
       "<!-- f&#45;&gt;h -->\n",
       "<g id=\"edge9\" class=\"edge\">\n",
       "<title>f&#45;&gt;h</title>\n",
       "<path fill=\"none\" stroke=\"black\" d=\"M167.28,-287.7C166.28,-279.98 165.09,-270.71 163.99,-262.11\"/>\n",
       "<polygon fill=\"black\" stroke=\"black\" points=\"167.45,-261.58 162.7,-252.1 160.5,-262.47 167.45,-261.58\"/>\n",
       "</g>\n",
       "<!-- g&#45;&gt;_ -->\n",
       "<g id=\"edge8\" class=\"edge\">\n",
       "<title>g&#45;&gt;_</title>\n",
       "<path fill=\"none\" stroke=\"black\" d=\"M55.24,-287.7C61.47,-267.95 74.2,-235.81 95.5,-216 120.82,-192.46 158.1,-178.59 185.73,-170.99\"/>\n",
       "<polygon fill=\"black\" stroke=\"black\" points=\"186.63,-174.37 195.43,-168.47 184.87,-167.6 186.63,-174.37\"/>\n",
       "</g>\n",
       "<!-- 140354704029968 -->\n",
       "<g id=\"node9\" class=\"node\">\n",
       "<title>140354704029968</title>\n",
       "<ellipse fill=\"#ffc125\" stroke=\"#ffc125\" cx=\"283.5\" cy=\"-234\" rx=\"49.29\" ry=\"18\"/>\n",
       "<text text-anchor=\"middle\" x=\"283.5\" y=\"-230.3\" font-family=\"Times,serif\" font-size=\"14.00\">float32[]</text>\n",
       "</g>\n",
       "<!-- 140354704029968&#45;&gt;_ -->\n",
       "<g id=\"edge7\" class=\"edge\">\n",
       "<title>140354704029968&#45;&gt;_</title>\n",
       "<path fill=\"none\" stroke=\"black\" d=\"M269.04,-216.41C261.67,-207.95 252.54,-197.47 244.33,-188.05\"/>\n",
       "<polygon fill=\"black\" stroke=\"black\" points=\"246.91,-185.69 237.7,-180.45 241.63,-190.29 246.91,-185.69\"/>\n",
       "</g>\n",
       "<!-- h&#45;&gt;_ -->\n",
       "<g id=\"edge11\" class=\"edge\">\n",
       "<title>h&#45;&gt;_</title>\n",
       "<path fill=\"none\" stroke=\"black\" d=\"M175.83,-215.7C183.26,-207.3 192.32,-197.07 200.48,-187.86\"/>\n",
       "<polygon fill=\"black\" stroke=\"black\" points=\"203.34,-189.91 207.35,-180.1 198.1,-185.27 203.34,-189.91\"/>\n",
       "</g>\n",
       "<!-- 140354702187120 -->\n",
       "<g id=\"node12\" class=\"node\">\n",
       "<title>140354702187120</title>\n",
       "<ellipse fill=\"#ffc125\" stroke=\"#ffc125\" cx=\"485.5\" cy=\"-162\" rx=\"49.29\" ry=\"18\"/>\n",
       "<text text-anchor=\"middle\" x=\"485.5\" y=\"-158.3\" font-family=\"Times,serif\" font-size=\"14.00\">float32[]</text>\n",
       "</g>\n",
       "<!-- 140354702187120&#45;&gt;i -->\n",
       "<g id=\"edge12\" class=\"edge\">\n",
       "<title>140354702187120&#45;&gt;i</title>\n",
       "<path fill=\"none\" stroke=\"black\" d=\"M496.64,-144.41C502.15,-136.2 508.93,-126.1 515.11,-116.9\"/>\n",
       "<polygon fill=\"black\" stroke=\"black\" points=\"518.12,-118.7 520.79,-108.45 512.31,-114.8 518.12,-118.7\"/>\n",
       "</g>\n",
       "<!-- out_0 -->\n",
       "<g id=\"node14\" class=\"node\">\n",
       "<title>out_0</title>\n",
       "<ellipse fill=\"#ff6a6a\" stroke=\"black\" stroke-dasharray=\"5,2\" cx=\"532.5\" cy=\"-18\" rx=\"36\" ry=\"18\"/>\n",
       "<text text-anchor=\"middle\" x=\"532.5\" y=\"-14.3\" font-family=\"Times,serif\" font-size=\"14.00\">out_0</text>\n",
       "</g>\n",
       "<!-- i&#45;&gt;out_0 -->\n",
       "<g id=\"edge14\" class=\"edge\">\n",
       "<title>i&#45;&gt;out_0</title>\n",
       "<path fill=\"none\" stroke=\"black\" d=\"M532.5,-71.7C532.5,-63.98 532.5,-54.71 532.5,-46.11\"/>\n",
       "<polygon fill=\"black\" stroke=\"black\" points=\"536,-46.1 532.5,-36.1 529,-46.1 536,-46.1\"/>\n",
       "</g>\n",
       "<!-- out_1 -->\n",
       "<g id=\"node15\" class=\"node\">\n",
       "<title>out_1</title>\n",
       "<ellipse fill=\"#ff6a6a\" stroke=\"black\" stroke-dasharray=\"5,2\" cx=\"563.5\" cy=\"-306\" rx=\"36\" ry=\"18\"/>\n",
       "<text text-anchor=\"middle\" x=\"563.5\" y=\"-302.3\" font-family=\"Times,serif\" font-size=\"14.00\">out_1</text>\n",
       "</g>\n",
       "<!-- 0.0 -->\n",
       "<g id=\"node16\" class=\"node\">\n",
       "<title>0.0</title>\n",
       "<ellipse fill=\"none\" stroke=\"black\" cx=\"563.5\" cy=\"-378\" rx=\"27\" ry=\"18\"/>\n",
       "<text text-anchor=\"middle\" x=\"563.5\" y=\"-374.3\" font-family=\"Times,serif\" font-size=\"14.00\">0.0</text>\n",
       "</g>\n",
       "<!-- 0.0&#45;&gt;out_1 -->\n",
       "<g id=\"edge15\" class=\"edge\">\n",
       "<title>0.0&#45;&gt;out_1</title>\n",
       "<path fill=\"none\" stroke=\"black\" d=\"M563.5,-359.7C563.5,-351.98 563.5,-342.71 563.5,-334.11\"/>\n",
       "<polygon fill=\"black\" stroke=\"black\" points=\"567,-334.1 563.5,-324.1 560,-334.1 567,-334.1\"/>\n",
       "</g>\n",
       "</g>\n",
       "</svg>\n"
      ],
      "text/plain": [
       "<graphviz.graphs.Digraph at 0x7fa7441f2f50>"
      ]
     },
     "execution_count": 48,
     "metadata": {},
     "output_type": "execute_result"
    }
   ],
   "source": [
    "util.jaxpr_graph(df, 2.0, 3.0)"
   ]
  },
  {
   "cell_type": "markdown",
   "metadata": {},
   "source": [
    "## Higher order differentiation"
   ]
  },
  {
   "cell_type": "code",
   "execution_count": 49,
   "metadata": {},
   "outputs": [],
   "source": [
    "import sympy\n",
    "import numpy as np\n",
    "import matplotlib.pyplot as plt\n",
    "from jax import numpy as jnp"
   ]
  },
  {
   "cell_type": "code",
   "execution_count": 50,
   "metadata": {},
   "outputs": [],
   "source": [
    "def f(x):\n",
    "    return x**3 + 12 * x + 7 * x * jnp.sin(x)"
   ]
  },
  {
   "cell_type": "code",
   "execution_count": 55,
   "metadata": {},
   "outputs": [
    {
     "data": {
      "image/png": "[encoded data removed]",
      "text/plain": [
       "<Figure size 1000x1000 with 1 Axes>"
      ]
     },
     "metadata": {},
     "output_type": "display_data"
    }
   ],
   "source": [
    "x = np.linspace(-10, 10, num=500)\n",
    "\n",
    "fig, ax = plt.subplots(figsize=(10, 10))\n",
    "ax.plot(x, f(x), label=\"x**3 + 12*x + 7*x*sin(x)\")\n",
    "df = f\n",
    "for d in range(1, 4):\n",
    "    df = jax.grad(df)\n",
    "    ax.plot(x, jax.vmap(df)(x), label=f\"#{d} derivative\")\n",
    "    ax.legend()"
   ]
  },
  {
   "cell_type": "markdown",
   "metadata": {},
   "source": [
    "## Jacobian\n",
    "\n",
    "Vector valued function ie function produce vector output"
   ]
  },
  {
   "cell_type": "code",
   "execution_count": 60,
   "metadata": {},
   "outputs": [],
   "source": [
    "def f(x):\n",
    "    return [x[0] ** 2 + x[1] ** 2 + x[2] ** 3, x[0] * 2 + x[1] * 4]\n",
    "\n",
    "x = jnp.array([1.,2.,5.])"
   ]
  },
  {
   "cell_type": "code",
   "execution_count": 61,
   "metadata": {},
   "outputs": [
    {
     "data": {
      "text/plain": [
       "[Array([ 2.,  4., 75.], dtype=float32), Array([2., 4., 0.], dtype=float32)]"
      ]
     },
     "execution_count": 61,
     "metadata": {},
     "output_type": "execute_result"
    }
   ],
   "source": [
    "jax.jacfwd(f)(x)"
   ]
  },
  {
   "cell_type": "code",
   "execution_count": 62,
   "metadata": {},
   "outputs": [
    {
     "data": {
      "text/plain": [
       "[Array([ 2.,  4., 75.], dtype=float32), Array([2., 4., 0.], dtype=float32)]"
      ]
     },
     "execution_count": 62,
     "metadata": {},
     "output_type": "execute_result"
    }
   ],
   "source": [
    "jax.jacrev(f)(x)"
   ]
  },
  {
   "cell_type": "code",
   "execution_count": 63,
   "metadata": {},
   "outputs": [
    {
     "name": "stdout",
     "output_type": "stream",
     "text": [
      "4.66 ms ± 111 µs per loop (mean ± std. dev. of 7 runs, 100 loops each)\n"
     ]
    }
   ],
   "source": [
    "%timeit -n100 jax.jacfwd(f)(x)"
   ]
  },
  {
   "cell_type": "code",
   "execution_count": 64,
   "metadata": {},
   "outputs": [
    {
     "name": "stdout",
     "output_type": "stream",
     "text": [
      "6.86 ms ± 92.9 µs per loop (mean ± std. dev. of 7 runs, 100 loops each)\n"
     ]
    }
   ],
   "source": [
    "%timeit -n100 jax.jacrev(f)(x)"
   ]
  },
  {
   "cell_type": "code",
   "execution_count": null,
   "metadata": {},
   "outputs": [],
   "source": []
  }
 ],
 "metadata": {
  "kernelspec": {
   "display_name": "nlp",
   "language": "python",
   "name": "python3"
  },
  "language_info": {
   "codemirror_mode": {
    "name": "ipython",
    "version": 3
   },
   "file_extension": ".py",
   "mimetype": "text/x-python",
   "name": "python",
   "nbconvert_exporter": "python",
   "pygments_lexer": "ipython3",
   "version": "3.11.7"
  }
 },
 "nbformat": 4,
 "nbformat_minor": 2
}
