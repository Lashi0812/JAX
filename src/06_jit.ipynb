{
 "cells": [
  {
   "cell_type": "code",
   "execution_count": 1,
   "metadata": {},
   "outputs": [],
   "source": [
    "import jax\n",
    "import jax.numpy as jnp"
   ]
  },
  {
   "cell_type": "code",
   "execution_count": 2,
   "metadata": {},
   "outputs": [],
   "source": [
    "def selu(\n",
    "    x, alpha=1.6732632423543772848170429916717, scale=1.0507009873554804934193349852946\n",
    "):\n",
    "    \"\"\"Scaled exponential linear unit activation function.\"\"\"\n",
    "    return scale * jnp.where(x > 0, x, alpha * jnp.exp(x) - alpha)"
   ]
  },
  {
   "cell_type": "code",
   "execution_count": 3,
   "metadata": {},
   "outputs": [
    {
     "data": {
      "text/plain": [
       "(1000000,)"
      ]
     },
     "execution_count": 3,
     "metadata": {},
     "output_type": "execute_result"
    }
   ],
   "source": [
    "x = jax.random.normal(jax.random.PRNGKey(42), (1_000_000,))\n",
    "x.shape"
   ]
  },
  {
   "cell_type": "code",
   "execution_count": 4,
   "metadata": {},
   "outputs": [],
   "source": [
    "selu_jit = jax.jit(selu)"
   ]
  },
  {
   "cell_type": "code",
   "execution_count": 5,
   "metadata": {},
   "outputs": [
    {
     "name": "stdout",
     "output_type": "stream",
     "text": [
      "The slowest run took 19.28 times longer than the fastest. This could mean that an intermediate result is being cached.\n",
      "302 µs ± 523 µs per loop (mean ± std. dev. of 7 runs, 100 loops each)\n"
     ]
    }
   ],
   "source": [
    "%timeit -n100 selu(x).block_until_ready()"
   ]
  },
  {
   "cell_type": "code",
   "execution_count": 6,
   "metadata": {},
   "outputs": [
    {
     "name": "stdout",
     "output_type": "stream",
     "text": [
      "The slowest run took 27.88 times longer than the fastest. This could mean that an intermediate result is being cached.\n",
      "61.3 µs ± 119 µs per loop (mean ± std. dev. of 7 runs, 100 loops each)\n"
     ]
    }
   ],
   "source": [
    "%timeit -n100 selu_jit(x).block_until_ready()"
   ]
  },
  {
   "cell_type": "code",
   "execution_count": 7,
   "metadata": {},
   "outputs": [],
   "source": [
    "@jax.jit\n",
    "def selu(\n",
    "    x, alpha=1.6732632423543772848170429916717, scale=1.0507009873554804934193349852946\n",
    "):\n",
    "    \"\"\"Scaled exponential linear unit activation function.\"\"\"\n",
    "    return scale * jnp.where(x > 0, x, alpha * jnp.exp(x) - alpha)"
   ]
  },
  {
   "cell_type": "code",
   "execution_count": 8,
   "metadata": {},
   "outputs": [],
   "source": [
    "z = selu(x)  # warmup"
   ]
  },
  {
   "cell_type": "code",
   "execution_count": 9,
   "metadata": {},
   "outputs": [
    {
     "name": "stdout",
     "output_type": "stream",
     "text": [
      "13.4 µs ± 1.52 µs per loop (mean ± std. dev. of 7 runs, 100 loops each)\n"
     ]
    }
   ],
   "source": [
    "%timeit -n100 selu(x).block_until_ready()"
   ]
  },
  {
   "cell_type": "markdown",
   "metadata": {},
   "source": [
    "# Compiling to specific hardware"
   ]
  },
  {
   "cell_type": "code",
   "execution_count": 10,
   "metadata": {},
   "outputs": [],
   "source": [
    "def selu(\n",
    "    x, alpha=1.6732632423543772848170429916717, scale=1.0507009873554804934193349852946\n",
    "):\n",
    "    \"\"\"Scaled exponential linear unit activation function.\"\"\"\n",
    "    return scale * jnp.where(x > 0, x, alpha * jnp.exp(x) - alpha)"
   ]
  },
  {
   "cell_type": "code",
   "execution_count": 11,
   "metadata": {},
   "outputs": [],
   "source": [
    "selu_jit_cpu = jax.jit(selu, backend=\"cpu\")\n",
    "selu_jit_gpu = jax.jit(selu, backend=\"gpu\")"
   ]
  },
  {
   "cell_type": "code",
   "execution_count": 12,
   "metadata": {},
   "outputs": [
    {
     "name": "stdout",
     "output_type": "stream",
     "text": [
      "121 µs ± 19 µs per loop (mean ± std. dev. of 7 runs, 100 loops each)\n"
     ]
    }
   ],
   "source": [
    "%timeit -n100 selu(x).block_until_ready()"
   ]
  },
  {
   "cell_type": "code",
   "execution_count": 13,
   "metadata": {},
   "outputs": [
    {
     "name": "stdout",
     "output_type": "stream",
     "text": [
      "1.44 ms ± 151 µs per loop (mean ± std. dev. of 7 runs, 100 loops each)\n"
     ]
    }
   ],
   "source": [
    "%timeit -n100 selu_jit_cpu(x).block_until_ready()"
   ]
  },
  {
   "cell_type": "code",
   "execution_count": 14,
   "metadata": {},
   "outputs": [
    {
     "name": "stdout",
     "output_type": "stream",
     "text": [
      "The slowest run took 14.77 times longer than the fastest. This could mean that an intermediate result is being cached.\n",
      "47.1 µs ± 58.9 µs per loop (mean ± std. dev. of 7 runs, 100 loops each)\n"
     ]
    }
   ],
   "source": [
    "%timeit -n100 selu_jit_gpu(x).block_until_ready()"
   ]
  },
  {
   "cell_type": "code",
   "execution_count": 15,
   "metadata": {},
   "outputs": [],
   "source": [
    "x_cpu = jax.device_put(x, jax.devices(\"cpu\")[0])\n",
    "x_gpu = jax.device_put(x, jax.devices(\"gpu\")[0])"
   ]
  },
  {
   "cell_type": "code",
   "execution_count": 16,
   "metadata": {},
   "outputs": [
    {
     "name": "stdout",
     "output_type": "stream",
     "text": [
      "793 µs ± 187 µs per loop (mean ± std. dev. of 7 runs, 100 loops each)\n"
     ]
    }
   ],
   "source": [
    "%timeit -n100 selu(x_cpu).block_until_ready()"
   ]
  },
  {
   "cell_type": "code",
   "execution_count": 17,
   "metadata": {},
   "outputs": [
    {
     "name": "stdout",
     "output_type": "stream",
     "text": [
      "99.6 µs ± 21.6 µs per loop (mean ± std. dev. of 7 runs, 100 loops each)\n"
     ]
    }
   ],
   "source": [
    "%timeit -n100 selu(x_gpu).block_until_ready()"
   ]
  },
  {
   "cell_type": "code",
   "execution_count": 18,
   "metadata": {},
   "outputs": [
    {
     "name": "stdout",
     "output_type": "stream",
     "text": [
      "138 µs ± 80.6 µs per loop (mean ± std. dev. of 7 runs, 100 loops each)\n"
     ]
    }
   ],
   "source": [
    "%timeit -n100 selu_jit_cpu(x_cpu).block_until_ready()"
   ]
  },
  {
   "cell_type": "code",
   "execution_count": 19,
   "metadata": {},
   "outputs": [
    {
     "name": "stdout",
     "output_type": "stream",
     "text": [
      "1.47 ms ± 85.8 µs per loop (mean ± std. dev. of 7 runs, 100 loops each)\n"
     ]
    }
   ],
   "source": [
    "%timeit -n100 selu_jit_cpu(x_gpu).block_until_ready()"
   ]
  },
  {
   "cell_type": "code",
   "execution_count": 20,
   "metadata": {},
   "outputs": [
    {
     "name": "stdout",
     "output_type": "stream",
     "text": [
      "22.3 µs ± 10.6 µs per loop (mean ± std. dev. of 7 runs, 100 loops each)\n"
     ]
    }
   ],
   "source": [
    "%timeit -n100 selu_jit_gpu(x_gpu).block_until_ready()"
   ]
  },
  {
   "cell_type": "code",
   "execution_count": 21,
   "metadata": {},
   "outputs": [
    {
     "name": "stdout",
     "output_type": "stream",
     "text": [
      "858 µs ± 199 µs per loop (mean ± std. dev. of 7 runs, 100 loops each)\n"
     ]
    }
   ],
   "source": [
    "%timeit -n100 selu_jit_gpu(x_cpu).block_until_ready()"
   ]
  },
  {
   "cell_type": "markdown",
   "metadata": {},
   "source": [
    "## static arg\n",
    "\n",
    "1. Reuse of Compiled Code : fn call multiple time with same value then reuse the compiled code\n",
    "2. Recompilation Overhead : When the value of a static argument changes, JAX needs to recompile the function to generate optimized code specific to the new value.\n",
    "3. Optimized Code: The performance gains from running optimized machine code often significantly outweigh the recompilation overhead, especially for computationally intensive operations."
   ]
  },
  {
   "cell_type": "code",
   "execution_count": 22,
   "metadata": {},
   "outputs": [],
   "source": [
    "import jax\n",
    "import jax.numpy as np\n",
    "\n",
    "\n",
    "def f(x, y):\n",
    "    print(\"compile\")  # side effect\n",
    "    return x * y\n",
    "\n",
    "\n",
    "# JIT-compile the function with static_argnums\n",
    "jit_my_function = jax.jit(f, static_argnums=(1,))"
   ]
  },
  {
   "cell_type": "code",
   "execution_count": 23,
   "metadata": {},
   "outputs": [
    {
     "name": "stdout",
     "output_type": "stream",
     "text": [
      "compile\n"
     ]
    },
    {
     "data": {
      "text/plain": [
       "Array(5., dtype=float32, weak_type=True)"
      ]
     },
     "execution_count": 23,
     "metadata": {},
     "output_type": "execute_result"
    }
   ],
   "source": [
    "jit_my_function(1.0, 5.0)"
   ]
  },
  {
   "cell_type": "code",
   "execution_count": 24,
   "metadata": {},
   "outputs": [
    {
     "data": {
      "text/plain": [
       "Array(10., dtype=float32, weak_type=True)"
      ]
     },
     "execution_count": 24,
     "metadata": {},
     "output_type": "execute_result"
    }
   ],
   "source": [
    "jit_my_function(2.0, 5.0)"
   ]
  },
  {
   "cell_type": "code",
   "execution_count": 25,
   "metadata": {},
   "outputs": [
    {
     "name": "stdout",
     "output_type": "stream",
     "text": [
      "compile\n"
     ]
    },
    {
     "data": {
      "text/plain": [
       "Array(10., dtype=float32, weak_type=True)"
      ]
     },
     "execution_count": 25,
     "metadata": {},
     "output_type": "execute_result"
    }
   ],
   "source": [
    "jit_my_function(1.0, 10.0)"
   ]
  },
  {
   "cell_type": "code",
   "execution_count": 26,
   "metadata": {},
   "outputs": [
    {
     "data": {
      "text/plain": [
       "Array(10., dtype=float32, weak_type=True)"
      ]
     },
     "execution_count": 26,
     "metadata": {},
     "output_type": "execute_result"
    }
   ],
   "source": [
    "jit_my_function(1.0, 10.0)"
   ]
  },
  {
   "cell_type": "markdown",
   "metadata": {},
   "source": [
    "### passing the func as the argument"
   ]
  },
  {
   "cell_type": "code",
   "execution_count": 27,
   "metadata": {},
   "outputs": [
    {
     "data": {
      "text/plain": [
       "((3,), (3, 3), (3,))"
      ]
     },
     "execution_count": 27,
     "metadata": {},
     "output_type": "execute_result"
    }
   ],
   "source": [
    "def dense_layer(x, w, b, act_fn):\n",
    "    return act_fn(x * w + b)\n",
    "\n",
    "\n",
    "x = jnp.array([2.0, 4.0, 5.0])\n",
    "w = jnp.ones((3, 3))\n",
    "b = jnp.ones((3,))\n",
    "\n",
    "x.shape, w.shape, b.shape"
   ]
  },
  {
   "cell_type": "code",
   "execution_count": 28,
   "metadata": {},
   "outputs": [
    {
     "name": "stdout",
     "output_type": "stream",
     "text": [
      "Cannot interpret value of type <class 'function'> as an abstract array; it does not have a dtype attribute\n"
     ]
    }
   ],
   "source": [
    "dense_layer_jit = jax.jit(dense_layer)\n",
    "try:\n",
    "    dense_layer_jit(x, w, b, selu)  #! throw error since we are passing the fn\n",
    "except TypeError as e:\n",
    "    print(e)"
   ]
  },
  {
   "cell_type": "code",
   "execution_count": 29,
   "metadata": {},
   "outputs": [
    {
     "data": {
      "text/plain": [
       "Array([[3.152103, 5.253505, 6.304206],\n",
       "       [3.152103, 5.253505, 6.304206],\n",
       "       [3.152103, 5.253505, 6.304206]], dtype=float32)"
      ]
     },
     "execution_count": 29,
     "metadata": {},
     "output_type": "execute_result"
    }
   ],
   "source": [
    "dense_layer_jit = jax.jit(dense_layer, static_argnames=(\"act_fn\",))\n",
    "dense_layer_jit(x, w, b, selu_jit)"
   ]
  },
  {
   "cell_type": "markdown",
   "metadata": {},
   "source": [
    "# Jit Internals"
   ]
  },
  {
   "cell_type": "markdown",
   "metadata": {},
   "source": [
    "## Side Effect are not Logged\n",
    "\n",
    "* Side Effect happen during tracing .Once tracing is done and jaxpr is created .Then side effect are not logged in jaxpr\n",
    "* Global Variable are stored as const"
   ]
  },
  {
   "cell_type": "code",
   "execution_count": 30,
   "metadata": {},
   "outputs": [
    {
     "name": "stdout",
     "output_type": "stream",
     "text": [
      "side effect Traced<ShapedArray(float32[], weak_type=True)>with<DynamicJaxprTrace(level=1/0)>\n"
     ]
    },
    {
     "data": {
      "text/plain": [
       "{ lambda a:f32[1]; b:f32[]. let\n",
       "    c:f32[] = convert_element_type[new_dtype=float32 weak_type=False] b\n",
       "    d:f32[1] = mul c a\n",
       "  in (d,) }"
      ]
     },
     "execution_count": 30,
     "metadata": {},
     "output_type": "execute_result"
    }
   ],
   "source": [
    "import jax\n",
    "\n",
    "\n",
    "global_state = jnp.ones(1)\n",
    "\n",
    "\n",
    "def impure_func(x):\n",
    "    print(f\"side effect {x}\")\n",
    "    return x * global_state\n",
    "\n",
    "\n",
    "jaxpr = jax.make_jaxpr(impure_func)(1.0)\n",
    "jaxpr"
   ]
  },
  {
   "cell_type": "code",
   "execution_count": 31,
   "metadata": {},
   "outputs": [
    {
     "data": {
      "text/plain": [
       "[Array([1.], dtype=float32)]"
      ]
     },
     "execution_count": 31,
     "metadata": {},
     "output_type": "execute_result"
    }
   ],
   "source": [
    "jaxpr.consts"
   ]
  },
  {
   "cell_type": "code",
   "execution_count": 32,
   "metadata": {},
   "outputs": [
    {
     "name": "stdout",
     "output_type": "stream",
     "text": [
      "side effect Traced<ShapedArray(int32[], weak_type=True)>with<DynamicJaxprTrace(level=1/0)>\n"
     ]
    },
    {
     "data": {
      "text/plain": [
       "Array([10.], dtype=float32)"
      ]
     },
     "execution_count": 32,
     "metadata": {},
     "output_type": "execute_result"
    }
   ],
   "source": [
    "impure_func_jit = jax.jit(impure_func)\n",
    "impure_func_jit(10)\n",
    "# ? during the first run IR is created called jaxpr\n",
    "# ? side effect are not logged in jaxpr\n",
    "# ? so during second func behavior is diff from first run"
   ]
  },
  {
   "cell_type": "code",
   "execution_count": 33,
   "metadata": {},
   "outputs": [
    {
     "data": {
      "text/plain": [
       "Array([10.], dtype=float32)"
      ]
     },
     "execution_count": 33,
     "metadata": {},
     "output_type": "execute_result"
    }
   ],
   "source": [
    "impure_func_jit(10)\n",
    "# ? print is not logged"
   ]
  },
  {
   "cell_type": "code",
   "execution_count": 34,
   "metadata": {},
   "outputs": [
    {
     "data": {
      "text/plain": [
       "Array([10.], dtype=float32)"
      ]
     },
     "execution_count": 34,
     "metadata": {},
     "output_type": "execute_result"
    }
   ],
   "source": [
    "global_state = 2\n",
    "impure_func_jit(10)\n",
    "\n",
    "# ? even after the global state change it is not affect in the func"
   ]
  },
  {
   "cell_type": "code",
   "execution_count": 35,
   "metadata": {},
   "outputs": [
    {
     "name": "stdout",
     "output_type": "stream",
     "text": [
      "side effect 10\n"
     ]
    },
    {
     "data": {
      "text/plain": [
       "20"
      ]
     },
     "execution_count": 35,
     "metadata": {},
     "output_type": "execute_result"
    }
   ],
   "source": [
    "impure_func(10)"
   ]
  },
  {
   "cell_type": "markdown",
   "metadata": {},
   "source": [
    "## Jaxpr [JAX exPRession]\n",
    "\n",
    "```python\n",
    "jaxpr ::= { lambda Var* ; Var+.\n",
    "            let Eqn*\n",
    "            in [Expr+] \n",
    "            }\n",
    "```\n",
    "\n",
    "* Var*  --> Constant\n",
    "* Var+  --> Input\n",
    "* Eqn*  --> Intermediate Equation\n",
    "* Expr+ --> Output"
   ]
  },
  {
   "cell_type": "code",
   "execution_count": 36,
   "metadata": {},
   "outputs": [],
   "source": [
    "import jax.numpy as jnp\n",
    "\n",
    "\n",
    "def f(x, y):\n",
    "    const_array = jnp.array([1.0, 2.0])  # Automatically a constvar\n",
    "    z = x * y + const_array\n",
    "    return z"
   ]
  },
  {
   "cell_type": "code",
   "execution_count": 37,
   "metadata": {},
   "outputs": [
    {
     "data": {
      "text/plain": [
       "{ lambda a:f32[2]; b:f32[2] c:f32[2]. let\n",
       "    d:f32[2] = mul b c\n",
       "    e:f32[2] = add d a\n",
       "  in (e,) }"
      ]
     },
     "execution_count": 37,
     "metadata": {},
     "output_type": "execute_result"
    }
   ],
   "source": [
    "jaxpr = jax.make_jaxpr(f)(jnp.array([4.0, 5.0]), jnp.array([2.0, 3.0]))\n",
    "jaxpr"
   ]
  },
  {
   "cell_type": "markdown",
   "metadata": {},
   "source": [
    "### Constant Vars\n",
    "\n",
    "When some value not depend on the input argument , When these value appear as Eqn then these value are Constvars."
   ]
  },
  {
   "cell_type": "code",
   "execution_count": 38,
   "metadata": {},
   "outputs": [],
   "source": [
    "def f(x, y):\n",
    "    a = jnp.array([10.0])  # ? constvar\n",
    "    return x + y + a\n",
    "\n",
    "\n",
    "jaxpr = jax.make_jaxpr(f)(jnp.array([2.0]), jnp.array([3.0]))\n",
    "\n",
    "f_jit = jax.jit(f)\n",
    "jaxpr_jit = jax.make_jaxpr(f_jit)(jnp.array([2.0]), jnp.array([3.0]))\n",
    "\n",
    "f_jit_static = jax.jit(f, static_argnums=(0, 1))\n",
    "jaxpr_jit_static = jax.make_jaxpr(f_jit_static)(jnp.array([2.0]), jnp.array([3.0]))"
   ]
  },
  {
   "cell_type": "code",
   "execution_count": 39,
   "metadata": {},
   "outputs": [
    {
     "data": {
      "text/plain": [
       "{ lambda a:f32[1]; b:f32[1] c:f32[1]. let\n",
       "    d:f32[1] = add b c\n",
       "    e:f32[1] = add d a\n",
       "  in (e,) }"
      ]
     },
     "execution_count": 39,
     "metadata": {},
     "output_type": "execute_result"
    }
   ],
   "source": [
    "jaxpr"
   ]
  },
  {
   "cell_type": "code",
   "execution_count": 40,
   "metadata": {},
   "outputs": [
    {
     "data": {
      "text/plain": [
       "{ lambda ; a:f32[1] b:f32[1]. let\n",
       "    c:f32[1] = pjit[\n",
       "      name=f\n",
       "      jaxpr={ lambda d:f32[1]; e:f32[1] f:f32[1]. let\n",
       "          g:f32[1] = add e f\n",
       "          h:f32[1] = add g d\n",
       "        in (h,) }\n",
       "    ] a b\n",
       "  in (c,) }"
      ]
     },
     "execution_count": 40,
     "metadata": {},
     "output_type": "execute_result"
    }
   ],
   "source": [
    "jaxpr_jit"
   ]
  },
  {
   "cell_type": "code",
   "execution_count": 41,
   "metadata": {},
   "outputs": [
    {
     "data": {
      "text/plain": [
       "{ lambda a:f32[1]; b:f32[1] c:f32[1]. let\n",
       "    d:f32[1] = pjit[\n",
       "      name=f\n",
       "      jaxpr={ lambda ; e:f32[1] f:f32[1] g:f32[1]. let\n",
       "          h:f32[1] = add f g\n",
       "          i:f32[1] = add h e\n",
       "        in (i,) }\n",
       "    ] a b c\n",
       "  in (d,) }"
      ]
     },
     "execution_count": 41,
     "metadata": {},
     "output_type": "execute_result"
    }
   ],
   "source": [
    "jaxpr_jit_static"
   ]
  },
  {
   "cell_type": "code",
   "execution_count": 42,
   "metadata": {},
   "outputs": [
    {
     "data": {
      "text/plain": [
       "([array([10.], dtype=float32)], [], [array([10.], dtype=float32)])"
      ]
     },
     "execution_count": 42,
     "metadata": {},
     "output_type": "execute_result"
    }
   ],
   "source": [
    "jaxpr.consts, jaxpr_jit.consts, jaxpr_jit_static.consts"
   ]
  },
  {
   "cell_type": "code",
   "execution_count": 43,
   "metadata": {},
   "outputs": [
    {
     "data": {
      "text/plain": [
       "[array([10.], dtype=float32)]"
      ]
     },
     "execution_count": 43,
     "metadata": {},
     "output_type": "execute_result"
    }
   ],
   "source": [
    "jaxpr_jit.eqns[0].params[\"jaxpr\"].consts"
   ]
  },
  {
   "cell_type": "markdown",
   "metadata": {},
   "source": [
    "### Equation\n",
    "\n",
    "```python\n",
    "Eqn  ::= let Var+ = Primitive [ Param* ] Expr+\n",
    "\n",
    "Example: \n",
    "    a:f32[] = reduce_sum[axes=(0,)] b\n",
    "    c:f32[1] = integer_pow[y=2] b\n",
    "```"
   ]
  },
  {
   "cell_type": "code",
   "execution_count": 44,
   "metadata": {},
   "outputs": [
    {
     "data": {
      "text/plain": [
       "{ lambda ; a:f32[1]. let\n",
       "    b:f32[1] = add a a\n",
       "    c:f32[1] = integer_pow[y=2] b\n",
       "  in (c,) }"
      ]
     },
     "execution_count": 44,
     "metadata": {},
     "output_type": "execute_result"
    }
   ],
   "source": [
    "def f(x):\n",
    "    y = x + x\n",
    "    return jnp.power(y, 2)\n",
    "\n",
    "\n",
    "jaxpr = jax.make_jaxpr(f)(jnp.array([1.0]))\n",
    "jaxpr"
   ]
  },
  {
   "cell_type": "code",
   "execution_count": 45,
   "metadata": {},
   "outputs": [
    {
     "data": {
      "text/plain": [
       "[a:f32[1] = add b b, a:f32[1] = integer_pow[y=2] b]"
      ]
     },
     "execution_count": 45,
     "metadata": {},
     "output_type": "execute_result"
    }
   ],
   "source": [
    "jaxpr.eqns"
   ]
  },
  {
   "cell_type": "code",
   "execution_count": 46,
   "metadata": {},
   "outputs": [
    {
     "data": {
      "text/plain": [
       "a:f32[1] = integer_pow[y=2] b"
      ]
     },
     "execution_count": 46,
     "metadata": {},
     "output_type": "execute_result"
    }
   ],
   "source": [
    "jaxpr.eqns[1]"
   ]
  },
  {
   "cell_type": "markdown",
   "metadata": {},
   "source": [
    "## Tracing\n",
    "\n",
    "* Python Program  --> Jaxpr static typed Expression us done by process called Tracing.\n",
    "* During Tracing the argument are wrapped by Tracer object. By default `SharedArray` is tracer Object\n",
    "* It record all the operation during the function call.\n",
    "* The output of the tracing is jaxpr"
   ]
  },
  {
   "cell_type": "markdown",
   "metadata": {},
   "source": [
    "## Wrapped by tracer object"
   ]
  },
  {
   "cell_type": "code",
   "execution_count": 47,
   "metadata": {},
   "outputs": [
    {
     "name": "stdout",
     "output_type": "stream",
     "text": [
      "This is wrapped by tracer object Traced<ShapedArray(int32[], weak_type=True)>with<DynamicJaxprTrace(level=1/0)>\n"
     ]
    }
   ],
   "source": [
    "def f(x):\n",
    "    print(f\"This is wrapped by tracer object {x}\")\n",
    "    return x\n",
    "\n",
    "\n",
    "jaxpr = jax.make_jaxpr(f)(1)"
   ]
  },
  {
   "cell_type": "code",
   "execution_count": 48,
   "metadata": {},
   "outputs": [
    {
     "data": {
      "text/plain": [
       "{ lambda ; a:i32[]. let  in (a,) }"
      ]
     },
     "execution_count": 48,
     "metadata": {},
     "output_type": "execute_result"
    }
   ],
   "source": [
    "jaxpr"
   ]
  },
  {
   "cell_type": "code",
   "execution_count": 49,
   "metadata": {},
   "outputs": [
    {
     "name": "stdout",
     "output_type": "stream",
     "text": [
      "x=Traced<ShapedArray(float32[3])>with<DynamicJaxprTrace(level=1/0)>, y=Traced<ShapedArray(float32[3,3])>with<DynamicJaxprTrace(level=1/0)>, z=[2. 1. 0.]\n"
     ]
    },
    {
     "data": {
      "text/plain": [
       "{ lambda a:f32[3]; b:f32[3] c:f32[3,3]. let\n",
       "    d:f32[1,3] = broadcast_in_dim[broadcast_dimensions=(1,) shape=(1, 3)] a\n",
       "    e:f32[3,3] = mul c d\n",
       "    f:f32[1,3] = broadcast_in_dim[broadcast_dimensions=(1,) shape=(1, 3)] b\n",
       "    g:f32[3,3] = add f e\n",
       "    h:f32[] = reduce_sum[axes=(0, 1)] g\n",
       "  in (h,) }"
      ]
     },
     "execution_count": 49,
     "metadata": {},
     "output_type": "execute_result"
    }
   ],
   "source": [
    "x = jnp.array([1.0, 1.0, 1.0])\n",
    "y = jnp.ones((3, 3)) * 2.0\n",
    "z = jnp.array([2.0, 1.0, 0.0]).T\n",
    "\n",
    "\n",
    "def f(x, y):\n",
    "    print(f\"x={x}, y={y}, z={z}\")\n",
    "    return jnp.sum(x + y * z)\n",
    "\n",
    "\n",
    "jaxpr = jax.make_jaxpr(f)(x, y)\n",
    "jaxpr"
   ]
  },
  {
   "cell_type": "code",
   "execution_count": 50,
   "metadata": {},
   "outputs": [
    {
     "data": {
      "text/plain": [
       "[Array([2., 1., 0.], dtype=float32)]"
      ]
     },
     "execution_count": 50,
     "metadata": {},
     "output_type": "execute_result"
    }
   ],
   "source": [
    "jaxpr.consts"
   ]
  },
  {
   "cell_type": "markdown",
   "metadata": {},
   "source": [
    "### Control flow in tracing\n",
    "\n",
    "* Input should used to control the flow the program execution.\n",
    "* but it use the `Input shape` to control the flow"
   ]
  },
  {
   "cell_type": "code",
   "execution_count": 62,
   "metadata": {},
   "outputs": [
    {
     "name": "stdout",
     "output_type": "stream",
     "text": [
      "The __index__() method was called on traced array with shape int32[].\n",
      "The error occurred while tracing the function f at /tmp/ipykernel_25766/2111049755.py:1 for make_jaxpr. This concrete value was not available in Python because it depends on the value of the argument x.\n",
      "See https://jax.readthedocs.io/en/latest/errors.html#jax.errors.TracerIntegerConversionError\n"
     ]
    }
   ],
   "source": [
    "def f(x: int):\n",
    "    y = 0\n",
    "    for i in range(x):  #! Throws Error since we are using input to control the flow\n",
    "        y += i\n",
    "    return i\n",
    "\n",
    "\n",
    "try:\n",
    "    jax.make_jaxpr(f)(5)\n",
    "except jax.errors.TracerIntegerConversionError as e:\n",
    "    print(e)"
   ]
  },
  {
   "cell_type": "code",
   "execution_count": 63,
   "metadata": {},
   "outputs": [
    {
     "data": {
      "text/plain": [
       "{ lambda ; a:i32[5]. let\n",
       "    b:i32[1] = slice[limit_indices=(1,) start_indices=(0,) strides=(1,)] a\n",
       "    c:i32[] = squeeze[dimensions=(0,)] b\n",
       "    d:i32[] = add 0 c\n",
       "    e:i32[1] = slice[limit_indices=(2,) start_indices=(1,) strides=(1,)] a\n",
       "    f:i32[] = squeeze[dimensions=(0,)] e\n",
       "    g:i32[] = add d f\n",
       "    h:i32[1] = slice[limit_indices=(3,) start_indices=(2,) strides=(1,)] a\n",
       "    i:i32[] = squeeze[dimensions=(0,)] h\n",
       "    j:i32[] = add g i\n",
       "    k:i32[1] = slice[limit_indices=(4,) start_indices=(3,) strides=(1,)] a\n",
       "    l:i32[] = squeeze[dimensions=(0,)] k\n",
       "    m:i32[] = add j l\n",
       "    n:i32[1] = slice[limit_indices=(5,) start_indices=(4,) strides=(1,)] a\n",
       "    o:i32[] = squeeze[dimensions=(0,)] n\n",
       "    _:i32[] = add m o\n",
       "  in (o,) }"
      ]
     },
     "execution_count": 63,
     "metadata": {},
     "output_type": "execute_result"
    }
   ],
   "source": [
    "def f(x: jax.Array):\n",
    "    y = 0\n",
    "    for i in x:  #* it fine since using the input shape to control the flow\n",
    "        y += i\n",
    "    return i\n",
    "\n",
    "jax.make_jaxpr(f)(jnp.arange(5))\n",
    "# try:\n",
    "    \n",
    "# except jax.errors.TracerIntegerConversionError as e:\n",
    "#     print(e)"
   ]
  },
  {
   "cell_type": "code",
   "execution_count": 65,
   "metadata": {},
   "outputs": [
    {
     "name": "stdout",
     "output_type": "stream",
     "text": [
      "Attempted boolean conversion of traced array with shape bool[]..\n",
      "The error occurred while tracing the function relu at /tmp/ipykernel_25766/1624187287.py:1 for make_jaxpr. This concrete value was not available in Python because it depends on the value of the argument x.\n",
      "See https://jax.readthedocs.io/en/latest/errors.html#jax.errors.TracerBoolConversionError\n"
     ]
    }
   ],
   "source": [
    "def relu(x):\n",
    "    if x>0:\n",
    "        return x\n",
    "    return 0.0\n",
    "\n",
    "try:\n",
    "    jaxpr = jax.make_jaxpr(relu)(10.)\n",
    "except jax.errors.TracerBoolConversionError as e:\n",
    "    print(e)"
   ]
  },
  {
   "cell_type": "markdown",
   "metadata": {},
   "source": [
    "### Use static arg to use the input in control statement\n",
    "\n",
    "Here is the tradeoff. Your function is now being compiled on any call with a new input parameter value"
   ]
  },
  {
   "cell_type": "code",
   "execution_count": 69,
   "metadata": {},
   "outputs": [
    {
     "data": {
      "text/plain": [
       "{ lambda ; . let  in (10.0,) }"
      ]
     },
     "execution_count": 69,
     "metadata": {},
     "output_type": "execute_result"
    }
   ],
   "source": [
    "jaxpr = jax.make_jaxpr(relu,static_argnums=0)(10.)\n",
    "jaxpr"
   ]
  },
  {
   "cell_type": "code",
   "execution_count": 70,
   "metadata": {},
   "outputs": [
    {
     "data": {
      "text/plain": [
       "{ lambda ; . let  in (0.0,) }"
      ]
     },
     "execution_count": 70,
     "metadata": {},
     "output_type": "execute_result"
    }
   ],
   "source": [
    "jax.make_jaxpr(relu,static_argnums=0)(-0.)"
   ]
  },
  {
   "cell_type": "code",
   "execution_count": 71,
   "metadata": {},
   "outputs": [
    {
     "data": {
      "text/plain": [
       "{ lambda ; . let  in (1000.0,) }"
      ]
     },
     "execution_count": 71,
     "metadata": {},
     "output_type": "execute_result"
    }
   ],
   "source": [
    "jax.make_jaxpr(relu,static_argnums=0)(1000.)"
   ]
  },
  {
   "cell_type": "markdown",
   "metadata": {},
   "source": [
    "### use lax control flow operator to control the execution"
   ]
  },
  {
   "cell_type": "code",
   "execution_count": 75,
   "metadata": {},
   "outputs": [
    {
     "data": {
      "text/plain": [
       "{ lambda ; a:i32[]. let\n",
       "    b:bool[] = gt a 0\n",
       "    c:i32[] = convert_element_type[new_dtype=int32 weak_type=False] b\n",
       "    d:i32[] = cond[\n",
       "      branches=(\n",
       "        { lambda ; e:i32[]. let  in (0,) }\n",
       "        { lambda ; f:i32[]. let  in (f,) }\n",
       "      )\n",
       "      linear=(False,)\n",
       "    ] c a\n",
       "  in (d,) }"
      ]
     },
     "execution_count": 75,
     "metadata": {},
     "output_type": "execute_result"
    }
   ],
   "source": [
    "def relu(x):\n",
    "    return jax.lax.cond(x > 0, lambda x: x, lambda x: 0, x)\n",
    "\n",
    "jaxpr = jax.make_jaxpr(relu)(1)\n",
    "jaxpr"
   ]
  },
  {
   "cell_type": "code",
   "execution_count": 77,
   "metadata": {},
   "outputs": [
    {
     "data": {
      "text/plain": [
       "{ lambda ; a:i32[]. let\n",
       "    b:bool[] = gt a 0\n",
       "    c:i32[] = convert_element_type[new_dtype=int32 weak_type=False] b\n",
       "    d:i32[] = cond[\n",
       "      branches=(\n",
       "        { lambda ; e:i32[]. let  in (0,) }\n",
       "        { lambda ; f:i32[]. let  in (f,) }\n",
       "      )\n",
       "      linear=(False,)\n",
       "    ] c a\n",
       "  in (d,) }"
      ]
     },
     "execution_count": 77,
     "metadata": {},
     "output_type": "execute_result"
    }
   ],
   "source": [
    "jax.make_jaxpr(relu)(11)"
   ]
  },
  {
   "cell_type": "code",
   "execution_count": 85,
   "metadata": {},
   "outputs": [
    {
     "data": {
      "text/plain": [
       "{ lambda ; . let  in (10,) }"
      ]
     },
     "execution_count": 85,
     "metadata": {},
     "output_type": "execute_result"
    }
   ],
   "source": [
    "def f(x):\n",
    "    y = 0\n",
    "    for i in range(x):\n",
    "        y += i\n",
    "    return y\n",
    "\n",
    "jaxpr_static = jax.make_jaxpr(f,static_argnums=0)(5)\n",
    "jaxpr_static"
   ]
  },
  {
   "cell_type": "code",
   "execution_count": 86,
   "metadata": {},
   "outputs": [
    {
     "data": {
      "text/plain": [
       "Array(10, dtype=int32, weak_type=True)"
      ]
     },
     "execution_count": 86,
     "metadata": {},
     "output_type": "execute_result"
    }
   ],
   "source": [
    "jax.jit(f,static_argnums=0)(5)"
   ]
  },
  {
   "cell_type": "markdown",
   "metadata": {},
   "source": [
    "```python\n",
    "def fori_loop(lower, upper, body_fun, init_val):\n",
    "  val = init_val\n",
    "  for i in range(lower, upper):\n",
    "    val = body_fun(i, val)\n",
    "  return val\n",
    "```"
   ]
  },
  {
   "cell_type": "code",
   "execution_count": 87,
   "metadata": {},
   "outputs": [
    {
     "data": {
      "text/plain": [
       "{ lambda ; a:i32[]. let\n",
       "    _:i32[] _:i32[] b:i32[] = while[\n",
       "      body_jaxpr={ lambda ; c:i32[] d:i32[] e:i32[]. let\n",
       "          f:i32[] = add c 1\n",
       "          g:i32[] = add c e\n",
       "        in (f, d, g) }\n",
       "      body_nconsts=0\n",
       "      cond_jaxpr={ lambda ; h:i32[] i:i32[] j:i32[]. let\n",
       "          k:bool[] = lt h i\n",
       "        in (k,) }\n",
       "      cond_nconsts=0\n",
       "    ] 0 a 0\n",
       "  in (b,) }"
      ]
     },
     "execution_count": 87,
     "metadata": {},
     "output_type": "execute_result"
    }
   ],
   "source": [
    "def f(x):\n",
    "    return jax.lax.fori_loop(0,x,jnp.add,0)\n",
    "    \n",
    "jaxpr_lax =jax.make_jaxpr(f)(5)\n",
    "jaxpr_lax"
   ]
  },
  {
   "cell_type": "code",
   "execution_count": 88,
   "metadata": {},
   "outputs": [
    {
     "data": {
      "text/plain": [
       "Array(10, dtype=int32, weak_type=True)"
      ]
     },
     "execution_count": 88,
     "metadata": {},
     "output_type": "execute_result"
    }
   ],
   "source": [
    "jax.jit(f)(5)"
   ]
  },
  {
   "cell_type": "code",
   "execution_count": null,
   "metadata": {},
   "outputs": [],
   "source": []
  }
 ],
 "metadata": {
  "kernelspec": {
   "display_name": "nlp",
   "language": "python",
   "name": "python3"
  },
  "language_info": {
   "codemirror_mode": {
    "name": "ipython",
    "version": 3
   },
   "file_extension": ".py",
   "mimetype": "text/x-python",
   "name": "python",
   "nbconvert_exporter": "python",
   "pygments_lexer": "ipython3",
   "version": "3.11.7"
  }
 },
 "nbformat": 4,
 "nbformat_minor": 2
}
