{
 "cells": [
  {
   "cell_type": "markdown",
   "metadata": {},
   "source": [
    "# Control Flow Operator"
   ]
  },
  {
   "cell_type": "markdown",
   "metadata": {},
   "source": [
    "## Switch\n",
    "\n",
    "```python\n",
    "def switch(index, branches, *operands):\n",
    "  index = clamp(0, index, len(branches) - 1)\n",
    "  return branches[index](*operands)\n",
    "```"
   ]
  },
  {
   "cell_type": "code",
   "execution_count": 1,
   "metadata": {},
   "outputs": [],
   "source": [
    "from jax import random\n",
    "from jax.lax import switch\n",
    "from jax import numpy as jnp"
   ]
  },
  {
   "cell_type": "code",
   "execution_count": 2,
   "metadata": {},
   "outputs": [
    {
     "data": {
      "text/plain": [
       "Array(2, dtype=int32)"
      ]
     },
     "execution_count": 2,
     "metadata": {},
     "output_type": "execute_result"
    }
   ],
   "source": [
    "random.randint(random.PRNGKey(0), shape=(), minval=0, maxval=10)"
   ]
  },
  {
   "cell_type": "code",
   "execution_count": 3,
   "metadata": {},
   "outputs": [],
   "source": [
    "rand_fn = [lambda x: x + 10, lambda x: x * 10, lambda x: x - 10, lambda x: x / 10]\n",
    "\n",
    "\n",
    "def apply_rand_fn(arg: float, rand_fn, key):\n",
    "    index = random.randint(key, shape=(), minval=0, maxval=len(rand_fn))\n",
    "    result = switch(index, rand_fn, arg)\n",
    "    return result"
   ]
  },
  {
   "cell_type": "code",
   "execution_count": 4,
   "metadata": {},
   "outputs": [
    {
     "data": {
      "text/plain": [
       "Array(-5., dtype=float32, weak_type=True)"
      ]
     },
     "execution_count": 4,
     "metadata": {},
     "output_type": "execute_result"
    }
   ],
   "source": [
    "apply_rand_fn(5.0, rand_fn, random.PRNGKey(0))"
   ]
  },
  {
   "cell_type": "code",
   "execution_count": null,
   "metadata": {},
   "outputs": [],
   "source": [
    "apply_rand_fn(5.0, rand_fn, random.PRNGKey(345))"
   ]
  },
  {
   "cell_type": "code",
   "execution_count": 6,
   "metadata": {},
   "outputs": [
    {
     "data": {
      "text/plain": [
       "Array([-5., -8.], dtype=float32)"
      ]
     },
     "execution_count": 6,
     "metadata": {},
     "output_type": "execute_result"
    }
   ],
   "source": [
    "apply_rand_fn(jnp.array([5.0, 2.0]), rand_fn, random.PRNGKey(433))"
   ]
  },
  {
   "cell_type": "markdown",
   "metadata": {},
   "source": [
    "## Cond\n",
    "\n",
    "```python\n",
    "def cond(pred, true_fun, false_fun, *operands):\n",
    "  if pred:\n",
    "    return true_fun(*operands)\n",
    "  else:\n",
    "    return false_fun(*operands)\n",
    "```"
   ]
  },
  {
   "cell_type": "code",
   "execution_count": 1,
   "metadata": {},
   "outputs": [
    {
     "data": {
      "text/plain": [
       "{ lambda ; a:i32[]. let\n",
       "    b:bool[] = gt a 0\n",
       "    c:i32[] = convert_element_type[new_dtype=int32 weak_type=False] b\n",
       "    d:i32[] = cond[\n",
       "      branches=(\n",
       "        { lambda ; e:i32[]. let  in (0,) }\n",
       "        { lambda ; f:i32[]. let  in (f,) }\n",
       "      )\n",
       "      linear=(False,)\n",
       "    ] c a\n",
       "  in (d,) }"
      ]
     },
     "execution_count": 1,
     "metadata": {},
     "output_type": "execute_result"
    }
   ],
   "source": [
    "import jax\n",
    "\n",
    "\n",
    "def relu(x):\n",
    "    return jax.lax.cond(x > 0, lambda x: x, lambda x: 0, x)\n",
    "\n",
    "\n",
    "jaxpr = jax.make_jaxpr(relu)(10)\n",
    "jaxpr"
   ]
  },
  {
   "cell_type": "code",
   "execution_count": 2,
   "metadata": {},
   "outputs": [
    {
     "data": {
      "text/plain": [
       "Array(10, dtype=int32, weak_type=True)"
      ]
     },
     "execution_count": 2,
     "metadata": {},
     "output_type": "execute_result"
    }
   ],
   "source": [
    "jax.jit(relu)(10)"
   ]
  },
  {
   "cell_type": "code",
   "execution_count": 3,
   "metadata": {},
   "outputs": [
    {
     "data": {
      "text/plain": [
       "Array(0, dtype=int32, weak_type=True)"
      ]
     },
     "execution_count": 3,
     "metadata": {},
     "output_type": "execute_result"
    }
   ],
   "source": [
    "jax.jit(relu)(-10)"
   ]
  },
  {
   "cell_type": "code",
   "execution_count": 4,
   "metadata": {},
   "outputs": [
    {
     "data": {
      "text/plain": [
       "Array(0, dtype=int32, weak_type=True)"
      ]
     },
     "execution_count": 4,
     "metadata": {},
     "output_type": "execute_result"
    }
   ],
   "source": [
    "jax.jit(relu)(0)"
   ]
  },
  {
   "cell_type": "markdown",
   "metadata": {},
   "source": [
    "## For loop\n",
    "\n",
    "```python\n",
    "def fori_loop(lower, upper, body_fun, init_val):\n",
    "  val = init_val\n",
    "  for i in range(lower, upper):\n",
    "    val = body_fun(i, val)\n",
    "  return val\n",
    "```"
   ]
  },
  {
   "cell_type": "code",
   "execution_count": 6,
   "metadata": {},
   "outputs": [
    {
     "data": {
      "text/plain": [
       "{ lambda ; a:i32[]. let\n",
       "    _:i32[] _:i32[] b:i32[] = while[\n",
       "      body_jaxpr={ lambda ; c:i32[] d:i32[] e:i32[]. let\n",
       "          f:i32[] = add c 1\n",
       "          g:i32[] = add c e\n",
       "        in (f, d, g) }\n",
       "      body_nconsts=0\n",
       "      cond_jaxpr={ lambda ; h:i32[] i:i32[] j:i32[]. let\n",
       "          k:bool[] = lt h i\n",
       "        in (k,) }\n",
       "      cond_nconsts=0\n",
       "    ] 0 a 0\n",
       "  in (b,) }"
      ]
     },
     "execution_count": 6,
     "metadata": {},
     "output_type": "execute_result"
    }
   ],
   "source": [
    "def f(x):\n",
    "    return jax.lax.fori_loop(0, x, lambda i, val: i + val, 0)\n",
    "\n",
    "jaxpr_lax = jax.make_jaxpr(f)(5)\n",
    "jaxpr_lax"
   ]
  },
  {
   "cell_type": "code",
   "execution_count": 7,
   "metadata": {},
   "outputs": [
    {
     "data": {
      "text/plain": [
       "Array(10, dtype=int32, weak_type=True)"
      ]
     },
     "execution_count": 7,
     "metadata": {},
     "output_type": "execute_result"
    }
   ],
   "source": [
    "jax.jit(f)(5)"
   ]
  },
  {
   "cell_type": "markdown",
   "metadata": {},
   "source": [
    "# Custom gradient operators"
   ]
  },
  {
   "cell_type": "markdown",
   "metadata": {},
   "source": [
    "## Stop Gradient\n",
    "\n",
    "It allows forward movement but prevents backward flow."
   ]
  },
  {
   "cell_type": "code",
   "execution_count": 7,
   "metadata": {},
   "outputs": [
    {
     "data": {
      "text/plain": [
       "(13.0,\n",
       " (Array(4., dtype=float32, weak_type=True),\n",
       "  Array(6., dtype=float32, weak_type=True)))"
      ]
     },
     "execution_count": 7,
     "metadata": {},
     "output_type": "execute_result"
    }
   ],
   "source": [
    "from jax import grad, make_jaxpr\n",
    "import util\n",
    "\n",
    "\n",
    "def f(x, y):\n",
    "    return x**2 + y**2\n",
    "\n",
    "\n",
    "df = grad(f, argnums=(0, 1), has_aux=False)\n",
    "\n",
    "f(2.0, 3.0), df(2.0, 3.0)"
   ]
  },
  {
   "cell_type": "code",
   "execution_count": 8,
   "metadata": {},
   "outputs": [
    {
     "data": {
      "text/plain": [
       "{ lambda ; a:f32[] b:f32[]. let\n",
       "    c:f32[] = integer_pow[y=2] a\n",
       "    d:f32[] = integer_pow[y=1] a\n",
       "    e:f32[] = mul 2.0 d\n",
       "    f:f32[] = integer_pow[y=2] b\n",
       "    g:f32[] = integer_pow[y=1] b\n",
       "    h:f32[] = mul 2.0 g\n",
       "    _:f32[] = add c f\n",
       "    i:f32[] = mul 1.0 h\n",
       "    j:f32[] = mul 1.0 e\n",
       "  in (j, i) }"
      ]
     },
     "execution_count": 8,
     "metadata": {},
     "output_type": "execute_result"
    }
   ],
   "source": [
    "make_jaxpr(df)(2.0, 3.0)"
   ]
  },
  {
   "cell_type": "code",
   "execution_count": 9,
   "metadata": {},
   "outputs": [
    {
     "data": {
      "image/svg+xml": [
       "<?xml version=\"1.0\" encoding=\"UTF-8\" standalone=\"no\"?>\n",
       "<!DOCTYPE svg PUBLIC \"-//W3C//DTD SVG 1.1//EN\"\n",
       " \"http://www.w3.org/Graphics/SVG/1.1/DTD/svg11.dtd\">\n",
       "<!-- Generated by graphviz version 2.50.0 (0)\n",
       " -->\n",
       "<!-- Pages: 1 -->\n",
       "<svg width=\"432pt\" height=\"205pt\"\n",
       " viewBox=\"0.00 0.00 432.00 204.89\" xmlns=\"http://www.w3.org/2000/svg\" xmlns:xlink=\"http://www.w3.org/1999/xlink\">\n",
       "<g id=\"graph0\" class=\"graph\" transform=\"scale(0.62 0.62) rotate(0) translate(4 328)\">\n",
       "<polygon fill=\"white\" stroke=\"transparent\" points=\"-4,4 -4,-328 696,-328 696,4 -4,4\"/>\n",
       "<!-- a -->\n",
       "<g id=\"node1\" class=\"node\">\n",
       "<title>a</title>\n",
       "<ellipse fill=\"mediumspringgreen\" stroke=\"mediumspringgreen\" cx=\"110.5\" cy=\"-306\" rx=\"49.29\" ry=\"18\"/>\n",
       "<text text-anchor=\"middle\" x=\"110.5\" y=\"-302.3\" font-family=\"Times,serif\" font-size=\"14.00\">float32[]</text>\n",
       "</g>\n",
       "<!-- c -->\n",
       "<g id=\"node3\" class=\"node\">\n",
       "<title>c</title>\n",
       "<polygon fill=\"lightskyblue\" stroke=\"lightskyblue\" points=\"101,-252 0,-252 0,-216 101,-216 101,-252\"/>\n",
       "<text text-anchor=\"middle\" x=\"50.5\" y=\"-230.3\" font-family=\"Times,serif\" font-size=\"14.00\">integer_pow</text>\n",
       "</g>\n",
       "<!-- a&#45;&gt;c -->\n",
       "<g id=\"edge1\" class=\"edge\">\n",
       "<title>a&#45;&gt;c</title>\n",
       "<path fill=\"none\" stroke=\"black\" d=\"M96.28,-288.41C89.03,-279.95 80.05,-269.47 71.97,-260.05\"/>\n",
       "<polygon fill=\"black\" stroke=\"black\" points=\"74.62,-257.76 65.45,-252.45 69.3,-262.32 74.62,-257.76\"/>\n",
       "</g>\n",
       "<!-- d -->\n",
       "<g id=\"node4\" class=\"node\">\n",
       "<title>d</title>\n",
       "<polygon fill=\"lightskyblue\" stroke=\"lightskyblue\" points=\"220,-252 119,-252 119,-216 220,-216 220,-252\"/>\n",
       "<text text-anchor=\"middle\" x=\"169.5\" y=\"-230.3\" font-family=\"Times,serif\" font-size=\"14.00\">integer_pow</text>\n",
       "</g>\n",
       "<!-- a&#45;&gt;d -->\n",
       "<g id=\"edge2\" class=\"edge\">\n",
       "<title>a&#45;&gt;d</title>\n",
       "<path fill=\"none\" stroke=\"black\" d=\"M124.48,-288.41C131.55,-280.03 140.27,-269.68 148.15,-260.33\"/>\n",
       "<polygon fill=\"black\" stroke=\"black\" points=\"151.03,-262.35 154.79,-252.45 145.67,-257.84 151.03,-262.35\"/>\n",
       "</g>\n",
       "<!-- b -->\n",
       "<g id=\"node2\" class=\"node\">\n",
       "<title>b</title>\n",
       "<ellipse fill=\"mediumspringgreen\" stroke=\"mediumspringgreen\" cx=\"464.5\" cy=\"-306\" rx=\"49.29\" ry=\"18\"/>\n",
       "<text text-anchor=\"middle\" x=\"464.5\" y=\"-302.3\" font-family=\"Times,serif\" font-size=\"14.00\">float32[]</text>\n",
       "</g>\n",
       "<!-- f -->\n",
       "<g id=\"node7\" class=\"node\">\n",
       "<title>f</title>\n",
       "<polygon fill=\"lightskyblue\" stroke=\"lightskyblue\" points=\"339,-252 238,-252 238,-216 339,-216 339,-252\"/>\n",
       "<text text-anchor=\"middle\" x=\"288.5\" y=\"-230.3\" font-family=\"Times,serif\" font-size=\"14.00\">integer_pow</text>\n",
       "</g>\n",
       "<!-- b&#45;&gt;f -->\n",
       "<g id=\"edge5\" class=\"edge\">\n",
       "<title>b&#45;&gt;f</title>\n",
       "<path fill=\"none\" stroke=\"black\" d=\"M432.22,-292.16C406.7,-282.01 370.56,-267.64 340.9,-255.84\"/>\n",
       "<polygon fill=\"black\" stroke=\"black\" points=\"342.11,-252.55 331.52,-252.11 339.52,-259.06 342.11,-252.55\"/>\n",
       "</g>\n",
       "<!-- g -->\n",
       "<g id=\"node8\" class=\"node\">\n",
       "<title>g</title>\n",
       "<polygon fill=\"lightskyblue\" stroke=\"lightskyblue\" points=\"692,-252 591,-252 591,-216 692,-216 692,-252\"/>\n",
       "<text text-anchor=\"middle\" x=\"641.5\" y=\"-230.3\" font-family=\"Times,serif\" font-size=\"14.00\">integer_pow</text>\n",
       "</g>\n",
       "<!-- b&#45;&gt;g -->\n",
       "<g id=\"edge6\" class=\"edge\">\n",
       "<title>b&#45;&gt;g</title>\n",
       "<path fill=\"none\" stroke=\"black\" d=\"M496.96,-292.16C522.63,-282.01 558.98,-267.64 588.8,-255.84\"/>\n",
       "<polygon fill=\"black\" stroke=\"black\" points=\"590.22,-259.04 598.23,-252.11 587.65,-252.53 590.22,-259.04\"/>\n",
       "</g>\n",
       "<!-- _ -->\n",
       "<g id=\"node11\" class=\"node\">\n",
       "<title>_</title>\n",
       "<polygon fill=\"lightskyblue\" stroke=\"lightskyblue\" points=\"219.5,-180 165.5,-180 165.5,-144 219.5,-144 219.5,-180\"/>\n",
       "<text text-anchor=\"middle\" x=\"192.5\" y=\"-158.3\" font-family=\"Times,serif\" font-size=\"14.00\">add</text>\n",
       "</g>\n",
       "<!-- c&#45;&gt;_ -->\n",
       "<g id=\"edge9\" class=\"edge\">\n",
       "<title>c&#45;&gt;_</title>\n",
       "<path fill=\"none\" stroke=\"black\" d=\"M85.24,-215.88C106.69,-205.3 134.19,-191.74 155.97,-181.01\"/>\n",
       "<polygon fill=\"black\" stroke=\"black\" points=\"157.81,-184 165.23,-176.44 154.71,-177.73 157.81,-184\"/>\n",
       "</g>\n",
       "<!-- e -->\n",
       "<g id=\"node6\" class=\"node\">\n",
       "<title>e</title>\n",
       "<polygon fill=\"lightskyblue\" stroke=\"lightskyblue\" points=\"397.5,-180 343.5,-180 343.5,-144 397.5,-144 397.5,-180\"/>\n",
       "<text text-anchor=\"middle\" x=\"370.5\" y=\"-158.3\" font-family=\"Times,serif\" font-size=\"14.00\">mul</text>\n",
       "</g>\n",
       "<!-- d&#45;&gt;e -->\n",
       "<g id=\"edge4\" class=\"edge\">\n",
       "<title>d&#45;&gt;e</title>\n",
       "<path fill=\"none\" stroke=\"black\" d=\"M218.41,-215.97C254.01,-203.57 301.45,-187.05 333.82,-175.77\"/>\n",
       "<polygon fill=\"black\" stroke=\"black\" points=\"335.06,-179.05 343.35,-172.45 332.76,-172.44 335.06,-179.05\"/>\n",
       "</g>\n",
       "<!-- 140351575572432 -->\n",
       "<g id=\"node5\" class=\"node\">\n",
       "<title>140351575572432</title>\n",
       "<ellipse fill=\"#ffc125\" stroke=\"#ffc125\" cx=\"406.5\" cy=\"-234\" rx=\"49.29\" ry=\"18\"/>\n",
       "<text text-anchor=\"middle\" x=\"406.5\" y=\"-230.3\" font-family=\"Times,serif\" font-size=\"14.00\">float32[]</text>\n",
       "</g>\n",
       "<!-- 140351575572432&#45;&gt;e -->\n",
       "<g id=\"edge3\" class=\"edge\">\n",
       "<title>140351575572432&#45;&gt;e</title>\n",
       "<path fill=\"none\" stroke=\"black\" d=\"M397.79,-216.05C393.65,-208.01 388.61,-198.2 383.99,-189.23\"/>\n",
       "<polygon fill=\"black\" stroke=\"black\" points=\"387.07,-187.57 379.38,-180.28 380.85,-190.77 387.07,-187.57\"/>\n",
       "</g>\n",
       "<!-- j -->\n",
       "<g id=\"node14\" class=\"node\">\n",
       "<title>j</title>\n",
       "<polygon fill=\"lightskyblue\" stroke=\"lightskyblue\" points=\"445.5,-108 391.5,-108 391.5,-72 445.5,-72 445.5,-108\"/>\n",
       "<text text-anchor=\"middle\" x=\"418.5\" y=\"-86.3\" font-family=\"Times,serif\" font-size=\"14.00\">mul</text>\n",
       "</g>\n",
       "<!-- e&#45;&gt;j -->\n",
       "<g id=\"edge14\" class=\"edge\">\n",
       "<title>e&#45;&gt;j</title>\n",
       "<path fill=\"none\" stroke=\"black\" d=\"M382.37,-143.7C388,-135.47 394.85,-125.48 401.07,-116.42\"/>\n",
       "<polygon fill=\"black\" stroke=\"black\" points=\"404,-118.33 406.77,-108.1 398.23,-114.37 404,-118.33\"/>\n",
       "</g>\n",
       "<!-- f&#45;&gt;_ -->\n",
       "<g id=\"edge10\" class=\"edge\">\n",
       "<title>f&#45;&gt;_</title>\n",
       "<path fill=\"none\" stroke=\"black\" d=\"M264.77,-215.7C252.56,-206.8 237.51,-195.82 224.32,-186.2\"/>\n",
       "<polygon fill=\"black\" stroke=\"black\" points=\"226.1,-183.17 215.96,-180.1 221.98,-188.82 226.1,-183.17\"/>\n",
       "</g>\n",
       "<!-- h -->\n",
       "<g id=\"node10\" class=\"node\">\n",
       "<title>h</title>\n",
       "<polygon fill=\"lightskyblue\" stroke=\"lightskyblue\" points=\"585.5,-180 531.5,-180 531.5,-144 585.5,-144 585.5,-180\"/>\n",
       "<text text-anchor=\"middle\" x=\"558.5\" y=\"-158.3\" font-family=\"Times,serif\" font-size=\"14.00\">mul</text>\n",
       "</g>\n",
       "<!-- g&#45;&gt;h -->\n",
       "<g id=\"edge8\" class=\"edge\">\n",
       "<title>g&#45;&gt;h</title>\n",
       "<path fill=\"none\" stroke=\"black\" d=\"M620.98,-215.7C610.63,-206.97 597.91,-196.24 586.66,-186.75\"/>\n",
       "<polygon fill=\"black\" stroke=\"black\" points=\"588.68,-183.88 578.78,-180.1 584.17,-189.23 588.68,-183.88\"/>\n",
       "</g>\n",
       "<!-- 140351570488368 -->\n",
       "<g id=\"node9\" class=\"node\">\n",
       "<title>140351570488368</title>\n",
       "<ellipse fill=\"#ffc125\" stroke=\"#ffc125\" cx=\"523.5\" cy=\"-234\" rx=\"49.29\" ry=\"18\"/>\n",
       "<text text-anchor=\"middle\" x=\"523.5\" y=\"-230.3\" font-family=\"Times,serif\" font-size=\"14.00\">float32[]</text>\n",
       "</g>\n",
       "<!-- 140351570488368&#45;&gt;h -->\n",
       "<g id=\"edge7\" class=\"edge\">\n",
       "<title>140351570488368&#45;&gt;h</title>\n",
       "<path fill=\"none\" stroke=\"black\" d=\"M531.97,-216.05C536,-208.01 540.9,-198.2 545.39,-189.23\"/>\n",
       "<polygon fill=\"black\" stroke=\"black\" points=\"548.52,-190.78 549.86,-180.28 542.26,-187.65 548.52,-190.78\"/>\n",
       "</g>\n",
       "<!-- i -->\n",
       "<g id=\"node13\" class=\"node\">\n",
       "<title>i</title>\n",
       "<polygon fill=\"lightskyblue\" stroke=\"lightskyblue\" points=\"536.5,-108 482.5,-108 482.5,-72 536.5,-72 536.5,-108\"/>\n",
       "<text text-anchor=\"middle\" x=\"509.5\" y=\"-86.3\" font-family=\"Times,serif\" font-size=\"14.00\">mul</text>\n",
       "</g>\n",
       "<!-- h&#45;&gt;i -->\n",
       "<g id=\"edge12\" class=\"edge\">\n",
       "<title>h&#45;&gt;i</title>\n",
       "<path fill=\"none\" stroke=\"black\" d=\"M546.39,-143.7C540.63,-135.47 533.64,-125.48 527.29,-116.42\"/>\n",
       "<polygon fill=\"black\" stroke=\"black\" points=\"530.08,-114.29 521.47,-108.1 524.34,-118.3 530.08,-114.29\"/>\n",
       "</g>\n",
       "<!-- 140351348920656 -->\n",
       "<g id=\"node12\" class=\"node\">\n",
       "<title>140351348920656</title>\n",
       "<ellipse fill=\"#ffc125\" stroke=\"#ffc125\" cx=\"464.5\" cy=\"-162\" rx=\"49.29\" ry=\"18\"/>\n",
       "<text text-anchor=\"middle\" x=\"464.5\" y=\"-158.3\" font-family=\"Times,serif\" font-size=\"14.00\">float32[]</text>\n",
       "</g>\n",
       "<!-- 140351348920656&#45;&gt;i -->\n",
       "<g id=\"edge11\" class=\"edge\">\n",
       "<title>140351348920656&#45;&gt;i</title>\n",
       "<path fill=\"none\" stroke=\"black\" d=\"M475.16,-144.41C480.44,-136.2 486.94,-126.1 492.85,-116.9\"/>\n",
       "<polygon fill=\"black\" stroke=\"black\" points=\"495.82,-118.75 498.28,-108.45 489.93,-114.97 495.82,-118.75\"/>\n",
       "</g>\n",
       "<!-- 140351348920656&#45;&gt;j -->\n",
       "<g id=\"edge13\" class=\"edge\">\n",
       "<title>140351348920656&#45;&gt;j</title>\n",
       "<path fill=\"none\" stroke=\"black\" d=\"M453.6,-144.41C448.2,-136.2 441.57,-126.1 435.52,-116.9\"/>\n",
       "<polygon fill=\"black\" stroke=\"black\" points=\"438.38,-114.88 429.97,-108.45 432.53,-118.73 438.38,-114.88\"/>\n",
       "</g>\n",
       "<!-- out_1 -->\n",
       "<g id=\"node16\" class=\"node\">\n",
       "<title>out_1</title>\n",
       "<ellipse fill=\"#ff6a6a\" stroke=\"black\" stroke-dasharray=\"5,2\" cx=\"509.5\" cy=\"-18\" rx=\"36\" ry=\"18\"/>\n",
       "<text text-anchor=\"middle\" x=\"509.5\" y=\"-14.3\" font-family=\"Times,serif\" font-size=\"14.00\">out_1</text>\n",
       "</g>\n",
       "<!-- i&#45;&gt;out_1 -->\n",
       "<g id=\"edge16\" class=\"edge\">\n",
       "<title>i&#45;&gt;out_1</title>\n",
       "<path fill=\"none\" stroke=\"black\" d=\"M509.5,-71.7C509.5,-63.98 509.5,-54.71 509.5,-46.11\"/>\n",
       "<polygon fill=\"black\" stroke=\"black\" points=\"513,-46.1 509.5,-36.1 506,-46.1 513,-46.1\"/>\n",
       "</g>\n",
       "<!-- out_0 -->\n",
       "<g id=\"node15\" class=\"node\">\n",
       "<title>out_0</title>\n",
       "<ellipse fill=\"#ff6a6a\" stroke=\"black\" stroke-dasharray=\"5,2\" cx=\"418.5\" cy=\"-18\" rx=\"36\" ry=\"18\"/>\n",
       "<text text-anchor=\"middle\" x=\"418.5\" y=\"-14.3\" font-family=\"Times,serif\" font-size=\"14.00\">out_0</text>\n",
       "</g>\n",
       "<!-- j&#45;&gt;out_0 -->\n",
       "<g id=\"edge15\" class=\"edge\">\n",
       "<title>j&#45;&gt;out_0</title>\n",
       "<path fill=\"none\" stroke=\"black\" d=\"M418.5,-71.7C418.5,-63.98 418.5,-54.71 418.5,-46.11\"/>\n",
       "<polygon fill=\"black\" stroke=\"black\" points=\"422,-46.1 418.5,-36.1 415,-46.1 422,-46.1\"/>\n",
       "</g>\n",
       "</g>\n",
       "</svg>\n"
      ],
      "text/plain": [
       "<graphviz.graphs.Digraph at 0x7fa6257c8550>"
      ]
     },
     "execution_count": 9,
     "metadata": {},
     "output_type": "execute_result"
    }
   ],
   "source": [
    "util.jaxpr_graph(df, 2.0, 3.0)"
   ]
  },
  {
   "cell_type": "code",
   "execution_count": 10,
   "metadata": {},
   "outputs": [
    {
     "data": {
      "text/plain": [
       "(13.0,\n",
       " (Array(4., dtype=float32, weak_type=True),\n",
       "  Array(0., dtype=float32, weak_type=True)))"
      ]
     },
     "execution_count": 10,
     "metadata": {},
     "output_type": "execute_result"
    }
   ],
   "source": [
    "from jax.lax import stop_gradient\n",
    "\n",
    "\n",
    "def f(x, y):\n",
    "    return x**2 + stop_gradient(y**2)\n",
    "\n",
    "\n",
    "df = grad(f, argnums=(0, 1), has_aux=False)\n",
    "\n",
    "f(2.0, 3.0), df(2.0, 3.0)"
   ]
  },
  {
   "cell_type": "code",
   "execution_count": 11,
   "metadata": {},
   "outputs": [
    {
     "data": {
      "text/plain": [
       "{ lambda ; a:f32[] b:f32[]. let\n",
       "    c:f32[] = integer_pow[y=2] a\n",
       "    d:f32[] = integer_pow[y=1] a\n",
       "    e:f32[] = mul 2.0 d\n",
       "    f:f32[] = integer_pow[y=2] b\n",
       "    g:f32[] = integer_pow[y=1] b\n",
       "    _:f32[] = mul 2.0 g\n",
       "    h:f32[] = stop_gradient f\n",
       "    _:f32[] = add c h\n",
       "    i:f32[] = mul 1.0 e\n",
       "  in (i, 0.0) }"
      ]
     },
     "execution_count": 11,
     "metadata": {},
     "output_type": "execute_result"
    }
   ],
   "source": [
    "make_jaxpr(df)(2.0, 3.0)"
   ]
  },
  {
   "cell_type": "code",
   "execution_count": 12,
   "metadata": {},
   "outputs": [
    {
     "data": {
      "image/svg+xml": [
       "<?xml version=\"1.0\" encoding=\"UTF-8\" standalone=\"no\"?>\n",
       "<!DOCTYPE svg PUBLIC \"-//W3C//DTD SVG 1.1//EN\"\n",
       " \"http://www.w3.org/Graphics/SVG/1.1/DTD/svg11.dtd\">\n",
       "<!-- Generated by graphviz version 2.50.0 (0)\n",
       " -->\n",
       "<!-- Pages: 1 -->\n",
       "<svg width=\"432pt\" height=\"251pt\"\n",
       " viewBox=\"0.00 0.00 432.00 250.80\" xmlns=\"http://www.w3.org/2000/svg\" xmlns:xlink=\"http://www.w3.org/1999/xlink\">\n",
       "<g id=\"graph0\" class=\"graph\" transform=\"scale(0.62 0.62) rotate(0) translate(4 400)\">\n",
       "<polygon fill=\"white\" stroke=\"transparent\" points=\"-4,4 -4,-400 691.9,-400 691.9,4 -4,4\"/>\n",
       "<!-- a -->\n",
       "<g id=\"node1\" class=\"node\">\n",
       "<title>a</title>\n",
       "<ellipse fill=\"mediumspringgreen\" stroke=\"mediumspringgreen\" cx=\"460.5\" cy=\"-306\" rx=\"49.29\" ry=\"18\"/>\n",
       "<text text-anchor=\"middle\" x=\"460.5\" y=\"-302.3\" font-family=\"Times,serif\" font-size=\"14.00\">float32[]</text>\n",
       "</g>\n",
       "<!-- c -->\n",
       "<g id=\"node3\" class=\"node\">\n",
       "<title>c</title>\n",
       "<polygon fill=\"lightskyblue\" stroke=\"lightskyblue\" points=\"452,-252 351,-252 351,-216 452,-216 452,-252\"/>\n",
       "<text text-anchor=\"middle\" x=\"401.5\" y=\"-230.3\" font-family=\"Times,serif\" font-size=\"14.00\">integer_pow</text>\n",
       "</g>\n",
       "<!-- a&#45;&gt;c -->\n",
       "<g id=\"edge1\" class=\"edge\">\n",
       "<title>a&#45;&gt;c</title>\n",
       "<path fill=\"none\" stroke=\"black\" d=\"M446.52,-288.41C439.45,-280.03 430.73,-269.68 422.85,-260.33\"/>\n",
       "<polygon fill=\"black\" stroke=\"black\" points=\"425.33,-257.84 416.21,-252.45 419.97,-262.35 425.33,-257.84\"/>\n",
       "</g>\n",
       "<!-- d -->\n",
       "<g id=\"node4\" class=\"node\">\n",
       "<title>d</title>\n",
       "<polygon fill=\"lightskyblue\" stroke=\"lightskyblue\" points=\"571,-252 470,-252 470,-216 571,-216 571,-252\"/>\n",
       "<text text-anchor=\"middle\" x=\"520.5\" y=\"-230.3\" font-family=\"Times,serif\" font-size=\"14.00\">integer_pow</text>\n",
       "</g>\n",
       "<!-- a&#45;&gt;d -->\n",
       "<g id=\"edge2\" class=\"edge\">\n",
       "<title>a&#45;&gt;d</title>\n",
       "<path fill=\"none\" stroke=\"black\" d=\"M474.72,-288.41C481.97,-279.95 490.95,-269.47 499.03,-260.05\"/>\n",
       "<polygon fill=\"black\" stroke=\"black\" points=\"501.7,-262.32 505.55,-252.45 496.38,-257.76 501.7,-262.32\"/>\n",
       "</g>\n",
       "<!-- b -->\n",
       "<g id=\"node2\" class=\"node\">\n",
       "<title>b</title>\n",
       "<ellipse fill=\"mediumspringgreen\" stroke=\"mediumspringgreen\" cx=\"110.5\" cy=\"-378\" rx=\"49.29\" ry=\"18\"/>\n",
       "<text text-anchor=\"middle\" x=\"110.5\" y=\"-374.3\" font-family=\"Times,serif\" font-size=\"14.00\">float32[]</text>\n",
       "</g>\n",
       "<!-- f -->\n",
       "<g id=\"node7\" class=\"node\">\n",
       "<title>f</title>\n",
       "<polygon fill=\"lightskyblue\" stroke=\"lightskyblue\" points=\"220,-324 119,-324 119,-288 220,-288 220,-324\"/>\n",
       "<text text-anchor=\"middle\" x=\"169.5\" y=\"-302.3\" font-family=\"Times,serif\" font-size=\"14.00\">integer_pow</text>\n",
       "</g>\n",
       "<!-- b&#45;&gt;f -->\n",
       "<g id=\"edge5\" class=\"edge\">\n",
       "<title>b&#45;&gt;f</title>\n",
       "<path fill=\"none\" stroke=\"black\" d=\"M124.48,-360.41C131.55,-352.03 140.27,-341.68 148.15,-332.33\"/>\n",
       "<polygon fill=\"black\" stroke=\"black\" points=\"151.03,-334.35 154.79,-324.45 145.67,-329.84 151.03,-334.35\"/>\n",
       "</g>\n",
       "<!-- g -->\n",
       "<g id=\"node8\" class=\"node\">\n",
       "<title>g</title>\n",
       "<polygon fill=\"lightskyblue\" stroke=\"lightskyblue\" points=\"101,-324 0,-324 0,-288 101,-288 101,-324\"/>\n",
       "<text text-anchor=\"middle\" x=\"50.5\" y=\"-302.3\" font-family=\"Times,serif\" font-size=\"14.00\">integer_pow</text>\n",
       "</g>\n",
       "<!-- b&#45;&gt;g -->\n",
       "<g id=\"edge6\" class=\"edge\">\n",
       "<title>b&#45;&gt;g</title>\n",
       "<path fill=\"none\" stroke=\"black\" d=\"M96.28,-360.41C89.03,-351.95 80.05,-341.47 71.97,-332.05\"/>\n",
       "<polygon fill=\"black\" stroke=\"black\" points=\"74.62,-329.76 65.45,-324.45 69.3,-334.32 74.62,-329.76\"/>\n",
       "</g>\n",
       "<!-- _ -->\n",
       "<g id=\"node10\" class=\"node\">\n",
       "<title>_</title>\n",
       "<polygon fill=\"lightskyblue\" stroke=\"lightskyblue\" points=\"249.5,-180 195.5,-180 195.5,-144 249.5,-144 249.5,-180\"/>\n",
       "<text text-anchor=\"middle\" x=\"222.5\" y=\"-158.3\" font-family=\"Times,serif\" font-size=\"14.00\">add</text>\n",
       "</g>\n",
       "<!-- c&#45;&gt;_ -->\n",
       "<g id=\"edge10\" class=\"edge\">\n",
       "<title>c&#45;&gt;_</title>\n",
       "<path fill=\"none\" stroke=\"black\" d=\"M357.71,-215.88C327.53,-204.07 287.86,-188.56 259.31,-177.4\"/>\n",
       "<polygon fill=\"black\" stroke=\"black\" points=\"260.3,-174.02 249.71,-173.64 257.75,-180.54 260.3,-174.02\"/>\n",
       "</g>\n",
       "<!-- e -->\n",
       "<g id=\"node6\" class=\"node\">\n",
       "<title>e</title>\n",
       "<polygon fill=\"lightskyblue\" stroke=\"lightskyblue\" points=\"606.5,-180 552.5,-180 552.5,-144 606.5,-144 606.5,-180\"/>\n",
       "<text text-anchor=\"middle\" x=\"579.5\" y=\"-158.3\" font-family=\"Times,serif\" font-size=\"14.00\">mul</text>\n",
       "</g>\n",
       "<!-- d&#45;&gt;e -->\n",
       "<g id=\"edge4\" class=\"edge\">\n",
       "<title>d&#45;&gt;e</title>\n",
       "<path fill=\"none\" stroke=\"black\" d=\"M535.08,-215.7C542.16,-207.3 550.78,-197.07 558.55,-187.86\"/>\n",
       "<polygon fill=\"black\" stroke=\"black\" points=\"561.31,-190.01 565.08,-180.1 555.96,-185.49 561.31,-190.01\"/>\n",
       "</g>\n",
       "<!-- 140351348922896 -->\n",
       "<g id=\"node5\" class=\"node\">\n",
       "<title>140351348922896</title>\n",
       "<ellipse fill=\"#ffc125\" stroke=\"#ffc125\" cx=\"638.5\" cy=\"-234\" rx=\"49.29\" ry=\"18\"/>\n",
       "<text text-anchor=\"middle\" x=\"638.5\" y=\"-230.3\" font-family=\"Times,serif\" font-size=\"14.00\">float32[]</text>\n",
       "</g>\n",
       "<!-- 140351348922896&#45;&gt;e -->\n",
       "<g id=\"edge3\" class=\"edge\">\n",
       "<title>140351348922896&#45;&gt;e</title>\n",
       "<path fill=\"none\" stroke=\"black\" d=\"M624.52,-216.41C617.45,-208.03 608.73,-197.68 600.85,-188.33\"/>\n",
       "<polygon fill=\"black\" stroke=\"black\" points=\"603.33,-185.84 594.21,-180.45 597.97,-190.35 603.33,-185.84\"/>\n",
       "</g>\n",
       "<!-- i -->\n",
       "<g id=\"node13\" class=\"node\">\n",
       "<title>i</title>\n",
       "<polygon fill=\"lightskyblue\" stroke=\"lightskyblue\" points=\"559.5,-108 505.5,-108 505.5,-72 559.5,-72 559.5,-108\"/>\n",
       "<text text-anchor=\"middle\" x=\"532.5\" y=\"-86.3\" font-family=\"Times,serif\" font-size=\"14.00\">mul</text>\n",
       "</g>\n",
       "<!-- e&#45;&gt;i -->\n",
       "<g id=\"edge13\" class=\"edge\">\n",
       "<title>e&#45;&gt;i</title>\n",
       "<path fill=\"none\" stroke=\"black\" d=\"M567.88,-143.7C562.36,-135.47 555.65,-125.48 549.57,-116.42\"/>\n",
       "<polygon fill=\"black\" stroke=\"black\" points=\"552.46,-114.46 543.98,-108.1 546.65,-118.36 552.46,-114.46\"/>\n",
       "</g>\n",
       "<!-- h -->\n",
       "<g id=\"node11\" class=\"node\">\n",
       "<title>h</title>\n",
       "<polygon fill=\"lightskyblue\" stroke=\"lightskyblue\" points=\"216.5,-252 104.5,-252 104.5,-216 216.5,-216 216.5,-252\"/>\n",
       "<text text-anchor=\"middle\" x=\"160.5\" y=\"-230.3\" font-family=\"Times,serif\" font-size=\"14.00\">stop_gradient</text>\n",
       "</g>\n",
       "<!-- f&#45;&gt;h -->\n",
       "<g id=\"edge9\" class=\"edge\">\n",
       "<title>f&#45;&gt;h</title>\n",
       "<path fill=\"none\" stroke=\"black\" d=\"M167.28,-287.7C166.28,-279.98 165.09,-270.71 163.99,-262.11\"/>\n",
       "<polygon fill=\"black\" stroke=\"black\" points=\"167.45,-261.58 162.7,-252.1 160.5,-262.47 167.45,-261.58\"/>\n",
       "</g>\n",
       "<!-- g&#45;&gt;_ -->\n",
       "<g id=\"edge8\" class=\"edge\">\n",
       "<title>g&#45;&gt;_</title>\n",
       "<path fill=\"none\" stroke=\"black\" d=\"M55.24,-287.7C61.47,-267.95 74.2,-235.81 95.5,-216 120.82,-192.46 158.1,-178.59 185.73,-170.99\"/>\n",
       "<polygon fill=\"black\" stroke=\"black\" points=\"186.63,-174.37 195.43,-168.47 184.87,-167.6 186.63,-174.37\"/>\n",
       "</g>\n",
       "<!-- 140351570489680 -->\n",
       "<g id=\"node9\" class=\"node\">\n",
       "<title>140351570489680</title>\n",
       "<ellipse fill=\"#ffc125\" stroke=\"#ffc125\" cx=\"283.5\" cy=\"-234\" rx=\"49.29\" ry=\"18\"/>\n",
       "<text text-anchor=\"middle\" x=\"283.5\" y=\"-230.3\" font-family=\"Times,serif\" font-size=\"14.00\">float32[]</text>\n",
       "</g>\n",
       "<!-- 140351570489680&#45;&gt;_ -->\n",
       "<g id=\"edge7\" class=\"edge\">\n",
       "<title>140351570489680&#45;&gt;_</title>\n",
       "<path fill=\"none\" stroke=\"black\" d=\"M269.04,-216.41C261.67,-207.95 252.54,-197.47 244.33,-188.05\"/>\n",
       "<polygon fill=\"black\" stroke=\"black\" points=\"246.91,-185.69 237.7,-180.45 241.63,-190.29 246.91,-185.69\"/>\n",
       "</g>\n",
       "<!-- h&#45;&gt;_ -->\n",
       "<g id=\"edge11\" class=\"edge\">\n",
       "<title>h&#45;&gt;_</title>\n",
       "<path fill=\"none\" stroke=\"black\" d=\"M175.83,-215.7C183.26,-207.3 192.32,-197.07 200.48,-187.86\"/>\n",
       "<polygon fill=\"black\" stroke=\"black\" points=\"203.34,-189.91 207.35,-180.1 198.1,-185.27 203.34,-189.91\"/>\n",
       "</g>\n",
       "<!-- 140351348923952 -->\n",
       "<g id=\"node12\" class=\"node\">\n",
       "<title>140351348923952</title>\n",
       "<ellipse fill=\"#ffc125\" stroke=\"#ffc125\" cx=\"485.5\" cy=\"-162\" rx=\"49.29\" ry=\"18\"/>\n",
       "<text text-anchor=\"middle\" x=\"485.5\" y=\"-158.3\" font-family=\"Times,serif\" font-size=\"14.00\">float32[]</text>\n",
       "</g>\n",
       "<!-- 140351348923952&#45;&gt;i -->\n",
       "<g id=\"edge12\" class=\"edge\">\n",
       "<title>140351348923952&#45;&gt;i</title>\n",
       "<path fill=\"none\" stroke=\"black\" d=\"M496.64,-144.41C502.15,-136.2 508.93,-126.1 515.11,-116.9\"/>\n",
       "<polygon fill=\"black\" stroke=\"black\" points=\"518.12,-118.7 520.79,-108.45 512.31,-114.8 518.12,-118.7\"/>\n",
       "</g>\n",
       "<!-- out_0 -->\n",
       "<g id=\"node14\" class=\"node\">\n",
       "<title>out_0</title>\n",
       "<ellipse fill=\"#ff6a6a\" stroke=\"black\" stroke-dasharray=\"5,2\" cx=\"532.5\" cy=\"-18\" rx=\"36\" ry=\"18\"/>\n",
       "<text text-anchor=\"middle\" x=\"532.5\" y=\"-14.3\" font-family=\"Times,serif\" font-size=\"14.00\">out_0</text>\n",
       "</g>\n",
       "<!-- i&#45;&gt;out_0 -->\n",
       "<g id=\"edge14\" class=\"edge\">\n",
       "<title>i&#45;&gt;out_0</title>\n",
       "<path fill=\"none\" stroke=\"black\" d=\"M532.5,-71.7C532.5,-63.98 532.5,-54.71 532.5,-46.11\"/>\n",
       "<polygon fill=\"black\" stroke=\"black\" points=\"536,-46.1 532.5,-36.1 529,-46.1 536,-46.1\"/>\n",
       "</g>\n",
       "<!-- out_1 -->\n",
       "<g id=\"node15\" class=\"node\">\n",
       "<title>out_1</title>\n",
       "<ellipse fill=\"#ff6a6a\" stroke=\"black\" stroke-dasharray=\"5,2\" cx=\"563.5\" cy=\"-306\" rx=\"36\" ry=\"18\"/>\n",
       "<text text-anchor=\"middle\" x=\"563.5\" y=\"-302.3\" font-family=\"Times,serif\" font-size=\"14.00\">out_1</text>\n",
       "</g>\n",
       "<!-- 0.0 -->\n",
       "<g id=\"node16\" class=\"node\">\n",
       "<title>0.0</title>\n",
       "<ellipse fill=\"none\" stroke=\"black\" cx=\"563.5\" cy=\"-378\" rx=\"27\" ry=\"18\"/>\n",
       "<text text-anchor=\"middle\" x=\"563.5\" y=\"-374.3\" font-family=\"Times,serif\" font-size=\"14.00\">0.0</text>\n",
       "</g>\n",
       "<!-- 0.0&#45;&gt;out_1 -->\n",
       "<g id=\"edge15\" class=\"edge\">\n",
       "<title>0.0&#45;&gt;out_1</title>\n",
       "<path fill=\"none\" stroke=\"black\" d=\"M563.5,-359.7C563.5,-351.98 563.5,-342.71 563.5,-334.11\"/>\n",
       "<polygon fill=\"black\" stroke=\"black\" points=\"567,-334.1 563.5,-324.1 560,-334.1 567,-334.1\"/>\n",
       "</g>\n",
       "</g>\n",
       "</svg>\n"
      ],
      "text/plain": [
       "<graphviz.graphs.Digraph at 0x7fa6184eb150>"
      ]
     },
     "execution_count": 12,
     "metadata": {},
     "output_type": "execute_result"
    }
   ],
   "source": [
    "util.jaxpr_graph(df, 2.0, 3.0)"
   ]
  },
  {
   "cell_type": "markdown",
   "metadata": {},
   "source": [
    "# Operators"
   ]
  },
  {
   "cell_type": "markdown",
   "metadata": {},
   "source": [
    "## Broadcast_in_dim"
   ]
  },
  {
   "cell_type": "code",
   "execution_count": 20,
   "metadata": {},
   "outputs": [],
   "source": [
    "import jax\n",
    "import jax.numpy as jnp"
   ]
  },
  {
   "cell_type": "code",
   "execution_count": 22,
   "metadata": {},
   "outputs": [
    {
     "data": {
      "text/plain": [
       "Array([0, 1, 2, 3], dtype=int32)"
      ]
     },
     "execution_count": 22,
     "metadata": {},
     "output_type": "execute_result"
    }
   ],
   "source": [
    "input_array = jnp.arange(4)\n",
    "input_array"
   ]
  },
  {
   "cell_type": "code",
   "execution_count": 24,
   "metadata": {},
   "outputs": [
    {
     "data": {
      "text/plain": [
       "Array([[[0, 1, 2, 3],\n",
       "        [0, 1, 2, 3],\n",
       "        [0, 1, 2, 3]],\n",
       "\n",
       "       [[0, 1, 2, 3],\n",
       "        [0, 1, 2, 3],\n",
       "        [0, 1, 2, 3]]], dtype=int32)"
      ]
     },
     "execution_count": 24,
     "metadata": {},
     "output_type": "execute_result"
    }
   ],
   "source": [
    "out = jax.lax.broadcast_in_dim(operand=input_array,shape=(2,3,4),broadcast_dimensions=(2,))\n",
    "out\n",
    "# here shape is target shape \n",
    "# broadcast_dimensions --> dimension which match the input shape and target shape\n",
    "# input shape -- > (4,)\n",
    "# target_shape --> (2,3,4)\n",
    "# at 2 dimension of target shape match input shape"
   ]
  },
  {
   "cell_type": "code",
   "execution_count": 25,
   "metadata": {},
   "outputs": [
    {
     "data": {
      "text/plain": [
       "Array([[0, 1, 2],\n",
       "       [3, 4, 5]], dtype=int32)"
      ]
     },
     "execution_count": 25,
     "metadata": {},
     "output_type": "execute_result"
    }
   ],
   "source": [
    "input_array = jnp.arange(6).reshape(2,3)\n",
    "input_array"
   ]
  },
  {
   "cell_type": "code",
   "execution_count": 26,
   "metadata": {},
   "outputs": [
    {
     "data": {
      "text/plain": [
       "Array([[[0, 0, 0, 0],\n",
       "        [1, 1, 1, 1],\n",
       "        [2, 2, 2, 2]],\n",
       "\n",
       "       [[3, 3, 3, 3],\n",
       "        [4, 4, 4, 4],\n",
       "        [5, 5, 5, 5]]], dtype=int32)"
      ]
     },
     "execution_count": 26,
     "metadata": {},
     "output_type": "execute_result"
    }
   ],
   "source": [
    "out = jax.lax.broadcast_in_dim(operand=input_array,shape=(2,3,4),broadcast_dimensions=(0,1,))\n",
    "out\n",
    "# here shape is target shape \n",
    "# broadcast_dimensions --> dimension which match the input shape and target shape\n",
    "# input shape -- > (2,3,)\n",
    "# target_shape --> (2,3,4)\n",
    "# at (0,1) dimension of target shape match input shape"
   ]
  },
  {
   "cell_type": "code",
   "execution_count": 28,
   "metadata": {},
   "outputs": [
    {
     "data": {
      "text/plain": [
       "Array([[[0, 1, 2],\n",
       "        [0, 1, 2],\n",
       "        [0, 1, 2],\n",
       "        [0, 1, 2]],\n",
       "\n",
       "       [[3, 4, 5],\n",
       "        [3, 4, 5],\n",
       "        [3, 4, 5],\n",
       "        [3, 4, 5]]], dtype=int32)"
      ]
     },
     "execution_count": 28,
     "metadata": {},
     "output_type": "execute_result"
    }
   ],
   "source": [
    "out = jax.lax.broadcast_in_dim(operand=input_array,shape=(2,4,3),broadcast_dimensions=(0,2,))\n",
    "out\n",
    "# here shape is target shape \n",
    "# broadcast_dimensions --> dimension which match the input shape and target shape\n",
    "# input shape -- > (2,3,)\n",
    "# target_shape --> (2,4,3)\n",
    "# at (0,2) dimension of target shape match input shape"
   ]
  },
  {
   "cell_type": "markdown",
   "metadata": {},
   "source": [
    "# broadcasted_iota\n",
    "\n",
    "increment along specified dimension."
   ]
  },
  {
   "cell_type": "code",
   "execution_count": 3,
   "metadata": {},
   "outputs": [],
   "source": [
    "import jax\n",
    "import jax.numpy as jnp"
   ]
  },
  {
   "cell_type": "code",
   "execution_count": 22,
   "metadata": {},
   "outputs": [
    {
     "data": {
      "text/plain": [
       "Array([[[0, 0, 0, 0],\n",
       "        [0, 0, 0, 0],\n",
       "        [0, 0, 0, 0]],\n",
       "\n",
       "       [[1, 1, 1, 1],\n",
       "        [1, 1, 1, 1],\n",
       "        [1, 1, 1, 1]]], dtype=int32)"
      ]
     },
     "execution_count": 22,
     "metadata": {},
     "output_type": "execute_result"
    }
   ],
   "source": [
    "jax.lax.broadcasted_iota(dtype=jnp.int32,shape=(2,3,4),dimension=0)"
   ]
  },
  {
   "cell_type": "code",
   "execution_count": 25,
   "metadata": {},
   "outputs": [
    {
     "data": {
      "text/plain": [
       "Array([[[0, 0, 0, 0],\n",
       "        [1, 1, 1, 1],\n",
       "        [2, 2, 2, 2]],\n",
       "\n",
       "       [[0, 0, 0, 0],\n",
       "        [1, 1, 1, 1],\n",
       "        [2, 2, 2, 2]]], dtype=int32)"
      ]
     },
     "execution_count": 25,
     "metadata": {},
     "output_type": "execute_result"
    }
   ],
   "source": [
    "jax.lax.broadcasted_iota(dtype=jnp.int32,shape=(2,3,4),dimension=1)"
   ]
  },
  {
   "cell_type": "code",
   "execution_count": 26,
   "metadata": {},
   "outputs": [
    {
     "data": {
      "text/plain": [
       "Array([[[0, 1, 2, 3],\n",
       "        [0, 1, 2, 3],\n",
       "        [0, 1, 2, 3]],\n",
       "\n",
       "       [[0, 1, 2, 3],\n",
       "        [0, 1, 2, 3],\n",
       "        [0, 1, 2, 3]]], dtype=int32)"
      ]
     },
     "execution_count": 26,
     "metadata": {},
     "output_type": "execute_result"
    }
   ],
   "source": [
    "jax.lax.broadcasted_iota(dtype=jnp.int32,shape=(2,3,4),dimension=2)"
   ]
  },
  {
   "cell_type": "code",
   "execution_count": 31,
   "metadata": {},
   "outputs": [
    {
     "data": {
      "text/plain": [
       "Array([[[ 0,  1,  2,  3],\n",
       "        [ 4,  5,  6,  7],\n",
       "        [ 8,  9, 10, 11]],\n",
       "\n",
       "       [[12, 13, 14, 15],\n",
       "        [16, 17, 18, 19],\n",
       "        [20, 21, 22, 23]]], dtype=int32)"
      ]
     },
     "execution_count": 31,
     "metadata": {},
     "output_type": "execute_result"
    }
   ],
   "source": [
    "jnp.arange(24).reshape(2,3,4)"
   ]
  },
  {
   "cell_type": "code",
   "execution_count": null,
   "metadata": {},
   "outputs": [],
   "source": []
  }
 ],
 "metadata": {
  "kernelspec": {
   "display_name": "nlp",
   "language": "python",
   "name": "python3"
  },
  "language_info": {
   "codemirror_mode": {
    "name": "ipython",
    "version": 3
   },
   "file_extension": ".py",
   "mimetype": "text/x-python",
   "name": "python",
   "nbconvert_exporter": "python",
   "pygments_lexer": "ipython3",
   "version": "3.11.7"
  }
 },
 "nbformat": 4,
 "nbformat_minor": 2
}
