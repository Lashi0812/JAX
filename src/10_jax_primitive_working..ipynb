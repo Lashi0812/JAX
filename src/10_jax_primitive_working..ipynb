{
 "cells": [
  {
   "cell_type": "markdown",
   "metadata": {},
   "source": [
    "# Using existing primitive"
   ]
  },
  {
   "cell_type": "code",
   "execution_count": 1,
   "metadata": {},
   "outputs": [],
   "source": [
    "import jax\n",
    "jax.config.update('jax_platform_name', 'cpu')"
   ]
  },
  {
   "cell_type": "code",
   "execution_count": 2,
   "metadata": {},
   "outputs": [
    {
     "data": {
      "text/plain": [
       "Array(14, dtype=int32, weak_type=True)"
      ]
     },
     "execution_count": 2,
     "metadata": {},
     "output_type": "execute_result"
    }
   ],
   "source": [
    "def mul_add_lax(x, y, z):\n",
    "    return jax.lax.add(jax.lax.mul(x, y), z)\n",
    "\n",
    "\n",
    "def square_add_lax(x, y):\n",
    "    return mul_add_lax(x, x, y)\n",
    "\n",
    "\n",
    "square_add_lax(2, 10)"
   ]
  },
  {
   "cell_type": "code",
   "execution_count": 3,
   "metadata": {},
   "outputs": [
    {
     "data": {
      "text/plain": [
       "Array(4., dtype=float32, weak_type=True)"
      ]
     },
     "execution_count": 3,
     "metadata": {},
     "output_type": "execute_result"
    }
   ],
   "source": [
    "jax.grad(square_add_lax)(2.0, 10.0)"
   ]
  },
  {
   "cell_type": "markdown",
   "metadata": {},
   "source": [
    "# Defining the new Primitive"
   ]
  },
  {
   "cell_type": "markdown",
   "metadata": {},
   "source": [
    "## Create new primitive"
   ]
  },
  {
   "cell_type": "code",
   "execution_count": 4,
   "metadata": {},
   "outputs": [
    {
     "data": {
      "text/plain": [
       "jax._src.core.Primitive"
      ]
     },
     "execution_count": 4,
     "metadata": {},
     "output_type": "execute_result"
    }
   ],
   "source": [
    "mul_add_p = jax.core.Primitive(\"mul_add\")\n",
    "type(mul_add_p)"
   ]
  },
  {
   "cell_type": "code",
   "execution_count": 5,
   "metadata": {},
   "outputs": [
    {
     "name": "stdout",
     "output_type": "stream",
     "text": [
      "abstract_eval\n",
      "bind\n",
      "bind_with_trace\n",
      "call_primitive\n",
      "def_abstract_eval\n",
      "def_custom_bind\n",
      "def_effectful_abstract_eval\n",
      "def_impl\n",
      "get_bind_params\n",
      "impl\n",
      "map_primitive\n",
      "multiple_results\n",
      "name\n"
     ]
    }
   ],
   "source": [
    "for attr in dir(mul_add_p):\n",
    "    if not attr.startswith(\"__\"):\n",
    "        print(attr)"
   ]
  },
  {
   "cell_type": "code",
   "execution_count": 6,
   "metadata": {},
   "outputs": [],
   "source": [
    "def mul_add_prim(x,y,z):\n",
    "    return mul_add_p.bind(x,y,z)\n",
    "\n",
    "def square_add_prim(x,y):\n",
    "    return mul_add_prim(x,x,y)"
   ]
  },
  {
   "cell_type": "code",
   "execution_count": 7,
   "metadata": {},
   "outputs": [
    {
     "name": "stdout",
     "output_type": "stream",
     "text": [
      "Evaluation rule for 'mul_add' not implemented\n"
     ]
    }
   ],
   "source": [
    "try:\n",
    "    square_add_prim(2.0,10.)\n",
    "except Exception as e:\n",
    "    print(e)"
   ]
  },
  {
   "cell_type": "markdown",
   "metadata": {},
   "source": [
    "## Define the Evaluation Rule and Register to primitive"
   ]
  },
  {
   "cell_type": "code",
   "execution_count": 8,
   "metadata": {},
   "outputs": [
    {
     "data": {
      "text/plain": [
       "<function __main__.mul_add_impl(x, y, z)>"
      ]
     },
     "execution_count": 8,
     "metadata": {},
     "output_type": "execute_result"
    }
   ],
   "source": [
    "import numpy as np\n",
    "def mul_add_impl(x,y,z):\n",
    "    \"\"\"Note we are using numpy here\"\"\"\n",
    "    return np.add(np.multiply(x,y),z)\n",
    "\n",
    "# register Eval rule to primitive\n",
    "mul_add_p.def_impl(mul_add_impl)"
   ]
  },
  {
   "cell_type": "code",
   "execution_count": 9,
   "metadata": {},
   "outputs": [],
   "source": [
    "assert square_add_prim(2.,10.) == 14"
   ]
  },
  {
   "cell_type": "code",
   "execution_count": 10,
   "metadata": {},
   "outputs": [
    {
     "name": "stdout",
     "output_type": "stream",
     "text": [
      "Abstract evaluation for 'mul_add' not implemented\n"
     ]
    }
   ],
   "source": [
    "try:\n",
    "    jax.jit(square_add_prim)(2.,10.)\n",
    "except Exception as e:\n",
    "    print(e)"
   ]
  },
  {
   "cell_type": "markdown",
   "metadata": {},
   "source": [
    "## Define the Abstraction Eval rule and Register to the primitive"
   ]
  },
  {
   "cell_type": "code",
   "execution_count": 11,
   "metadata": {},
   "outputs": [
    {
     "data": {
      "text/plain": [
       "<function __main__.mul_add_abstract_eval(xs, ys, zs)>"
      ]
     },
     "execution_count": 11,
     "metadata": {},
     "output_type": "execute_result"
    }
   ],
   "source": [
    "def mul_add_abstract_eval(xs,ys,zs):\n",
    "    assert xs.shape == ys.shape\n",
    "    assert xs.shape == zs.shape\n",
    "    return jax.core.ShapedArray(xs.shape,xs.dtype)\n",
    "\n",
    "mul_add_p.def_abstract_eval(mul_add_abstract_eval)"
   ]
  },
  {
   "cell_type": "code",
   "execution_count": 12,
   "metadata": {},
   "outputs": [
    {
     "name": "stdout",
     "output_type": "stream",
     "text": [
      "MLIR translation rule for primitive 'mul_add' not found for platform cpu\n"
     ]
    }
   ],
   "source": [
    "try:\n",
    "    jax.jit(square_add_prim)(2.0,10.)\n",
    "except Exception as e:\n",
    "    print(e)"
   ]
  },
  {
   "cell_type": "markdown",
   "metadata": {},
   "source": [
    "## XLA Compilation Rule\n",
    "\n",
    "Jaxpr --> MLIR Lowering[HLO] "
   ]
  },
  {
   "cell_type": "code",
   "execution_count": 13,
   "metadata": {},
   "outputs": [
    {
     "data": {
      "text/plain": [
       "<function __main__.mul_add_lowering(ctx, xc, yc, zc)>"
      ]
     },
     "execution_count": 13,
     "metadata": {},
     "output_type": "execute_result"
    }
   ],
   "source": [
    "from jax._src.lib.mlir.dialects import hlo\n",
    "def mul_add_lowering(ctx,xc,yc,zc):\n",
    "    return [hlo.AddOp(hlo.MulOp(xc,yc),zc).result]\n",
    "\n",
    "from jax.interpreters import mlir\n",
    "mlir.register_lowering(mul_add_p,mul_add_lowering,platform=\"cpu\")"
   ]
  },
  {
   "cell_type": "code",
   "execution_count": 15,
   "metadata": {},
   "outputs": [
    {
     "data": {
      "text/plain": [
       "Array(14., dtype=float32)"
      ]
     },
     "execution_count": 15,
     "metadata": {},
     "output_type": "execute_result"
    }
   ],
   "source": [
    "jax.jit(square_add_prim)(2.0,10.)"
   ]
  },
  {
   "cell_type": "code",
   "execution_count": null,
   "metadata": {},
   "outputs": [],
   "source": []
  }
 ],
 "metadata": {
  "kernelspec": {
   "display_name": "nlp",
   "language": "python",
   "name": "python3"
  },
  "language_info": {
   "codemirror_mode": {
    "name": "ipython",
    "version": 3
   },
   "file_extension": ".py",
   "mimetype": "text/x-python",
   "name": "python",
   "nbconvert_exporter": "python",
   "pygments_lexer": "ipython3",
   "version": "3.11.7"
  }
 },
 "nbformat": 4,
 "nbformat_minor": 2
}
