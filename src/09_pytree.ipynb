{
 "cells": [
  {
   "cell_type": "markdown",
   "metadata": {},
   "source": [
    "# Pytree\n",
    "\n",
    "By default, pytree containers can be lists, tuples, dicts, namedtuple, None, OrderedDict"
   ]
  },
  {
   "cell_type": "code",
   "execution_count": 1,
   "metadata": {},
   "outputs": [],
   "source": [
    "from jax import tree_util"
   ]
  },
  {
   "cell_type": "code",
   "execution_count": 6,
   "metadata": {},
   "outputs": [
    {
     "data": {
      "text/plain": [
       "([1, 2, 4, 1, 2, 4], PyTreeDef([*, *, *, [*, *, *]]))"
      ]
     },
     "execution_count": 6,
     "metadata": {},
     "output_type": "execute_result"
    }
   ],
   "source": [
    "a = [1, 2, 4, [1, 2, 4]]\n",
    "val, tree = tree_util.tree_flatten(a)\n",
    "val, tree"
   ]
  },
  {
   "cell_type": "code",
   "execution_count": 8,
   "metadata": {},
   "outputs": [
    {
     "data": {
      "text/plain": [
       "[1, 4, 16, [1, 4, 16]]"
      ]
     },
     "execution_count": 8,
     "metadata": {},
     "output_type": "execute_result"
    }
   ],
   "source": [
    "transform_val = map(lambda x: x**2, val)\n",
    "tree_util.tree_unflatten(tree, transform_val)"
   ]
  },
  {
   "cell_type": "code",
   "execution_count": 10,
   "metadata": {},
   "outputs": [],
   "source": [
    "from collections import namedtuple\n",
    "import jax.numpy as jnp\n",
    "\n",
    "Points = namedtuple(\"Points\", \"x y\")\n",
    "examples_container = [\n",
    "    [12, 34, [1, 2, 4], 3],\n",
    "    {\"a\": 3, \"b\": {\"c\": 4, \"d\": 5}},\n",
    "    (1, 24, 5, (2, 35)),\n",
    "    Points(2, 4),\n",
    "    jnp.arange(4),\n",
    "    [[1, 2], (3, 4), {\"a\": 5, \"b\": 6}, Points(7, 8), jnp.arange(8, 10)],\n",
    "]"
   ]
  },
  {
   "cell_type": "code",
   "execution_count": 13,
   "metadata": {},
   "outputs": [],
   "source": [
    "def show_example(structured):\n",
    "    flat, tree = tree_util.tree_flatten(structured)\n",
    "    unflattened = tree_util.tree_unflatten(tree, flat)\n",
    "    print(f\"{structured=}\\n  {flat=}\\n  {tree=}\\n  {unflattened=}\\n\")"
   ]
  },
  {
   "cell_type": "code",
   "execution_count": 14,
   "metadata": {},
   "outputs": [
    {
     "name": "stdout",
     "output_type": "stream",
     "text": [
      "structured=[12, 34, [1, 2, 4], 3]\n",
      "  flat=[12, 34, 1, 2, 4, 3]\n",
      "  tree=PyTreeDef([*, *, [*, *, *], *])\n",
      "  unflattened=[12, 34, [1, 2, 4], 3]\n",
      "\n",
      "structured={'a': 3, 'b': {'c': 4, 'd': 5}}\n",
      "  flat=[3, 4, 5]\n",
      "  tree=PyTreeDef({'a': *, 'b': {'c': *, 'd': *}})\n",
      "  unflattened={'a': 3, 'b': {'c': 4, 'd': 5}}\n",
      "\n",
      "structured=(1, 24, 5, (2, 35))\n",
      "  flat=[1, 24, 5, 2, 35]\n",
      "  tree=PyTreeDef((*, *, *, (*, *)))\n",
      "  unflattened=(1, 24, 5, (2, 35))\n",
      "\n",
      "structured=Points(x=2, y=4)\n",
      "  flat=[2, 4]\n",
      "  tree=PyTreeDef(CustomNode(namedtuple[Points], [*, *]))\n",
      "  unflattened=Points(x=2, y=4)\n",
      "\n",
      "structured=Array([0, 1, 2, 3], dtype=int32)\n",
      "  flat=[Array([0, 1, 2, 3], dtype=int32)]\n",
      "  tree=PyTreeDef(*)\n",
      "  unflattened=Array([0, 1, 2, 3], dtype=int32)\n",
      "\n",
      "structured=[[1, 2], (3, 4), {'a': 5, 'b': 6}, Points(x=7, y=8), Array([8, 9], dtype=int32)]\n",
      "  flat=[1, 2, 3, 4, 5, 6, 7, 8, Array([8, 9], dtype=int32)]\n",
      "  tree=PyTreeDef([[*, *], (*, *), {'a': *, 'b': *}, CustomNode(namedtuple[Points], [*, *]), *])\n",
      "  unflattened=[[1, 2], (3, 4), {'a': 5, 'b': 6}, Points(x=7, y=8), Array([8, 9], dtype=int32)]\n",
      "\n"
     ]
    }
   ],
   "source": [
    "for ex in examples_container:\n",
    "    show_example(ex)"
   ]
  },
  {
   "cell_type": "markdown",
   "metadata": {},
   "source": [
    "# Extending tree"
   ]
  },
  {
   "cell_type": "code",
   "execution_count": 17,
   "metadata": {},
   "outputs": [],
   "source": [
    "from dataclasses import dataclass\n",
    "\n",
    "@dataclass\n",
    "class NotPytree:\n",
    "    x:int\n",
    "    y:int\n",
    "\n",
    "    def __repr__(self) -> str:\n",
    "        return f\"NotPytree(x={self.x},y={self.y})\"\n"
   ]
  },
  {
   "cell_type": "code",
   "execution_count": 18,
   "metadata": {},
   "outputs": [
    {
     "data": {
      "text/plain": [
       "NotPytree(x=3,y=4)"
      ]
     },
     "execution_count": 18,
     "metadata": {},
     "output_type": "execute_result"
    }
   ],
   "source": [
    "NotPytree(3,4)"
   ]
  },
  {
   "cell_type": "code",
   "execution_count": 21,
   "metadata": {},
   "outputs": [
    {
     "data": {
      "text/plain": [
       "([NotPytree(x=3,y=4)], PyTreeDef(*))"
      ]
     },
     "execution_count": 21,
     "metadata": {},
     "output_type": "execute_result"
    }
   ],
   "source": [
    "tree_util.tree_flatten(NotPytree(3,4))\n",
    "#? if the structure is not recognized as internal node , then it is consider as leaf\n",
    "#* we need to register pytree for recognize the internal structure"
   ]
  },
  {
   "cell_type": "code",
   "execution_count": 25,
   "metadata": {},
   "outputs": [],
   "source": [
    "@tree_util.register_pytree_node_class\n",
    "@dataclass\n",
    "class RegisterPytree:\n",
    "    x:int\n",
    "    y:int\n",
    "\n",
    "    def __repr__(self) -> str:\n",
    "        return f\"RegisterPytree(x={self.x},y={self.y})\"\n",
    "    \n",
    "    def tree_flatten(self):\n",
    "        children = (self.x,self.y)\n",
    "        aux = None\n",
    "        return (children,aux)\n",
    "    \n",
    "    @classmethod\n",
    "    def tree_unflatten(cls,aux_data,children):\n",
    "        return cls(*children)"
   ]
  },
  {
   "cell_type": "code",
   "execution_count": 26,
   "metadata": {},
   "outputs": [
    {
     "data": {
      "text/plain": [
       "([3, 4], PyTreeDef(CustomNode(RegisterPytree[None], [*, *])))"
      ]
     },
     "execution_count": 26,
     "metadata": {},
     "output_type": "execute_result"
    }
   ],
   "source": [
    "tree_util.tree_flatten(RegisterPytree(3,4))"
   ]
  },
  {
   "cell_type": "code",
   "execution_count": 27,
   "metadata": {},
   "outputs": [
    {
     "data": {
      "text/plain": [
       "RegisterPytree(x=6,y=8)"
      ]
     },
     "execution_count": 27,
     "metadata": {},
     "output_type": "execute_result"
    }
   ],
   "source": [
    "tree_util.tree_map(lambda x:2*x,RegisterPytree(3,4))"
   ]
  },
  {
   "cell_type": "code",
   "execution_count": null,
   "metadata": {},
   "outputs": [],
   "source": []
  }
 ],
 "metadata": {
  "kernelspec": {
   "display_name": "nlp",
   "language": "python",
   "name": "python3"
  },
  "language_info": {
   "codemirror_mode": {
    "name": "ipython",
    "version": 3
   },
   "file_extension": ".py",
   "mimetype": "text/x-python",
   "name": "python",
   "nbconvert_exporter": "python",
   "pygments_lexer": "ipython3",
   "version": "3.11.7"
  }
 },
 "nbformat": 4,
 "nbformat_minor": 2
}
